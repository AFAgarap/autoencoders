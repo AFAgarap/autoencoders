{
  "nbformat": 4,
  "nbformat_minor": 0,
  "metadata": {
    "colab": {
      "name": "feedfoward_autoencoder.ipynb",
      "version": "0.3.2",
      "provenance": [],
      "collapsed_sections": []
    },
    "kernelspec": {
      "name": "python3",
      "display_name": "Python 3"
    },
    "accelerator": "GPU"
  },
  "cells": [
    {
      "cell_type": "markdown",
      "metadata": {
        "id": "_QKnfJNQISXN",
        "colab_type": "text"
      },
      "source": [
        "# Setup\n",
        "Install TensorFlow 2.0 and import python libraries"
      ]
    },
    {
      "cell_type": "code",
      "metadata": {
        "id": "doNe8btbwQU2",
        "colab_type": "code",
        "outputId": "674b08bc-cb2f-47e2-8737-c1fca638f783",
        "colab": {
          "base_uri": "https://localhost:8080/",
          "height": 513
        }
      },
      "source": [
        "!pip install tensorflow-gpu==2.0.0-beta1"
      ],
      "execution_count": 1,
      "outputs": [
        {
          "output_type": "stream",
          "text": [
            "Collecting tensorflow-gpu==2.0.0-beta1\n",
            "\u001b[?25l  Downloading https://files.pythonhosted.org/packages/2b/53/e18c5e7a2263d3581a979645a185804782e59b8e13f42b9c3c3cfb5bb503/tensorflow_gpu-2.0.0b1-cp36-cp36m-manylinux1_x86_64.whl (348.9MB)\n",
            "\u001b[K     |████████████████████████████████| 348.9MB 85kB/s \n",
            "\u001b[?25hRequirement already satisfied: protobuf>=3.6.1 in /usr/local/lib/python3.6/dist-packages (from tensorflow-gpu==2.0.0-beta1) (3.7.1)\n",
            "Requirement already satisfied: termcolor>=1.1.0 in /usr/local/lib/python3.6/dist-packages (from tensorflow-gpu==2.0.0-beta1) (1.1.0)\n",
            "Collecting tf-estimator-nightly<1.14.0.dev2019060502,>=1.14.0.dev2019060501 (from tensorflow-gpu==2.0.0-beta1)\n",
            "\u001b[?25l  Downloading https://files.pythonhosted.org/packages/32/dd/99c47dd007dcf10d63fd895611b063732646f23059c618a373e85019eb0e/tf_estimator_nightly-1.14.0.dev2019060501-py2.py3-none-any.whl (496kB)\n",
            "\u001b[K     |████████████████████████████████| 501kB 50.2MB/s \n",
            "\u001b[?25hRequirement already satisfied: wheel>=0.26 in /usr/local/lib/python3.6/dist-packages (from tensorflow-gpu==2.0.0-beta1) (0.33.4)\n",
            "Requirement already satisfied: numpy<2.0,>=1.14.5 in /usr/local/lib/python3.6/dist-packages (from tensorflow-gpu==2.0.0-beta1) (1.16.4)\n",
            "Collecting tb-nightly<1.14.0a20190604,>=1.14.0a20190603 (from tensorflow-gpu==2.0.0-beta1)\n",
            "\u001b[?25l  Downloading https://files.pythonhosted.org/packages/a4/96/571b875cd81dda9d5dfa1422a4f9d749e67c0a8d4f4f0b33a4e5f5f35e27/tb_nightly-1.14.0a20190603-py3-none-any.whl (3.1MB)\n",
            "\u001b[K     |████████████████████████████████| 3.1MB 44.6MB/s \n",
            "\u001b[?25hRequirement already satisfied: wrapt>=1.11.1 in /usr/local/lib/python3.6/dist-packages (from tensorflow-gpu==2.0.0-beta1) (1.11.2)\n",
            "Requirement already satisfied: six>=1.10.0 in /usr/local/lib/python3.6/dist-packages (from tensorflow-gpu==2.0.0-beta1) (1.12.0)\n",
            "Requirement already satisfied: google-pasta>=0.1.6 in /usr/local/lib/python3.6/dist-packages (from tensorflow-gpu==2.0.0-beta1) (0.1.7)\n",
            "Requirement already satisfied: keras-applications>=1.0.6 in /usr/local/lib/python3.6/dist-packages (from tensorflow-gpu==2.0.0-beta1) (1.0.8)\n",
            "Requirement already satisfied: absl-py>=0.7.0 in /usr/local/lib/python3.6/dist-packages (from tensorflow-gpu==2.0.0-beta1) (0.7.1)\n",
            "Requirement already satisfied: astor>=0.6.0 in /usr/local/lib/python3.6/dist-packages (from tensorflow-gpu==2.0.0-beta1) (0.8.0)\n",
            "Requirement already satisfied: grpcio>=1.8.6 in /usr/local/lib/python3.6/dist-packages (from tensorflow-gpu==2.0.0-beta1) (1.15.0)\n",
            "Requirement already satisfied: gast>=0.2.0 in /usr/local/lib/python3.6/dist-packages (from tensorflow-gpu==2.0.0-beta1) (0.2.2)\n",
            "Requirement already satisfied: keras-preprocessing>=1.0.5 in /usr/local/lib/python3.6/dist-packages (from tensorflow-gpu==2.0.0-beta1) (1.1.0)\n",
            "Requirement already satisfied: setuptools in /usr/local/lib/python3.6/dist-packages (from protobuf>=3.6.1->tensorflow-gpu==2.0.0-beta1) (41.2.0)\n",
            "Requirement already satisfied: werkzeug>=0.11.15 in /usr/local/lib/python3.6/dist-packages (from tb-nightly<1.14.0a20190604,>=1.14.0a20190603->tensorflow-gpu==2.0.0-beta1) (0.15.5)\n",
            "Requirement already satisfied: markdown>=2.6.8 in /usr/local/lib/python3.6/dist-packages (from tb-nightly<1.14.0a20190604,>=1.14.0a20190603->tensorflow-gpu==2.0.0-beta1) (3.1.1)\n",
            "Requirement already satisfied: h5py in /usr/local/lib/python3.6/dist-packages (from keras-applications>=1.0.6->tensorflow-gpu==2.0.0-beta1) (2.8.0)\n",
            "Installing collected packages: tf-estimator-nightly, tb-nightly, tensorflow-gpu\n",
            "Successfully installed tb-nightly-1.14.0a20190603 tensorflow-gpu-2.0.0b1 tf-estimator-nightly-1.14.0.dev2019060501\n"
          ],
          "name": "stdout"
        }
      ]
    },
    {
      "cell_type": "code",
      "metadata": {
        "id": "_8Xu-7cnrXHi",
        "colab_type": "code",
        "outputId": "711094e8-d8e1-48c3-cb9f-bcba36289459",
        "colab": {
          "base_uri": "https://localhost:8080/",
          "height": 68
        }
      },
      "source": [
        "\"\"\"Implementation of the Feed Forward Autoencoder in TensorFlow 2.0\"\"\"\n",
        "from __future__ import absolute_import\n",
        "from __future__ import division\n",
        "from __future__ import print_function\n",
        "from __future__ import unicode_literals\n",
        "\n",
        "__version__ = '1.0.0'\n",
        "__author__ = 'Richard Ricardo'\n",
        "\n",
        "import numpy as np\n",
        "import matplotlib.pyplot as plt\n",
        "import tensorflow as tf\n",
        "from tensorflow.keras.datasets import mnist\n",
        "from autoencoder import *\n",
        "\n",
        "tf.config.experimental.set_memory_growth(tf.config.experimental.list_physical_devices('GPU')[0], True)\n",
        "tf.random.set_seed(1)\n",
        "np.random.seed(1)\n",
        "\n",
        "print('TensorFlow version:', tf.__version__)\n",
        "print('Is Executing Eagerly?', tf.executing_eagerly())"
      ],
      "execution_count": 2,
      "outputs": [
        {
          "output_type": "stream",
          "text": [
            "Using TensorFlow backend.\n"
          ],
          "name": "stderr"
        },
        {
          "output_type": "stream",
          "text": [
            "TensorFlow version: 2.0.0-beta1\n",
            "Is Executing Eagerly? True\n"
          ],
          "name": "stdout"
        }
      ]
    },
    {
      "cell_type": "markdown",
      "metadata": {
        "id": "fkxRx4H8J7L-",
        "colab_type": "text"
      },
      "source": [
        "# Process the dataset"
      ]
    },
    {
      "cell_type": "code",
      "metadata": {
        "id": "dondbA8qy7TX",
        "colab_type": "code",
        "outputId": "e2e125af-6abe-43df-86e4-cd07b0db09c0",
        "colab": {
          "base_uri": "https://localhost:8080/",
          "height": 139
        }
      },
      "source": [
        "(training_features, _), (test_features, _) = mnist.load_data()\n",
        "\n",
        "training_features = training_features / 255.\n",
        "\n",
        "training_features = training_features.astype(np.float32)\n",
        "training_features = training_features.reshape(training_features.shape[0], 784)\n",
        "test_features = test_features.reshape(test_features.shape[0], 784)\n",
        "\n",
        "training_dataset = tf.data.Dataset.from_tensor_slices(training_features)\n",
        "training_dataset = training_dataset.prefetch(1024)\n",
        "training_dataset = training_dataset.shuffle(1024)\n",
        "training_dataset = training_dataset.batch(128)"
      ],
      "execution_count": 3,
      "outputs": [
        {
          "output_type": "stream",
          "text": [
            "Downloading data from https://storage.googleapis.com/tensorflow/tf-keras-datasets/mnist.npz\n",
            "11493376/11490434 [==============================] - 0s 0us/step\n"
          ],
          "name": "stdout"
        },
        {
          "output_type": "stream",
          "text": [
            "WARNING: Logging before flag parsing goes to stderr.\n",
            "W0825 06:26:02.552144 140228537472896 deprecation.py:323] From /usr/local/lib/python3.6/dist-packages/tensorflow/python/data/util/random_seed.py:58: add_dispatch_support.<locals>.wrapper (from tensorflow.python.ops.array_ops) is deprecated and will be removed in a future version.\n",
            "Instructions for updating:\n",
            "Use tf.where in 2.0, which has the same broadcast rule as np.where\n"
          ],
          "name": "stderr"
        }
      ]
    },
    {
      "cell_type": "markdown",
      "metadata": {
        "id": "Wiu4fC-CIjtw",
        "colab_type": "text"
      },
      "source": [
        "# Autoencoder Class with 1 layer"
      ]
    },
    {
      "cell_type": "markdown",
      "metadata": {
        "id": "gTNRgBjeKC92",
        "colab_type": "text"
      },
      "source": [
        "##Train the Autoencoder Model"
      ]
    },
    {
      "cell_type": "markdown",
      "metadata": {
        "id": "1LMb8I5tC1i_",
        "colab_type": "text"
      },
      "source": [
        "Set the *num_hidden_layer* as **1**, then instantiate the autoencoder model and choose an optimization function. Pass the **intermediate dimension** & **original dimension of the images**, **number of dense layers**, **encoding dimension**, and **decoding dimension**."
      ]
    },
    {
      "cell_type": "code",
      "metadata": {
        "id": "QLjXWx0dpA6D",
        "colab_type": "code",
        "outputId": "194b5700-798d-420b-bb0b-e7cf9f87a4c9",
        "colab": {
          "base_uri": "https://localhost:8080/",
          "height": 34
        }
      },
      "source": [
        "num_hidden_layers = int(input(\"Enter number of hidden layers: \"))"
      ],
      "execution_count": 4,
      "outputs": [
        {
          "output_type": "stream",
          "text": [
            "Enter number of hidden layers: 1\n"
          ],
          "name": "stdout"
        }
      ]
    },
    {
      "cell_type": "code",
      "metadata": {
        "id": "9kPvWaJgs37K",
        "colab_type": "code",
        "outputId": "59d3de85-d9d4-4ca6-89cd-e46d48954838",
        "colab": {
          "base_uri": "https://localhost:8080/",
          "height": 187
        }
      },
      "source": [
        "model = Autoencoder(intermediate_dim=512, code_dim=256, original_dim=784, num_hidden_layers=num_hidden_layers, encoder_decrements=32, decoder_increments=32)\n",
        "\n",
        "train_loop(model, loss, training_dataset, 10)"
      ],
      "execution_count": 5,
      "outputs": [
        {
          "output_type": "stream",
          "text": [
            "Epoch 1/10. Loss: 7.832603931427002\n",
            "Epoch 2/10. Loss: 3.5404231548309326\n",
            "Epoch 3/10. Loss: 3.0518088340759277\n",
            "Epoch 4/10. Loss: 2.784379243850708\n",
            "Epoch 5/10. Loss: 2.628765821456909\n",
            "Epoch 6/10. Loss: 2.521852493286133\n",
            "Epoch 7/10. Loss: 2.4565322399139404\n",
            "Epoch 8/10. Loss: 2.3793017864227295\n",
            "Epoch 9/10. Loss: 2.3438637256622314\n",
            "Epoch 10/10. Loss: 2.300255060195923\n"
          ],
          "name": "stdout"
        }
      ]
    },
    {
      "cell_type": "markdown",
      "metadata": {
        "id": "ykaV6RSMKNdb",
        "colab_type": "text"
      },
      "source": [
        "## Plot the Training Performance"
      ]
    },
    {
      "cell_type": "markdown",
      "metadata": {
        "id": "zKFFK6yoFbPQ",
        "colab_type": "text"
      },
      "source": [
        "Display the model training performance."
      ]
    },
    {
      "cell_type": "code",
      "metadata": {
        "id": "45fFo7Gq1lSg",
        "colab_type": "code",
        "outputId": "9becd35b-18b7-4438-b2a3-0f6b3f261f3e",
        "colab": {
          "base_uri": "https://localhost:8080/",
          "height": 283
        }
      },
      "source": [
        "plt.plot(range(10), model.loss)\n",
        "plt.xlabel('Epochs')\n",
        "plt.ylabel('Loss')\n",
        "plt.show()"
      ],
      "execution_count": 6,
      "outputs": [
        {
          "output_type": "display_data",
          "data": {
            "image/png": "[encoded data removed]",
            "text/plain": [
              "<Figure size 432x288 with 1 Axes>"
            ]
          },
          "metadata": {
            "tags": []
          }
        }
      ]
    },
    {
      "cell_type": "markdown",
      "metadata": {
        "id": "XzFEZOb3KQl7",
        "colab_type": "text"
      },
      "source": [
        "## Display the Model Predictions"
      ]
    },
    {
      "cell_type": "markdown",
      "metadata": {
        "id": "X0wR6R5CFvLU",
        "colab_type": "text"
      },
      "source": [
        "Compare the original images to the reconstruced images of the model."
      ]
    },
    {
      "cell_type": "code",
      "metadata": {
        "id": "KRs5IeJE1n_6",
        "colab_type": "code",
        "outputId": "26a35905-64c0-4fdb-ed9c-ee2ac893b837",
        "colab": {
          "base_uri": "https://localhost:8080/",
          "height": 244
        }
      },
      "source": [
        "number = 10  # Number of digits to display\n",
        "plt.figure(figsize=(20, 4))\n",
        "for index in range(number):\n",
        "    # Display original\n",
        "    ax = plt.subplot(2, number, index + 1)\n",
        "    plt.imshow(test_features[index].reshape(28, 28))\n",
        "    plt.gray()\n",
        "    ax.get_xaxis().set_visible(False)\n",
        "    ax.get_yaxis().set_visible(False)\n",
        "\n",
        "    # Display reconstruction\n",
        "    ax = plt.subplot(2, number, index + 1 + number)\n",
        "    plt.imshow(model(test_features)[index].numpy().reshape(28, 28))\n",
        "    plt.gray()\n",
        "    ax.get_xaxis().set_visible(False)\n",
        "    ax.get_yaxis().set_visible(False)\n",
        "plt.show()"
      ],
      "execution_count": 7,
      "outputs": [
        {
          "output_type": "display_data",
          "data": {
            "image/png": "[encoded data removed]",
            "text/plain": [
              "<Figure size 1440x288 with 20 Axes>"
            ]
          },
          "metadata": {
            "tags": []
          }
        }
      ]
    },
    {
      "cell_type": "markdown",
      "metadata": {
        "id": "0KwGPFj2Ws_L",
        "colab_type": "text"
      },
      "source": [
        "# Autoencoder Class with 3 layers"
      ]
    },
    {
      "cell_type": "markdown",
      "metadata": {
        "colab_type": "text",
        "id": "yZv29_9VWz0D"
      },
      "source": [
        "## Train the Autoencoder Model"
      ]
    },
    {
      "cell_type": "markdown",
      "metadata": {
        "id": "nfS1Evv3EGQ8",
        "colab_type": "text"
      },
      "source": [
        "Set the *num_hidden_layer* as **3**, then instantiate the autoencoder model and choose an optimization function. Pass the **intermediate dimension** & **original dimension of the images**, **number of dense layers**, **encoding dimension**, and **decoding dimension**."
      ]
    },
    {
      "cell_type": "code",
      "metadata": {
        "id": "pe3-SzXKu07D",
        "colab_type": "code",
        "outputId": "32170777-8d66-49a5-b9b6-1a9e1aeaffe8",
        "colab": {
          "base_uri": "https://localhost:8080/",
          "height": 34
        }
      },
      "source": [
        "num_hidden_layers = int(input(\"Enter number of hidden layers: \"))"
      ],
      "execution_count": 8,
      "outputs": [
        {
          "output_type": "stream",
          "text": [
            "Enter number of hidden layers: 3\n"
          ],
          "name": "stdout"
        }
      ]
    },
    {
      "cell_type": "code",
      "metadata": {
        "colab_type": "code",
        "id": "NeKajqLDVTmA",
        "outputId": "13afdfa6-8d41-47a6-ebf4-957b286e6a87",
        "colab": {
          "base_uri": "https://localhost:8080/",
          "height": 187
        }
      },
      "source": [
        "model = Autoencoder(intermediate_dim=512, code_dim=256, original_dim=784, num_hidden_layers=num_hidden_layers, encoder_decrements=32, decoder_increments=32)\n",
        "\n",
        "train_loop(model, loss, training_dataset, 10)"
      ],
      "execution_count": 9,
      "outputs": [
        {
          "output_type": "stream",
          "text": [
            "Epoch 1/10. Loss: 13.715576171875\n",
            "Epoch 2/10. Loss: 6.8095269203186035\n",
            "Epoch 3/10. Loss: 5.8326921463012695\n",
            "Epoch 4/10. Loss: 5.401946067810059\n",
            "Epoch 5/10. Loss: 5.113909721374512\n",
            "Epoch 6/10. Loss: 4.947467803955078\n",
            "Epoch 7/10. Loss: 4.703684329986572\n",
            "Epoch 8/10. Loss: 4.618189811706543\n",
            "Epoch 9/10. Loss: 4.544148921966553\n",
            "Epoch 10/10. Loss: 4.487819671630859\n"
          ],
          "name": "stdout"
        }
      ]
    },
    {
      "cell_type": "markdown",
      "metadata": {
        "colab_type": "text",
        "id": "YmArruvvWz0L"
      },
      "source": [
        "## Plot the Training Performance"
      ]
    },
    {
      "cell_type": "markdown",
      "metadata": {
        "colab_type": "text",
        "id": "nzQKrazQGaLl"
      },
      "source": [
        "Display the model training performance."
      ]
    },
    {
      "cell_type": "code",
      "metadata": {
        "colab_type": "code",
        "id": "hiZV8u0uVKLa",
        "outputId": "78632e6b-68eb-4943-8a7e-dab6e5f8e8fb",
        "colab": {
          "base_uri": "https://localhost:8080/",
          "height": 283
        }
      },
      "source": [
        "plt.plot(range(10), model.loss)\n",
        "plt.xlabel('Epochs')\n",
        "plt.ylabel('Loss')\n",
        "plt.show()"
      ],
      "execution_count": 10,
      "outputs": [
        {
          "output_type": "display_data",
          "data": {
            "image/png": "[encoded data removed]",
            "text/plain": [
              "<Figure size 432x288 with 1 Axes>"
            ]
          },
          "metadata": {
            "tags": []
          }
        }
      ]
    },
    {
      "cell_type": "markdown",
      "metadata": {
        "colab_type": "text",
        "id": "V5v05udcWz0P"
      },
      "source": [
        "## Display the Model Predictions"
      ]
    },
    {
      "cell_type": "markdown",
      "metadata": {
        "colab_type": "text",
        "id": "vS9GoepfGU2y"
      },
      "source": [
        "Compare the original images to the reconstruced images of the model."
      ]
    },
    {
      "cell_type": "code",
      "metadata": {
        "colab_type": "code",
        "id": "Tx0ZJYnHVKMH",
        "outputId": "1d57ed9c-b3a8-4d9f-e002-27798cf6a185",
        "colab": {
          "base_uri": "https://localhost:8080/",
          "height": 244
        }
      },
      "source": [
        "number = 10  # Number of digits to display\n",
        "plt.figure(figsize=(20, 4))\n",
        "for index in range(number):\n",
        "    # Display original\n",
        "    ax = plt.subplot(2, number, index + 1)\n",
        "    plt.imshow(test_features[index].reshape(28, 28))\n",
        "    plt.gray()\n",
        "    ax.get_xaxis().set_visible(False)\n",
        "    ax.get_yaxis().set_visible(False)\n",
        "\n",
        "    # Display reconstruction\n",
        "    ax = plt.subplot(2, number, index + 1 + number)\n",
        "    plt.imshow(model(test_features)[index].numpy().reshape(28, 28))\n",
        "    plt.gray()\n",
        "    ax.get_xaxis().set_visible(False)\n",
        "    ax.get_yaxis().set_visible(False)\n",
        "plt.show()"
      ],
      "execution_count": 11,
      "outputs": [
        {
          "output_type": "display_data",
          "data": {
            "image/png": "[encoded data removed]",
            "text/plain": [
              "<Figure size 1440x288 with 20 Axes>"
            ]
          },
          "metadata": {
            "tags": []
          }
        }
      ]
    },
    {
      "cell_type": "markdown",
      "metadata": {
        "colab_type": "text",
        "id": "FkMfVM3yXBsw"
      },
      "source": [
        "# Autoencoder Class with 5 layers"
      ]
    },
    {
      "cell_type": "markdown",
      "metadata": {
        "colab_type": "text",
        "id": "WO6wrnTlW6C-"
      },
      "source": [
        "## Train the Autoencoder Model"
      ]
    },
    {
      "cell_type": "markdown",
      "metadata": {
        "id": "wRXwZgCTEJIK",
        "colab_type": "text"
      },
      "source": [
        "Set the *num_hidden_layer* as **5**, then instantiate the autoencoder model and choose an optimization function. Pass the **intermediate dimension** & **original dimension of the images**, **number of dense layers**, **encoding dimension**, and **decoding dimension**."
      ]
    },
    {
      "cell_type": "code",
      "metadata": {
        "id": "MR1xK0J8vCH2",
        "colab_type": "code",
        "outputId": "88bab8f7-5682-4204-f7a0-e6d2b6e4ac86",
        "colab": {
          "base_uri": "https://localhost:8080/",
          "height": 34
        }
      },
      "source": [
        "num_hidden_layers = int(input(\"Enter number of hidden layers: \"))"
      ],
      "execution_count": 12,
      "outputs": [
        {
          "output_type": "stream",
          "text": [
            "Enter number of hidden layers: 5\n"
          ],
          "name": "stdout"
        }
      ]
    },
    {
      "cell_type": "code",
      "metadata": {
        "colab_type": "code",
        "id": "beuInT1mV07E",
        "outputId": "a2448ada-faed-48b9-8d9a-d4e5dcbac112",
        "colab": {
          "base_uri": "https://localhost:8080/",
          "height": 187
        }
      },
      "source": [
        "model = Autoencoder(intermediate_dim=512, code_dim=256, original_dim=784, num_hidden_layers=num_hidden_layers, encoder_decrements=32, decoder_increments=32)\n",
        "\n",
        "train_loop(model, loss, training_dataset, 10)"
      ],
      "execution_count": 13,
      "outputs": [
        {
          "output_type": "stream",
          "text": [
            "Epoch 1/10. Loss: 23.072277069091797\n",
            "Epoch 2/10. Loss: 11.910630226135254\n",
            "Epoch 3/10. Loss: 9.656087875366211\n",
            "Epoch 4/10. Loss: 8.572039604187012\n",
            "Epoch 5/10. Loss: 7.838066577911377\n",
            "Epoch 6/10. Loss: 7.357515811920166\n",
            "Epoch 7/10. Loss: 7.085113525390625\n",
            "Epoch 8/10. Loss: 6.754767417907715\n",
            "Epoch 9/10. Loss: 6.4524922370910645\n",
            "Epoch 10/10. Loss: 6.408566474914551\n"
          ],
          "name": "stdout"
        }
      ]
    },
    {
      "cell_type": "markdown",
      "metadata": {
        "colab_type": "text",
        "id": "azlbQ0PxW6DD"
      },
      "source": [
        "## Plot the Training Performance"
      ]
    },
    {
      "cell_type": "markdown",
      "metadata": {
        "id": "19Fuu3vsGg-R",
        "colab_type": "text"
      },
      "source": [
        "Display the model training performance."
      ]
    },
    {
      "cell_type": "code",
      "metadata": {
        "colab_type": "code",
        "id": "uGziAYjpV07Z",
        "outputId": "a319d6b2-3164-49ce-9abc-2c4966290252",
        "colab": {
          "base_uri": "https://localhost:8080/",
          "height": 283
        }
      },
      "source": [
        "plt.plot(range(10), model.loss)\n",
        "plt.xlabel('Epochs')\n",
        "plt.ylabel('Loss')\n",
        "plt.show()"
      ],
      "execution_count": 14,
      "outputs": [
        {
          "output_type": "display_data",
          "data": {
            "image/png": "[encoded data removed]",
            "text/plain": [
              "<Figure size 432x288 with 1 Axes>"
            ]
          },
          "metadata": {
            "tags": []
          }
        }
      ]
    },
    {
      "cell_type": "markdown",
      "metadata": {
        "colab_type": "text",
        "id": "T5mQYJeiW6DG"
      },
      "source": [
        "## Display the Model Predictions"
      ]
    },
    {
      "cell_type": "markdown",
      "metadata": {
        "colab_type": "text",
        "id": "i3q6W_ooGWo9"
      },
      "source": [
        "Compare the original images to the reconstruced images of the model."
      ]
    },
    {
      "cell_type": "code",
      "metadata": {
        "colab_type": "code",
        "id": "ktdDMi-_V07k",
        "outputId": "927705d3-d605-4f84-84d3-82904b56048f",
        "colab": {
          "base_uri": "https://localhost:8080/",
          "height": 244
        }
      },
      "source": [
        "number = 10  # Number of digits to display\n",
        "plt.figure(figsize=(20, 4))\n",
        "for index in range(number):\n",
        "    # Display original\n",
        "    ax = plt.subplot(2, number, index + 1)\n",
        "    plt.imshow(test_features[index].reshape(28, 28))\n",
        "    plt.gray()\n",
        "    ax.get_xaxis().set_visible(False)\n",
        "    ax.get_yaxis().set_visible(False)\n",
        "\n",
        "    # Display reconstruction\n",
        "    ax = plt.subplot(2, number, index + 1 + number)\n",
        "    plt.imshow(model(test_features)[index].numpy().reshape(28, 28))\n",
        "    plt.gray()\n",
        "    ax.get_xaxis().set_visible(False)\n",
        "    ax.get_yaxis().set_visible(False)\n",
        "plt.show()"
      ],
      "execution_count": 15,
      "outputs": [
        {
          "output_type": "display_data",
          "data": {
            "image/png": "[encoded data removed]",
            "text/plain": [
              "<Figure size 1440x288 with 20 Axes>"
            ]
          },
          "metadata": {
            "tags": []
          }
        }
      ]
    }
  ]
}