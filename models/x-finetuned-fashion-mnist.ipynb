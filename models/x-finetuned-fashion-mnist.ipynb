{
 "cells": [
  {
   "cell_type": "markdown",
   "metadata": {
    "colab_type": "text",
    "id": "7_r_yVCVpS85"
   },
   "source": [
    "Pretraining Autoencoder for Downstream Task\n",
    "=====\n",
    "\n",
    "## Overview \n",
    "\n",
    "In this notebook, we use the pretrained encoder of a mini VGG-based autoencoder as a feature extractor for a neural network.\n",
    "\n",
    "## Setup \n",
    "\n",
    "We setup our dependencies."
   ]
  },
  {
   "cell_type": "code",
   "execution_count": 1,
   "metadata": {
    "colab": {},
    "colab_type": "code",
    "id": "_x8jUvV5leuX"
   },
   "outputs": [],
   "source": [
    "from __future__ import absolute_import\n",
    "from __future__ import division\n",
    "from __future__ import print_function\n",
    "\n",
    "__author__ = 'Abien Fred Agarap'\n",
    "__version__ = '1.0.0'\n",
    "\n",
    "import matplotlib.pyplot as plt\n",
    "import numpy as np\n",
    "import tensorflow as tf\n",
    "from tensorflow.keras.datasets import fashion_mnist\n",
    "from tf.vgg_ae import CAE"
   ]
  },
  {
   "cell_type": "markdown",
   "metadata": {
    "colab_type": "text",
    "id": "lKkvrPNbpmb8"
   },
   "source": [
    "Set the memory growth of GPU."
   ]
  },
  {
   "cell_type": "code",
   "execution_count": 2,
   "metadata": {
    "colab": {},
    "colab_type": "code",
    "id": "LfY3Gcevodo7"
   },
   "outputs": [],
   "source": [
    "tf.config.experimental.set_memory_growth(\n",
    "    tf.config.experimental.list_physical_devices('GPU')[0],\n",
    "    True\n",
    ")"
   ]
  },
  {
   "cell_type": "markdown",
   "metadata": {
    "colab_type": "text",
    "id": "jdguwL96ppDp"
   },
   "source": [
    "Set the random number generator seed value."
   ]
  },
  {
   "cell_type": "code",
   "execution_count": 3,
   "metadata": {
    "colab": {},
    "colab_type": "code",
    "id": "7MjqEUjAoj4m"
   },
   "outputs": [],
   "source": [
    "SEED = 42\n",
    "tf.random.set_seed(SEED)\n",
    "np.random.seed(SEED)"
   ]
  },
  {
   "cell_type": "markdown",
   "metadata": {
    "colab_type": "text",
    "id": "1gZK7wlTpq-Y"
   },
   "source": [
    "We set the batch size and epochs."
   ]
  },
  {
   "cell_type": "code",
   "execution_count": 4,
   "metadata": {
    "colab": {},
    "colab_type": "code",
    "id": "usw0kmm4mLIi"
   },
   "outputs": [],
   "source": [
    "batch_size = 512\n",
    "epochs = 100"
   ]
  },
  {
   "cell_type": "markdown",
   "metadata": {
    "colab_type": "text",
    "id": "Lq07vmTBps03"
   },
   "source": [
    "## Dataset\n",
    "\n",
    "We load the MNIST classification dataset."
   ]
  },
  {
   "cell_type": "code",
   "execution_count": 5,
   "metadata": {
    "colab": {},
    "colab_type": "code",
    "id": "0sO1dA2AltFx"
   },
   "outputs": [],
   "source": [
    "(train_features, train_labels), (test_features, test_labels) = fashion_mnist.load_data()"
   ]
  },
  {
   "cell_type": "markdown",
   "metadata": {
    "colab_type": "text",
    "id": "E8wet1ezpxkh"
   },
   "source": [
    "We preprocess the MNIST dataset."
   ]
  },
  {
   "cell_type": "code",
   "execution_count": 6,
   "metadata": {
    "colab": {},
    "colab_type": "code",
    "id": "qmqsR2ORmQ3I"
   },
   "outputs": [],
   "source": [
    "train_features = train_features.reshape(-1, 28, 28, 1)\n",
    "\n",
    "train_features = train_features.astype('float32')\n",
    "train_features = train_features / 255.\n",
    "\n",
    "test_features = test_features.reshape(-1, 28, 28, 1)\n",
    "\n",
    "test_features = test_features.astype('float32')\n",
    "test_features = test_features / 255.\n",
    "\n",
    "train_labels = tf.one_hot(train_labels, len(np.unique(train_labels)))\n",
    "test_labels = tf.one_hot(test_labels, len(np.unique(test_labels)))"
   ]
  },
  {
   "cell_type": "markdown",
   "metadata": {
    "colab_type": "text",
    "id": "fHbIO76hpzrV"
   },
   "source": [
    "Create the `tf.data.Dataset` object for training and evaluation."
   ]
  },
  {
   "cell_type": "code",
   "execution_count": 7,
   "metadata": {
    "colab": {},
    "colab_type": "code",
    "id": "cOCne-f8nX93"
   },
   "outputs": [],
   "source": [
    "train_dataset = tf.data.Dataset.from_tensor_slices((train_features, train_labels))\n",
    "train_dataset = train_dataset.batch(batch_size)\n",
    "train_dataset = train_dataset.prefetch(batch_size * 4)\n",
    "train_dataset = train_dataset.shuffle(train_features.shape[0])\n",
    "\n",
    "test_dataset = tf.data.Dataset.from_tensor_slices((test_features, test_labels))\n",
    "test_dataset = train_dataset.batch(batch_size)\n",
    "test_dataset = train_dataset.prefetch(batch_size * 4)\n",
    "test_dataset = train_dataset.shuffle(test_features.shape[0])"
   ]
  },
  {
   "cell_type": "markdown",
   "metadata": {
    "colab_type": "text",
    "id": "rCn-hGv8p3BY"
   },
   "source": [
    "Instantiate the mini VGG-based autoencoder model."
   ]
  },
  {
   "cell_type": "code",
   "execution_count": 8,
   "metadata": {
    "colab": {},
    "colab_type": "code",
    "id": "VSZapOyLo1go"
   },
   "outputs": [],
   "source": [
    "model = CVAE(input_shape=(28, 28, 1), latent_dim=32)"
   ]
  },
  {
   "cell_type": "markdown",
   "metadata": {
    "colab_type": "text",
    "id": "Qcc25PNcp6rw"
   },
   "source": [
    "Compile the model."
   ]
  },
  {
   "cell_type": "code",
   "execution_count": 9,
   "metadata": {
    "colab": {},
    "colab_type": "code",
    "id": "MZUJd0VUo6rq"
   },
   "outputs": [],
   "source": [
    "model.compile(loss=tf.losses.mean_squared_error, optimizer=tf.optimizers.Adam(learning_rate=1e-3))"
   ]
  },
  {
   "cell_type": "markdown",
   "metadata": {
    "colab_type": "text",
    "id": "PJ3AodaTp7yv"
   },
   "source": [
    "Load the trained autoencoder model."
   ]
  },
  {
   "cell_type": "code",
   "execution_count": 10,
   "metadata": {
    "colab": {
     "base_uri": "https://localhost:8080/",
     "height": 34
    },
    "colab_type": "code",
    "id": "ijzOdvBgnhHb",
    "outputId": "fede51ac-10cd-40a8-dc87-b22894f10c37"
   },
   "outputs": [
    {
     "data": {
      "text/plain": [
       "<tensorflow.python.training.tracking.util.CheckpointLoadStatus at 0x7efd9017b860>"
      ]
     },
     "execution_count": 10,
     "metadata": {},
     "output_type": "execute_result"
    }
   ],
   "source": [
    "model.load_weights('../assets/export/fashion_mnist/mini_vgg_ae_fashion_mnist')"
   ]
  },
  {
   "cell_type": "markdown",
   "metadata": {
    "colab_type": "text",
    "id": "zT-9_JPVp99K"
   },
   "source": [
    "Visualize the test data and the model reconstructions."
   ]
  },
  {
   "cell_type": "code",
   "execution_count": 11,
   "metadata": {
    "colab": {
     "base_uri": "https://localhost:8080/",
     "height": 248
    },
    "colab_type": "code",
    "id": "xGCqNT8Fmh3i",
    "outputId": "99f1684e-6d56-4759-edd8-ad83495d8e4a"
   },
   "outputs": [
    {
     "data": {
      "image/png": "[encoded data removed]",
      "text/plain": [
       "<Figure size 1440x288 with 20 Axes>"
      ]
     },
     "metadata": {
      "needs_background": "light"
     },
     "output_type": "display_data"
    }
   ],
   "source": [
    "number = 10\n",
    "plt.figure(figsize=(20, 4))\n",
    "for index in range(number):\n",
    "    # display original\n",
    "    ax = plt.subplot(2, number, index + 1)\n",
    "    plt.imshow(test_features[index].reshape(28, 28))\n",
    "    plt.gray()\n",
    "    ax.get_xaxis().set_visible(False)\n",
    "    ax.get_yaxis().set_visible(False)\n",
    "\n",
    "    # display reconstruction\n",
    "    ax = plt.subplot(2, number, index + 1 + number)\n",
    "    plt.imshow(model(test_features[index].reshape(-1, 28, 28, 1)).numpy().reshape(28, 28))\n",
    "    plt.gray()\n",
    "    ax.get_xaxis().set_visible(False)\n",
    "    ax.get_yaxis().set_visible(False)\n",
    "plt.show()"
   ]
  },
  {
   "cell_type": "markdown",
   "metadata": {
    "colab_type": "text",
    "id": "TUew3Z8WqBQ1"
   },
   "source": [
    "Let's check the number of parameters."
   ]
  },
  {
   "cell_type": "code",
   "execution_count": 12,
   "metadata": {
    "colab": {
     "base_uri": "https://localhost:8080/",
     "height": 221
    },
    "colab_type": "code",
    "id": "XwhrOGzQmj4n",
    "outputId": "8c220a47-32a3-4168-a39f-aa4d179fd5a2"
   },
   "outputs": [
    {
     "name": "stdout",
     "output_type": "stream",
     "text": [
      "Model: \"cvae\"\n",
      "_________________________________________________________________\n",
      "Layer (type)                 Output Shape              Param #   \n",
      "=================================================================\n",
      "encoder (Encoder)            multiple                  64992     \n",
      "_________________________________________________________________\n",
      "decoder (Decoder)            multiple                  92609     \n",
      "=================================================================\n",
      "Total params: 157,601\n",
      "Trainable params: 157,601\n",
      "Non-trainable params: 0\n",
      "_________________________________________________________________\n"
     ]
    }
   ],
   "source": [
    "model.summary()"
   ]
  },
  {
   "cell_type": "markdown",
   "metadata": {
    "colab_type": "text",
    "id": "PM5FbgpSqD4B"
   },
   "source": [
    "Freeze the encoder layer of the autoencoder."
   ]
  },
  {
   "cell_type": "code",
   "execution_count": 13,
   "metadata": {
    "colab": {},
    "colab_type": "code",
    "id": "r9DVlH1QmmLC"
   },
   "outputs": [],
   "source": [
    "model.encoder.trainable = False"
   ]
  },
  {
   "cell_type": "markdown",
   "metadata": {
    "colab_type": "text",
    "id": "xnvJJEEJqGBt"
   },
   "source": [
    "Build a neural network with `model.encoder` as feature extractor."
   ]
  },
  {
   "cell_type": "code",
   "execution_count": 14,
   "metadata": {
    "colab": {},
    "colab_type": "code",
    "id": "US8to1drmnfj"
   },
   "outputs": [],
   "source": [
    "class NN(tf.keras.Model):\n",
    "    def __init__(self, **kwargs):\n",
    "        super(NN, self).__init__()\n",
    "        self.encoder = model.encoder\n",
    "        self.flatten = tf.keras.layers.Flatten()\n",
    "        self.dense_layer = tf.keras.layers.Dense(units=512, activation=tf.nn.relu)\n",
    "        self.dropout = tf.keras.layers.Dropout(rate=2e-1)\n",
    "        self.output_layer = tf.keras.layers.Dense(units=10, activation=tf.nn.softmax)\n",
    "        \n",
    "    def call(self, features):\n",
    "        code = self.encoder(features)\n",
    "        code = self.flatten(code)\n",
    "        activation = self.dense_layer(code)\n",
    "        activation = self.dropout(activation)\n",
    "        outputs = self.output_layer(activation)\n",
    "        return outputs"
   ]
  },
  {
   "cell_type": "markdown",
   "metadata": {
    "colab_type": "text",
    "id": "aSzliWvXqKCm"
   },
   "source": [
    "Instantiate the neural network."
   ]
  },
  {
   "cell_type": "code",
   "execution_count": 15,
   "metadata": {
    "colab": {},
    "colab_type": "code",
    "id": "e3PVAvJdmo4v"
   },
   "outputs": [],
   "source": [
    "clf = NN()"
   ]
  },
  {
   "cell_type": "markdown",
   "metadata": {
    "colab_type": "text",
    "id": "FioHPyi9qMzv"
   },
   "source": [
    "Compile the neural network for training and inference."
   ]
  },
  {
   "cell_type": "code",
   "execution_count": 16,
   "metadata": {
    "colab": {},
    "colab_type": "code",
    "id": "7k8qMlelmqui"
   },
   "outputs": [],
   "source": [
    "clf.compile(loss=tf.losses.categorical_crossentropy,\n",
    "            optimizer=tf.optimizers.SGD(\n",
    "                learning_rate=1e-2, momentum=9e-1, decay=1e-6\n",
    "                ),\n",
    "            metrics=['accuracy'])"
   ]
  },
  {
   "cell_type": "markdown",
   "metadata": {
    "colab_type": "text",
    "id": "DcVEzQayqQMn"
   },
   "source": [
    "Train the model."
   ]
  },
  {
   "cell_type": "code",
   "execution_count": 17,
   "metadata": {
    "colab": {
     "base_uri": "https://localhost:8080/",
     "height": 374
    },
    "colab_type": "code",
    "id": "u7DVQwRgmxyG",
    "outputId": "a89f88eb-cd90-4ee0-b2a6-6d6cbdca87a3"
   },
   "outputs": [
    {
     "name": "stdout",
     "output_type": "stream",
     "text": [
      "Epoch 1/100\n",
      "118/118 - 10s - loss: 0.7576 - accuracy: 0.7162\n",
      "Epoch 2/100\n",
      "118/118 - 9s - loss: 0.5332 - accuracy: 0.8001\n",
      "Epoch 3/100\n",
      "118/118 - 9s - loss: 0.4848 - accuracy: 0.8204\n",
      "Epoch 4/100\n",
      "118/118 - 9s - loss: 0.4648 - accuracy: 0.8283\n",
      "Epoch 5/100\n",
      "118/118 - 9s - loss: 0.4363 - accuracy: 0.8411\n",
      "Epoch 6/100\n",
      "118/118 - 9s - loss: 0.4270 - accuracy: 0.8411\n",
      "Epoch 7/100\n",
      "118/118 - 9s - loss: 0.4104 - accuracy: 0.8490\n",
      "Epoch 8/100\n",
      "118/118 - 9s - loss: 0.4075 - accuracy: 0.8514\n",
      "Epoch 9/100\n",
      "118/118 - 9s - loss: 0.4023 - accuracy: 0.8533\n",
      "Epoch 10/100\n",
      "118/118 - 9s - loss: 0.4019 - accuracy: 0.8527\n",
      "Epoch 11/100\n",
      "118/118 - 9s - loss: 0.3924 - accuracy: 0.8554\n",
      "Epoch 12/100\n",
      "118/118 - 9s - loss: 0.3855 - accuracy: 0.8581\n",
      "Epoch 13/100\n",
      "118/118 - 9s - loss: 0.3810 - accuracy: 0.8604\n",
      "Epoch 14/100\n",
      "118/118 - 9s - loss: 0.3764 - accuracy: 0.8615\n",
      "Epoch 15/100\n",
      "118/118 - 9s - loss: 0.3828 - accuracy: 0.8591\n",
      "Epoch 16/100\n",
      "118/118 - 9s - loss: 0.3749 - accuracy: 0.8608\n",
      "Epoch 17/100\n",
      "118/118 - 9s - loss: 0.3745 - accuracy: 0.8616\n",
      "Epoch 18/100\n",
      "118/118 - 9s - loss: 0.3779 - accuracy: 0.8609\n",
      "Epoch 19/100\n",
      "118/118 - 9s - loss: 0.3684 - accuracy: 0.8643\n",
      "Epoch 20/100\n",
      "118/118 - 17s - loss: 0.3677 - accuracy: 0.8623\n",
      "Epoch 21/100\n",
      "118/118 - 17s - loss: 0.3758 - accuracy: 0.8615\n",
      "Epoch 22/100\n",
      "118/118 - 17s - loss: 0.3649 - accuracy: 0.8655\n",
      "Epoch 23/100\n",
      "118/118 - 17s - loss: 0.3608 - accuracy: 0.8665\n",
      "Epoch 24/100\n",
      "118/118 - 17s - loss: 0.3692 - accuracy: 0.8631\n",
      "Epoch 25/100\n",
      "118/118 - 17s - loss: 0.3681 - accuracy: 0.8622\n",
      "Epoch 26/100\n",
      "118/118 - 17s - loss: 0.3600 - accuracy: 0.8678\n",
      "Epoch 27/100\n",
      "118/118 - 17s - loss: 0.3588 - accuracy: 0.8680\n",
      "Epoch 28/100\n",
      "118/118 - 17s - loss: 0.3549 - accuracy: 0.8699\n",
      "Epoch 29/100\n",
      "118/118 - 17s - loss: 0.3519 - accuracy: 0.8693\n",
      "Epoch 30/100\n",
      "118/118 - 17s - loss: 0.3537 - accuracy: 0.8690\n",
      "Epoch 31/100\n",
      "118/118 - 17s - loss: 0.3441 - accuracy: 0.8724\n",
      "Epoch 32/100\n",
      "118/118 - 17s - loss: 0.3446 - accuracy: 0.8724\n",
      "Epoch 33/100\n",
      "118/118 - 17s - loss: 0.3535 - accuracy: 0.8676\n",
      "Epoch 34/100\n",
      "118/118 - 17s - loss: 0.3543 - accuracy: 0.8699\n",
      "Epoch 35/100\n",
      "118/118 - 17s - loss: 0.3493 - accuracy: 0.8705\n",
      "Epoch 36/100\n",
      "118/118 - 17s - loss: 0.3432 - accuracy: 0.8724\n",
      "Epoch 37/100\n",
      "118/118 - 17s - loss: 0.3441 - accuracy: 0.8736\n",
      "Epoch 38/100\n",
      "118/118 - 17s - loss: 0.3520 - accuracy: 0.8690\n",
      "Epoch 39/100\n",
      "118/118 - 17s - loss: 0.3367 - accuracy: 0.8758\n",
      "Epoch 40/100\n",
      "118/118 - 17s - loss: 0.3438 - accuracy: 0.8742\n",
      "Epoch 41/100\n",
      "118/118 - 17s - loss: 0.3396 - accuracy: 0.8749\n",
      "Epoch 42/100\n",
      "118/118 - 17s - loss: 0.3479 - accuracy: 0.8713\n",
      "Epoch 43/100\n",
      "118/118 - 17s - loss: 0.3565 - accuracy: 0.8669\n",
      "Epoch 44/100\n",
      "118/118 - 17s - loss: 0.3554 - accuracy: 0.8700\n",
      "Epoch 45/100\n",
      "118/118 - 17s - loss: 0.3554 - accuracy: 0.8671\n",
      "Epoch 46/100\n",
      "118/118 - 17s - loss: 0.3574 - accuracy: 0.8670\n",
      "Epoch 47/100\n",
      "118/118 - 17s - loss: 0.3602 - accuracy: 0.8649\n",
      "Epoch 48/100\n",
      "118/118 - 17s - loss: 0.3503 - accuracy: 0.8706\n",
      "Epoch 49/100\n",
      "118/118 - 17s - loss: 0.3571 - accuracy: 0.8654\n",
      "Epoch 50/100\n",
      "118/118 - 18s - loss: 0.3577 - accuracy: 0.8679\n",
      "Epoch 51/100\n",
      "118/118 - 18s - loss: 0.3545 - accuracy: 0.8685\n",
      "Epoch 52/100\n",
      "118/118 - 18s - loss: 0.3468 - accuracy: 0.8704\n",
      "Epoch 53/100\n",
      "118/118 - 18s - loss: 0.3438 - accuracy: 0.8732\n",
      "Epoch 54/100\n",
      "118/118 - 19s - loss: 0.3393 - accuracy: 0.8743\n",
      "Epoch 55/100\n",
      "118/118 - 19s - loss: 0.3419 - accuracy: 0.8725\n",
      "Epoch 56/100\n",
      "118/118 - 19s - loss: 0.3376 - accuracy: 0.8741\n",
      "Epoch 57/100\n",
      "118/118 - 19s - loss: 0.3360 - accuracy: 0.8760\n",
      "Epoch 58/100\n",
      "118/118 - 19s - loss: 0.3465 - accuracy: 0.8725\n",
      "Epoch 59/100\n",
      "118/118 - 18s - loss: 0.3478 - accuracy: 0.8690\n",
      "Epoch 60/100\n",
      "118/118 - 18s - loss: 0.3553 - accuracy: 0.8669\n",
      "Epoch 61/100\n",
      "118/118 - 17s - loss: 0.3440 - accuracy: 0.8727\n",
      "Epoch 62/100\n",
      "118/118 - 18s - loss: 0.3469 - accuracy: 0.8713\n",
      "Epoch 63/100\n",
      "118/118 - 19s - loss: 0.3412 - accuracy: 0.8727\n",
      "Epoch 64/100\n",
      "118/118 - 19s - loss: 0.3441 - accuracy: 0.8692\n",
      "Epoch 65/100\n",
      "118/118 - 19s - loss: 0.3513 - accuracy: 0.8663\n",
      "Epoch 66/100\n",
      "118/118 - 19s - loss: 0.3529 - accuracy: 0.8651\n",
      "Epoch 67/100\n",
      "118/118 - 18s - loss: 0.3488 - accuracy: 0.8688\n",
      "Epoch 68/100\n",
      "118/118 - 17s - loss: 0.3494 - accuracy: 0.8681\n",
      "Epoch 69/100\n",
      "118/118 - 17s - loss: 0.3382 - accuracy: 0.8733\n",
      "Epoch 70/100\n",
      "118/118 - 17s - loss: 0.3428 - accuracy: 0.8708\n",
      "Epoch 71/100\n",
      "118/118 - 17s - loss: 0.3375 - accuracy: 0.8726\n",
      "Epoch 72/100\n",
      "118/118 - 17s - loss: 0.3476 - accuracy: 0.8688\n",
      "Epoch 73/100\n",
      "118/118 - 17s - loss: 0.3404 - accuracy: 0.8726\n",
      "Epoch 74/100\n",
      "118/118 - 17s - loss: 0.3511 - accuracy: 0.8669\n",
      "Epoch 75/100\n",
      "118/118 - 17s - loss: 0.3445 - accuracy: 0.8724\n",
      "Epoch 76/100\n",
      "118/118 - 17s - loss: 0.3434 - accuracy: 0.8714\n",
      "Epoch 77/100\n",
      "118/118 - 17s - loss: 0.3454 - accuracy: 0.8714\n",
      "Epoch 78/100\n",
      "118/118 - 18s - loss: 0.3428 - accuracy: 0.8731\n",
      "Epoch 79/100\n",
      "118/118 - 17s - loss: 0.3331 - accuracy: 0.8739\n",
      "Epoch 80/100\n",
      "118/118 - 18s - loss: 0.3307 - accuracy: 0.8763\n",
      "Epoch 81/100\n",
      "118/118 - 18s - loss: 0.3356 - accuracy: 0.8738\n",
      "Epoch 82/100\n",
      "118/118 - 18s - loss: 0.3287 - accuracy: 0.8751\n",
      "Epoch 83/100\n",
      "118/118 - 18s - loss: 0.3396 - accuracy: 0.8725\n",
      "Epoch 84/100\n",
      "118/118 - 17s - loss: 0.3326 - accuracy: 0.8749\n",
      "Epoch 85/100\n",
      "118/118 - 17s - loss: 0.3300 - accuracy: 0.8768\n",
      "Epoch 86/100\n",
      "118/118 - 18s - loss: 0.3299 - accuracy: 0.8754\n",
      "Epoch 93/100\n",
      "118/118 - 18s - loss: 0.3230 - accuracy: 0.8786\n",
      "Epoch 94/100\n",
      "118/118 - 18s - loss: 0.3172 - accuracy: 0.8805\n",
      "Epoch 99/100\n",
      "118/118 - 18s - loss: 0.3330 - accuracy: 0.8738\n",
      "Epoch 100/100\n",
      "118/118 - 18s - loss: 0.3235 - accuracy: 0.8778\n"
     ]
    },
    {
     "data": {
      "text/plain": [
       "<tensorflow.python.keras.callbacks.History at 0x7efd9019a240>"
      ]
     },
     "execution_count": 17,
     "metadata": {},
     "output_type": "execute_result"
    }
   ],
   "source": [
    "clf.fit(train_dataset, epochs=epochs, verbose=2)"
   ]
  },
  {
   "cell_type": "markdown",
   "metadata": {
    "colab_type": "text",
    "id": "hPER3F84qRck"
   },
   "source": [
    "Evaluate the performance."
   ]
  },
  {
   "cell_type": "code",
   "execution_count": 18,
   "metadata": {
    "colab": {
     "base_uri": "https://localhost:8080/",
     "height": 51
    },
    "colab_type": "code",
    "id": "uVY52Fa2m_x3",
    "outputId": "8a1ac37e-2d46-4bff-b2f2-e764885d453e"
   },
   "outputs": [
    {
     "name": "stdout",
     "output_type": "stream",
     "text": [
      "118/118 - 14s - loss: 0.2774 - accuracy: 0.8965\n"
     ]
    },
    {
     "data": {
      "text/plain": [
       "[0.277379702966092, 0.8965167]"
      ]
     },
     "execution_count": 18,
     "metadata": {},
     "output_type": "execute_result"
    }
   ],
   "source": [
    "clf.evaluate(test_dataset, verbose=2)"
   ]
  },
  {
   "cell_type": "markdown",
   "metadata": {
    "colab_type": "text",
    "id": "2TFCaAzbqS3w"
   },
   "source": [
    "Perturb the test data with noise from a Normal distribution having a standard deviation of `5e-2`."
   ]
  },
  {
   "cell_type": "code",
   "execution_count": 19,
   "metadata": {
    "colab": {},
    "colab_type": "code",
    "id": "7_OYG3QEnyVj"
   },
   "outputs": [],
   "source": [
    "test_features += tf.random.normal(stddev=5e-2, shape=test_features.shape)"
   ]
  },
  {
   "cell_type": "markdown",
   "metadata": {
    "colab_type": "text",
    "id": "C5rqv-Bfqa0p"
   },
   "source": [
    "Evaluate the model on the perturbed test data."
   ]
  },
  {
   "cell_type": "code",
   "execution_count": 20,
   "metadata": {
    "colab": {
     "base_uri": "https://localhost:8080/",
     "height": 51
    },
    "colab_type": "code",
    "id": "I7mdvROzn4Lk",
    "outputId": "20662868-89df-46eb-a0e1-0b622f54040f"
   },
   "outputs": [
    {
     "name": "stdout",
     "output_type": "stream",
     "text": [
      "10000/1 - 3s - loss: 0.3386 - accuracy: 0.8567\n"
     ]
    },
    {
     "data": {
      "text/plain": [
       "[0.37996936511993407, 0.8567]"
      ]
     },
     "execution_count": 20,
     "metadata": {},
     "output_type": "execute_result"
    }
   ],
   "source": [
    "clf.evaluate(test_features, test_labels, batch_size=512, verbose=2)"
   ]
  },
  {
   "cell_type": "markdown",
   "metadata": {
    "colab_type": "text",
    "id": "EZD66asrqd0n"
   },
   "source": [
    "Visualize the perturbed data and the reconstructions."
   ]
  },
  {
   "cell_type": "code",
   "execution_count": 21,
   "metadata": {
    "colab": {
     "base_uri": "https://localhost:8080/",
     "height": 248
    },
    "colab_type": "code",
    "id": "h4ydT3nCoK6z",
    "outputId": "376a516c-fe22-4c32-c720-8973b5e6b44d"
   },
   "outputs": [
    {
     "data": {
      "image/png": "[encoded data removed]",
      "text/plain": [
       "<Figure size 1440x288 with 20 Axes>"
      ]
     },
     "metadata": {
      "needs_background": "light"
     },
     "output_type": "display_data"
    }
   ],
   "source": [
    "number = 10\n",
    "plt.figure(figsize=(20, 4))\n",
    "for index in range(number):\n",
    "    # display original\n",
    "    ax = plt.subplot(2, number, index + 1)\n",
    "    plt.imshow(test_features[index].numpy().reshape(28, 28))\n",
    "    plt.gray()\n",
    "    ax.get_xaxis().set_visible(False)\n",
    "    ax.get_yaxis().set_visible(False)\n",
    "\n",
    "    # display reconstruction\n",
    "    ax = plt.subplot(2, number, index + 1 + number)\n",
    "    plt.imshow(model(test_features[index].numpy().reshape(-1, 28, 28, 1)).numpy().reshape(28, 28))\n",
    "    plt.gray()\n",
    "    ax.get_xaxis().set_visible(False)\n",
    "    ax.get_yaxis().set_visible(False)\n",
    "plt.show()"
   ]
  },
  {
   "cell_type": "markdown",
   "metadata": {
    "colab_type": "text",
    "id": "ScbIR9owqgyy"
   },
   "source": [
    "Reload the test features, and increase the standard deviation of the Normal distribution from which we shall get the noise from for perturbing the test data."
   ]
  },
  {
   "cell_type": "code",
   "execution_count": 22,
   "metadata": {
    "colab": {},
    "colab_type": "code",
    "id": "OzmmB4SJoTPZ"
   },
   "outputs": [],
   "source": [
    "_, (test_features, _) = fashion_mnist.load_data()\n",
    "\n",
    "test_features = test_features.astype('float32') / 255.\n",
    "test_features = test_features.reshape(-1, 28, 28, 1)\n",
    "test_features += tf.random.normal(stddev=5e-1, shape=test_features.shape)"
   ]
  },
  {
   "cell_type": "markdown",
   "metadata": {
    "colab_type": "text",
    "id": "7dw4HZo3qo5a"
   },
   "source": [
    "Visualize the test features and the reconstructions."
   ]
  },
  {
   "cell_type": "code",
   "execution_count": 23,
   "metadata": {
    "colab": {
     "base_uri": "https://localhost:8080/",
     "height": 248
    },
    "colab_type": "code",
    "id": "NAcSd0u-od4r",
    "outputId": "1797a5ea-4145-42e9-8cab-607fbd642f6d"
   },
   "outputs": [
    {
     "data": {
      "image/png": "[encoded data removed]",
      "text/plain": [
       "<Figure size 1440x288 with 20 Axes>"
      ]
     },
     "metadata": {
      "needs_background": "light"
     },
     "output_type": "display_data"
    }
   ],
   "source": [
    "number = 10\n",
    "plt.figure(figsize=(20, 4))\n",
    "for index in range(number):\n",
    "    # display original\n",
    "    ax = plt.subplot(2, number, index + 1)\n",
    "    plt.imshow(test_features[index].numpy().reshape(28, 28))\n",
    "    plt.gray()\n",
    "    ax.get_xaxis().set_visible(False)\n",
    "    ax.get_yaxis().set_visible(False)\n",
    "\n",
    "    # display reconstruction\n",
    "    ax = plt.subplot(2, number, index + 1 + number)\n",
    "    plt.imshow(model(test_features[index].numpy().reshape(-1, 28, 28, 1)).numpy().reshape(28, 28))\n",
    "    plt.gray()\n",
    "    ax.get_xaxis().set_visible(False)\n",
    "    ax.get_yaxis().set_visible(False)\n",
    "plt.show()"
   ]
  },
  {
   "cell_type": "markdown",
   "metadata": {
    "colab_type": "text",
    "id": "mMpQtIYOqtDW"
   },
   "source": [
    "Evaluate on the new perturbed test data."
   ]
  },
  {
   "cell_type": "code",
   "execution_count": 24,
   "metadata": {
    "colab": {
     "base_uri": "https://localhost:8080/",
     "height": 51
    },
    "colab_type": "code",
    "id": "B1rpsaLAogbY",
    "outputId": "9f1ae6bb-a692-47bb-b101-fa3679dea94a"
   },
   "outputs": [
    {
     "name": "stdout",
     "output_type": "stream",
     "text": [
      "10000/1 - 2s - loss: 2.7093 - accuracy: 0.5627\n"
     ]
    },
    {
     "data": {
      "text/plain": [
       "[2.9327560665130616, 0.5627]"
      ]
     },
     "execution_count": 24,
     "metadata": {},
     "output_type": "execute_result"
    }
   ],
   "source": [
    "clf.evaluate(test_features, test_labels, batch_size=batch_size, verbose=2)"
   ]
  },
  {
   "cell_type": "code",
   "execution_count": 25,
   "metadata": {},
   "outputs": [],
   "source": [
    "model.save_weights('../assets/export/classifier/fashion_mnist/100_epochs', save_format='tf')"
   ]
  }
 ],
 "metadata": {
  "accelerator": "GPU",
  "colab": {
   "collapsed_sections": [],
   "include_colab_link": true,
   "name": "x-pretrained-vgg-classification.ipynb",
   "provenance": []
  },
  "kernelspec": {
   "display_name": "Python 3",
   "language": "python",
   "name": "python3"
  },
  "language_info": {
   "codemirror_mode": {
    "name": "ipython",
    "version": 3
   },
   "file_extension": ".py",
   "mimetype": "text/x-python",
   "name": "python",
   "nbconvert_exporter": "python",
   "pygments_lexer": "ipython3",
   "version": "3.6.8"
  }
 },
 "nbformat": 4,
 "nbformat_minor": 2
}
