{
 "cells": [
  {
   "cell_type": "markdown",
   "metadata": {},
   "source": [
    "Pretraining Autoencoder for Downstream Tasks\n",
    "===\n",
    "\n",
    "## Overview\n",
    "\n",
    "In this notebook, we train a mini VGG-based autoencoder on the MNIST dataset.\n",
    "\n",
    "## Setup\n",
    "\n",
    "We setup our libraries."
   ]
  },
  {
   "cell_type": "code",
   "execution_count": 1,
   "metadata": {},
   "outputs": [],
   "source": [
    "from __future__ import absolute_import\n",
    "from __future__ import division\n",
    "from __future__ import print_function\n",
    "\n",
    "__author__ = 'Abien Fred Agarap'\n",
    "__version__ = '1.0.0'\n",
    "\n",
    "import matplotlib.pyplot as plt\n",
    "import numpy as np\n",
    "import tensorflow as tf\n",
    "from tensorflow.keras.datasets import mnist\n",
    "from tf.vgg_ae import CAE"
   ]
  },
  {
   "cell_type": "markdown",
   "metadata": {},
   "source": [
    "Set the memory growth of GPU."
   ]
  },
  {
   "cell_type": "code",
   "execution_count": 2,
   "metadata": {},
   "outputs": [],
   "source": [
    "tf.config.experimental.set_memory_growth(\n",
    "    tf.config.experimental.list_physical_devices('GPU')[0], True\n",
    ")"
   ]
  },
  {
   "cell_type": "markdown",
   "metadata": {},
   "source": [
    "Set the random number generator seed value."
   ]
  },
  {
   "cell_type": "code",
   "execution_count": 3,
   "metadata": {},
   "outputs": [],
   "source": [
    "SEED = 42\n",
    "np.random.seed(SEED)\n",
    "tf.random.set_seed(SEED)"
   ]
  },
  {
   "cell_type": "markdown",
   "metadata": {},
   "source": [
    "We set the batch size and epochs."
   ]
  },
  {
   "cell_type": "code",
   "execution_count": 4,
   "metadata": {},
   "outputs": [],
   "source": [
    "batch_size = 512\n",
    "epochs = 100"
   ]
  },
  {
   "cell_type": "markdown",
   "metadata": {},
   "source": [
    "## Dataset\n",
    "\n",
    "We load our dataset."
   ]
  },
  {
   "cell_type": "code",
   "execution_count": 5,
   "metadata": {},
   "outputs": [],
   "source": [
    "(train_features, train_labels), (test_features, test_labels) = mnist.load_data()"
   ]
  },
  {
   "cell_type": "markdown",
   "metadata": {},
   "source": [
    "We preprocess our dataset."
   ]
  },
  {
   "cell_type": "code",
   "execution_count": 6,
   "metadata": {},
   "outputs": [],
   "source": [
    "train_features = train_features.reshape(-1, 28, 28, 1)\n",
    "\n",
    "train_features = train_features.astype('float32')\n",
    "train_features = train_features / 255.\n",
    "\n",
    "test_features = test_features.reshape(-1, 28, 28, 1)\n",
    "\n",
    "test_features = test_features.astype('float32')\n",
    "test_features = test_features / 255.\n",
    "\n",
    "train_labels = tf.one_hot(train_labels, len(np.unique(train_labels)))\n",
    "test_labels = tf.one_hot(test_labels, len(np.unique(test_labels)))"
   ]
  },
  {
   "cell_type": "markdown",
   "metadata": {},
   "source": [
    "We create a dataset object."
   ]
  },
  {
   "cell_type": "code",
   "execution_count": 7,
   "metadata": {},
   "outputs": [],
   "source": [
    "train_dataset = tf.data.Dataset.from_tensor_slices((train_features, train_features))\n",
    "train_dataset = train_dataset.batch(batch_size)\n",
    "train_dataset = train_dataset.prefetch(batch_size * 4)\n",
    "train_dataset = train_dataset.shuffle(train_features.shape[0])\n",
    "\n",
    "test_dataset = tf.data.Dataset.from_tensor_slices((test_features, test_features))\n",
    "test_dataset = train_dataset.batch(batch_size)\n",
    "test_dataset = train_dataset.prefetch(batch_size * 4)\n",
    "test_dataset = train_dataset.shuffle(test_features.shape[0])"
   ]
  },
  {
   "cell_type": "code",
   "execution_count": 8,
   "metadata": {},
   "outputs": [],
   "source": [
    "model = CAE(input_shape=(28, 28, 1))"
   ]
  },
  {
   "cell_type": "code",
   "execution_count": 9,
   "metadata": {},
   "outputs": [],
   "source": [
    "for train_features, _ in train_dataset:\n",
    "    model(train_features)\n",
    "    break"
   ]
  },
  {
   "cell_type": "code",
   "execution_count": 10,
   "metadata": {},
   "outputs": [
    {
     "name": "stdout",
     "output_type": "stream",
     "text": [
      "Model: \"cae\"\n",
      "_________________________________________________________________\n",
      "Layer (type)                 Output Shape              Param #   \n",
      "=================================================================\n",
      "encoder (Encoder)            multiple                  64992     \n",
      "_________________________________________________________________\n",
      "decoder (Decoder)            multiple                  92609     \n",
      "=================================================================\n",
      "Total params: 157,601\n",
      "Trainable params: 157,601\n",
      "Non-trainable params: 0\n",
      "_________________________________________________________________\n"
     ]
    }
   ],
   "source": [
    "model.summary()"
   ]
  },
  {
   "cell_type": "code",
   "execution_count": 11,
   "metadata": {},
   "outputs": [],
   "source": [
    "model.compile(\n",
    "    loss=tf.losses.mean_squared_error, optimizer=tf.optimizers.Adam(learning_rate=1e-3)\n",
    ")"
   ]
  },
  {
   "cell_type": "code",
   "execution_count": 12,
   "metadata": {},
   "outputs": [
    {
     "data": {
      "text/plain": [
       "TensorShape([512, 28, 28, 1])"
      ]
     },
     "execution_count": 12,
     "metadata": {},
     "output_type": "execute_result"
    }
   ],
   "source": [
    "model(train_features).shape"
   ]
  },
  {
   "cell_type": "code",
   "execution_count": 13,
   "metadata": {},
   "outputs": [
    {
     "name": "stdout",
     "output_type": "stream",
     "text": [
      "Epoch 1/100\n",
      "118/118 - 35s - loss: 0.0299\n",
      "Epoch 2/100\n",
      "118/118 - 33s - loss: 0.0028\n",
      "Epoch 3/100\n",
      "118/118 - 33s - loss: 0.0015\n",
      "Epoch 4/100\n",
      "118/118 - 33s - loss: 0.0011\n",
      "Epoch 5/100\n",
      "118/118 - 34s - loss: 9.3605e-04\n",
      "Epoch 6/100\n",
      "118/118 - 33s - loss: 8.4620e-04\n",
      "Epoch 7/100\n",
      "118/118 - 34s - loss: 6.5575e-04\n",
      "Epoch 8/100\n",
      "118/118 - 34s - loss: 5.8227e-04\n",
      "Epoch 9/100\n",
      "118/118 - 33s - loss: 5.1975e-04\n",
      "Epoch 10/100\n",
      "118/118 - 33s - loss: 4.6579e-04\n",
      "Epoch 11/100\n",
      "118/118 - 33s - loss: 4.7819e-04\n",
      "Epoch 12/100\n",
      "118/118 - 33s - loss: 4.0206e-04\n",
      "Epoch 13/100\n",
      "118/118 - 33s - loss: 3.9162e-04\n",
      "Epoch 14/100\n",
      "118/118 - 33s - loss: 3.7155e-04\n",
      "Epoch 15/100\n",
      "118/118 - 33s - loss: 4.2576e-04\n",
      "Epoch 16/100\n",
      "118/118 - 33s - loss: 3.4104e-04\n",
      "Epoch 17/100\n",
      "118/118 - 33s - loss: 3.3538e-04\n",
      "Epoch 18/100\n",
      "118/118 - 33s - loss: 3.5801e-04\n",
      "Epoch 19/100\n",
      "118/118 - 33s - loss: 3.3598e-04\n",
      "Epoch 20/100\n",
      "118/118 - 33s - loss: 3.1422e-04\n",
      "Epoch 21/100\n",
      "118/118 - 33s - loss: 3.1869e-04\n",
      "Epoch 22/100\n",
      "118/118 - 33s - loss: 3.0840e-04\n",
      "Epoch 23/100\n",
      "118/118 - 33s - loss: 3.1169e-04\n",
      "Epoch 24/100\n",
      "118/118 - 33s - loss: 4.2537e-04\n",
      "Epoch 25/100\n",
      "118/118 - 33s - loss: 2.9601e-04\n",
      "Epoch 26/100\n",
      "118/118 - 33s - loss: 2.8697e-04\n",
      "Epoch 27/100\n",
      "118/118 - 33s - loss: 2.8378e-04\n",
      "Epoch 28/100\n",
      "118/118 - 33s - loss: 3.3704e-04\n",
      "Epoch 29/100\n",
      "118/118 - 33s - loss: 2.7956e-04\n",
      "Epoch 30/100\n",
      "118/118 - 33s - loss: 2.7758e-04\n",
      "Epoch 31/100\n",
      "118/118 - 33s - loss: 2.8049e-04\n",
      "Epoch 32/100\n",
      "118/118 - 33s - loss: 3.0734e-04\n",
      "Epoch 33/100\n",
      "118/118 - 33s - loss: 2.6971e-04\n",
      "Epoch 34/100\n",
      "118/118 - 33s - loss: 2.8238e-04\n",
      "Epoch 35/100\n",
      "118/118 - 33s - loss: 2.7318e-04\n",
      "Epoch 36/100\n",
      "118/118 - 33s - loss: 2.7090e-04\n",
      "Epoch 37/100\n",
      "118/118 - 33s - loss: 2.7175e-04\n",
      "Epoch 38/100\n",
      "118/118 - 33s - loss: 2.7176e-04\n",
      "Epoch 39/100\n",
      "118/118 - 33s - loss: 2.9008e-04\n",
      "Epoch 40/100\n",
      "118/118 - 33s - loss: 2.6269e-04\n",
      "Epoch 41/100\n",
      "118/118 - 33s - loss: 2.7858e-04\n",
      "Epoch 42/100\n",
      "118/118 - 33s - loss: 2.5295e-04\n",
      "Epoch 43/100\n",
      "118/118 - 33s - loss: 2.6069e-04\n",
      "Epoch 44/100\n",
      "118/118 - 33s - loss: 2.9778e-04\n",
      "Epoch 45/100\n",
      "118/118 - 33s - loss: 4.7867e-04\n",
      "Epoch 46/100\n",
      "118/118 - 33s - loss: 2.8599e-04\n",
      "Epoch 47/100\n",
      "118/118 - 33s - loss: 2.7297e-04\n",
      "Epoch 48/100\n",
      "118/118 - 33s - loss: 2.6332e-04\n",
      "Epoch 49/100\n",
      "118/118 - 33s - loss: 2.6714e-04\n",
      "Epoch 50/100\n",
      "118/118 - 33s - loss: 2.5243e-04\n",
      "Epoch 51/100\n",
      "118/118 - 33s - loss: 2.5913e-04\n",
      "Epoch 52/100\n",
      "118/118 - 33s - loss: 2.5115e-04\n",
      "Epoch 53/100\n",
      "118/118 - 33s - loss: 2.5091e-04\n",
      "Epoch 54/100\n",
      "118/118 - 33s - loss: 2.4982e-04\n",
      "Epoch 55/100\n",
      "118/118 - 33s - loss: 2.5013e-04\n",
      "Epoch 56/100\n",
      "118/118 - 33s - loss: 2.5434e-04\n",
      "Epoch 57/100\n",
      "118/118 - 33s - loss: 2.4892e-04\n",
      "Epoch 58/100\n",
      "118/118 - 33s - loss: 2.5295e-04\n",
      "Epoch 59/100\n",
      "118/118 - 33s - loss: 2.4195e-04\n",
      "Epoch 60/100\n",
      "118/118 - 33s - loss: 2.4208e-04\n",
      "Epoch 61/100\n",
      "118/118 - 33s - loss: 2.5107e-04\n",
      "Epoch 62/100\n",
      "118/118 - 33s - loss: 2.4296e-04\n",
      "Epoch 63/100\n",
      "118/118 - 33s - loss: 2.4566e-04\n",
      "Epoch 64/100\n",
      "118/118 - 33s - loss: 2.4097e-04\n",
      "Epoch 65/100\n",
      "118/118 - 33s - loss: 2.4456e-04\n",
      "Epoch 66/100\n",
      "118/118 - 33s - loss: 2.4258e-04\n",
      "Epoch 67/100\n",
      "118/118 - 33s - loss: 2.4287e-04\n",
      "Epoch 68/100\n",
      "118/118 - 33s - loss: 2.4971e-04\n",
      "Epoch 69/100\n",
      "118/118 - 33s - loss: 2.3598e-04\n",
      "Epoch 70/100\n",
      "118/118 - 33s - loss: 2.4102e-04\n",
      "Epoch 71/100\n",
      "118/118 - 33s - loss: 2.3626e-04\n",
      "Epoch 72/100\n",
      "118/118 - 33s - loss: 2.3575e-04\n",
      "Epoch 73/100\n",
      "118/118 - 33s - loss: 2.4302e-04\n",
      "Epoch 74/100\n",
      "118/118 - 33s - loss: 2.3542e-04\n",
      "Epoch 75/100\n",
      "118/118 - 33s - loss: 2.4057e-04\n",
      "Epoch 76/100\n",
      "118/118 - 33s - loss: 2.3548e-04\n",
      "Epoch 77/100\n",
      "118/118 - 33s - loss: 2.3609e-04\n",
      "Epoch 78/100\n",
      "118/118 - 33s - loss: 2.3517e-04\n",
      "Epoch 79/100\n",
      "118/118 - 33s - loss: 2.6146e-04\n",
      "Epoch 80/100\n",
      "118/118 - 33s - loss: 2.3585e-04\n",
      "Epoch 81/100\n",
      "118/118 - 33s - loss: 2.3341e-04\n",
      "Epoch 82/100\n",
      "118/118 - 33s - loss: 2.3253e-04\n",
      "Epoch 83/100\n",
      "118/118 - 33s - loss: 2.3439e-04\n",
      "Epoch 84/100\n",
      "118/118 - 33s - loss: 2.3885e-04\n",
      "Epoch 85/100\n",
      "118/118 - 33s - loss: 2.3143e-04\n",
      "Epoch 86/100\n",
      "118/118 - 33s - loss: 2.4127e-04\n",
      "Epoch 87/100\n",
      "118/118 - 33s - loss: 2.3675e-04\n",
      "Epoch 88/100\n",
      "118/118 - 33s - loss: 2.3190e-04\n",
      "Epoch 89/100\n",
      "118/118 - 33s - loss: 2.3133e-04\n",
      "Epoch 90/100\n",
      "118/118 - 33s - loss: 2.3490e-04\n",
      "Epoch 91/100\n",
      "118/118 - 33s - loss: 2.3361e-04\n",
      "Epoch 92/100\n",
      "118/118 - 33s - loss: 2.3114e-04\n",
      "Epoch 93/100\n",
      "118/118 - 33s - loss: 2.3236e-04\n",
      "Epoch 94/100\n",
      "118/118 - 33s - loss: 0.0024\n",
      "Epoch 95/100\n",
      "118/118 - 33s - loss: 4.6264e-04\n",
      "Epoch 96/100\n",
      "118/118 - 33s - loss: 2.7820e-04\n",
      "Epoch 97/100\n",
      "118/118 - 33s - loss: 2.2850e-04\n",
      "Epoch 98/100\n",
      "118/118 - 33s - loss: 2.0263e-04\n",
      "Epoch 99/100\n",
      "118/118 - 33s - loss: 1.8701e-04\n",
      "Epoch 100/100\n",
      "118/118 - 33s - loss: 1.7950e-04\n"
     ]
    },
    {
     "data": {
      "text/plain": [
       "<tensorflow.python.keras.callbacks.History at 0x7fa7a04b11d0>"
      ]
     },
     "execution_count": 13,
     "metadata": {},
     "output_type": "execute_result"
    }
   ],
   "source": [
    "model.fit(train_dataset, epochs=epochs, verbose=2)"
   ]
  },
  {
   "cell_type": "code",
   "execution_count": 14,
   "metadata": {},
   "outputs": [
    {
     "data": {
      "image/png": "[encoded data removed]",
      "text/plain": [
       "<Figure size 1440x288 with 20 Axes>"
      ]
     },
     "metadata": {
      "needs_background": "light"
     },
     "output_type": "display_data"
    }
   ],
   "source": [
    "number = 10\n",
    "plt.figure(figsize=(20, 4))\n",
    "for index in range(number):\n",
    "    # display original\n",
    "    ax = plt.subplot(2, number, index + 1)\n",
    "    plt.imshow(test_features[index].reshape(28, 28))\n",
    "    plt.gray()\n",
    "    ax.get_xaxis().set_visible(False)\n",
    "    ax.get_yaxis().set_visible(False)\n",
    "\n",
    "    # display reconstruction\n",
    "    ax = plt.subplot(2, number, index + 1 + number)\n",
    "    plt.imshow(model(test_features[index].reshape(-1, 28, 28, 1)).numpy().reshape(28, 28))\n",
    "    plt.gray()\n",
    "    ax.get_xaxis().set_visible(False)\n",
    "    ax.get_yaxis().set_visible(False)\n",
    "plt.show()"
   ]
  },
  {
   "cell_type": "code",
   "execution_count": 15,
   "metadata": {},
   "outputs": [],
   "source": [
    "model.save_weights('../assets/export/mnist/mini_vgg_ae_mnist', save_format='tf')"
   ]
  }
 ],
 "metadata": {
  "kernelspec": {
   "display_name": "Python 3",
   "language": "python",
   "name": "python3"
  },
  "language_info": {
   "codemirror_mode": {
    "name": "ipython",
    "version": 3
   },
   "file_extension": ".py",
   "mimetype": "text/x-python",
   "name": "python",
   "nbconvert_exporter": "python",
   "pygments_lexer": "ipython3",
   "version": "3.6.8"
  }
 },
 "nbformat": 4,
 "nbformat_minor": 2
}
