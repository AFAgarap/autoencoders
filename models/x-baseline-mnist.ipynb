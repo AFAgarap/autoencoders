{
 "cells": [
  {
   "cell_type": "markdown",
   "metadata": {
    "colab_type": "text",
    "id": "7_r_yVCVpS85"
   },
   "source": [
    "Pretraining Autoencoder for Downstream Task\n",
    "=====\n",
    "\n",
    "## Overview \n",
    "\n",
    "In this notebook, we train a neural network with mini VGG layers as a baseline for the experimental mini VGG-based autoencoder + neural network.\n",
    "## Setup \n",
    "\n",
    "We setup our dependencies."
   ]
  },
  {
   "cell_type": "code",
   "execution_count": 1,
   "metadata": {
    "colab": {},
    "colab_type": "code",
    "id": "_x8jUvV5leuX"
   },
   "outputs": [],
   "source": [
    "from __future__ import absolute_import\n",
    "from __future__ import division\n",
    "from __future__ import print_function\n",
    "\n",
    "__author__ = 'Abien Fred Agarap'\n",
    "__version__ = '1.0.0'\n",
    "\n",
    "import matplotlib.pyplot as plt\n",
    "import numpy as np\n",
    "import tensorflow as tf\n",
    "from tensorflow.keras.datasets import mnist"
   ]
  },
  {
   "cell_type": "markdown",
   "metadata": {
    "colab_type": "text",
    "id": "lKkvrPNbpmb8"
   },
   "source": [
    "Set the memory growth of GPU."
   ]
  },
  {
   "cell_type": "code",
   "execution_count": 2,
   "metadata": {
    "colab": {},
    "colab_type": "code",
    "id": "LfY3Gcevodo7"
   },
   "outputs": [],
   "source": [
    "tf.config.experimental.set_memory_growth(\n",
    "    tf.config.experimental.list_physical_devices('GPU')[0],\n",
    "    True\n",
    ")"
   ]
  },
  {
   "cell_type": "markdown",
   "metadata": {
    "colab_type": "text",
    "id": "jdguwL96ppDp"
   },
   "source": [
    "Set the random number generator seed value."
   ]
  },
  {
   "cell_type": "code",
   "execution_count": 3,
   "metadata": {
    "colab": {},
    "colab_type": "code",
    "id": "7MjqEUjAoj4m"
   },
   "outputs": [],
   "source": [
    "SEED = 42\n",
    "tf.random.set_seed(SEED)\n",
    "np.random.seed(SEED)"
   ]
  },
  {
   "cell_type": "markdown",
   "metadata": {
    "colab_type": "text",
    "id": "1gZK7wlTpq-Y"
   },
   "source": [
    "We set the batch size and epochs."
   ]
  },
  {
   "cell_type": "code",
   "execution_count": 4,
   "metadata": {
    "colab": {},
    "colab_type": "code",
    "id": "usw0kmm4mLIi"
   },
   "outputs": [],
   "source": [
    "batch_size = 512\n",
    "epochs = 100"
   ]
  },
  {
   "cell_type": "markdown",
   "metadata": {
    "colab_type": "text",
    "id": "Lq07vmTBps03"
   },
   "source": [
    "## Dataset\n",
    "\n",
    "We load the MNIST classification dataset."
   ]
  },
  {
   "cell_type": "code",
   "execution_count": 5,
   "metadata": {
    "colab": {},
    "colab_type": "code",
    "id": "0sO1dA2AltFx"
   },
   "outputs": [],
   "source": [
    "(train_features, train_labels), (test_features, test_labels) = mnist.load_data()"
   ]
  },
  {
   "cell_type": "markdown",
   "metadata": {
    "colab_type": "text",
    "id": "E8wet1ezpxkh"
   },
   "source": [
    "We preprocess the MNIST dataset."
   ]
  },
  {
   "cell_type": "code",
   "execution_count": 6,
   "metadata": {
    "colab": {},
    "colab_type": "code",
    "id": "qmqsR2ORmQ3I"
   },
   "outputs": [],
   "source": [
    "train_features = train_features.reshape(-1, 28, 28, 1)\n",
    "\n",
    "train_features = train_features.astype('float32')\n",
    "train_features = train_features / 255.\n",
    "\n",
    "test_features = test_features.reshape(-1, 28, 28, 1)\n",
    "\n",
    "test_features = test_features.astype('float32')\n",
    "test_features = test_features / 255.\n",
    "\n",
    "train_labels = tf.one_hot(train_labels, len(np.unique(train_labels)))\n",
    "test_labels = tf.one_hot(test_labels, len(np.unique(test_labels)))"
   ]
  },
  {
   "cell_type": "markdown",
   "metadata": {
    "colab_type": "text",
    "id": "fHbIO76hpzrV"
   },
   "source": [
    "Create the `tf.data.Dataset` object for training and evaluation."
   ]
  },
  {
   "cell_type": "code",
   "execution_count": 7,
   "metadata": {
    "colab": {},
    "colab_type": "code",
    "id": "cOCne-f8nX93"
   },
   "outputs": [],
   "source": [
    "train_dataset = tf.data.Dataset.from_tensor_slices((train_features, train_labels))\n",
    "train_dataset = train_dataset.batch(batch_size)\n",
    "train_dataset = train_dataset.prefetch(batch_size * 4)\n",
    "train_dataset = train_dataset.shuffle(train_features.shape[0])\n",
    "\n",
    "test_dataset = tf.data.Dataset.from_tensor_slices((test_features, test_labels))\n",
    "test_dataset = train_dataset.batch(batch_size)\n",
    "test_dataset = train_dataset.prefetch(batch_size * 4)\n",
    "test_dataset = train_dataset.shuffle(test_features.shape[0])"
   ]
  },
  {
   "cell_type": "markdown",
   "metadata": {
    "colab_type": "text",
    "id": "xnvJJEEJqGBt"
   },
   "source": [
    "Build a mini VGG neural network."
   ]
  },
  {
   "cell_type": "code",
   "execution_count": 8,
   "metadata": {
    "colab": {},
    "colab_type": "code",
    "id": "US8to1drmnfj"
   },
   "outputs": [],
   "source": [
    "class NN(tf.keras.Model):\n",
    "    def __init__(self, **kwargs):\n",
    "        super(NN, self).__init__()\n",
    "        self.input_layer = tf.keras.layers.InputLayer(input_shape=kwargs[\"input_shape\"])\n",
    "        self.conv_1_layer_1 = tf.keras.layers.Conv2D(\n",
    "            filters=32, kernel_size=(3, 3), activation=tf.nn.relu\n",
    "        )\n",
    "        self.conv_1_layer_2 = tf.keras.layers.Conv2D(\n",
    "            filters=32, kernel_size=(3, 3), activation=tf.nn.relu\n",
    "        )\n",
    "        self.pool_layer_1 = tf.keras.layers.MaxPooling2D((2, 2))\n",
    "        self.conv_2_layer_1 = tf.keras.layers.Conv2D(\n",
    "            filters=64, kernel_size=(3, 3), activation=tf.nn.relu\n",
    "        )\n",
    "        self.conv_2_layer_2 = tf.keras.layers.Conv2D(\n",
    "            filters=64, kernel_size=(3, 3), activation=tf.nn.sigmoid\n",
    "        )\n",
    "        self.pool_layer_2 = tf.keras.layers.MaxPooling2D((2, 2))\n",
    "        self.flatten = tf.keras.layers.Flatten()\n",
    "        self.dense_layer = tf.keras.layers.Dense(units=512, activation=tf.nn.relu)\n",
    "        self.dropout = tf.keras.layers.Dropout(rate=2e-1)\n",
    "        self.output_layer = tf.keras.layers.Dense(units=10, activation=tf.nn.softmax)\n",
    "        \n",
    "    def call(self, features):\n",
    "        features = self.input_layer(features)\n",
    "        activation = self.conv_1_layer_1(features)\n",
    "        activation = self.conv_1_layer_2(activation)\n",
    "        activation = self.pool_layer_1(activation)\n",
    "        activation = self.conv_2_layer_1(activation)\n",
    "        activation = self.conv_2_layer_2(activation)\n",
    "        activation = self.pool_layer_2(activation)\n",
    "        activation = self.flatten(activation)\n",
    "        activation = self.dense_layer(activation)\n",
    "        activation = self.dropout(activation)\n",
    "        outputs = self.output_layer(activation)\n",
    "        return outputs"
   ]
  },
  {
   "cell_type": "markdown",
   "metadata": {
    "colab_type": "text",
    "id": "aSzliWvXqKCm"
   },
   "source": [
    "Instantiate the neural network."
   ]
  },
  {
   "cell_type": "code",
   "execution_count": 9,
   "metadata": {
    "colab": {},
    "colab_type": "code",
    "id": "e3PVAvJdmo4v"
   },
   "outputs": [],
   "source": [
    "clf = NN(input_shape=(28, 28, 1))"
   ]
  },
  {
   "cell_type": "markdown",
   "metadata": {
    "colab_type": "text",
    "id": "FioHPyi9qMzv"
   },
   "source": [
    "Compile the neural network for training and inference."
   ]
  },
  {
   "cell_type": "code",
   "execution_count": 10,
   "metadata": {
    "colab": {},
    "colab_type": "code",
    "id": "7k8qMlelmqui"
   },
   "outputs": [],
   "source": [
    "clf.compile(loss=tf.losses.categorical_crossentropy,\n",
    "            optimizer=tf.optimizers.SGD(\n",
    "                learning_rate=1e-2, momentum=9e-1, decay=1e-6\n",
    "                ),\n",
    "            metrics=['accuracy'])"
   ]
  },
  {
   "cell_type": "markdown",
   "metadata": {
    "colab_type": "text",
    "id": "DcVEzQayqQMn"
   },
   "source": [
    "Train the model."
   ]
  },
  {
   "cell_type": "code",
   "execution_count": 11,
   "metadata": {
    "colab": {
     "base_uri": "https://localhost:8080/",
     "height": 374
    },
    "colab_type": "code",
    "id": "u7DVQwRgmxyG",
    "outputId": "a89f88eb-cd90-4ee0-b2a6-6d6cbdca87a3"
   },
   "outputs": [
    {
     "name": "stdout",
     "output_type": "stream",
     "text": [
      "Epoch 1/100\n",
      "118/118 - 12s - loss: 2.1805 - accuracy: 0.2315\n",
      "Epoch 2/100\n",
      "118/118 - 14s - loss: 0.4376 - accuracy: 0.8733\n",
      "Epoch 3/100\n",
      "118/118 - 20s - loss: 0.2118 - accuracy: 0.9375\n",
      "Epoch 4/100\n",
      "118/118 - 19s - loss: 0.1544 - accuracy: 0.9546\n",
      "Epoch 5/100\n",
      "118/118 - 21s - loss: 0.1256 - accuracy: 0.9632\n",
      "Epoch 6/100\n",
      "118/118 - 19s - loss: 0.1061 - accuracy: 0.9686\n",
      "Epoch 7/100\n",
      "118/118 - 18s - loss: 0.0938 - accuracy: 0.9712\n",
      "Epoch 8/100\n",
      "118/118 - 18s - loss: 0.0839 - accuracy: 0.9750\n",
      "Epoch 9/100\n",
      "118/118 - 18s - loss: 0.0774 - accuracy: 0.9769\n",
      "Epoch 10/100\n",
      "118/118 - 18s - loss: 0.0705 - accuracy: 0.9789\n",
      "Epoch 11/100\n",
      "118/118 - 18s - loss: 0.0661 - accuracy: 0.9805\n",
      "Epoch 12/100\n",
      "118/118 - 18s - loss: 0.0608 - accuracy: 0.9819\n",
      "Epoch 13/100\n",
      "118/118 - 18s - loss: 0.0576 - accuracy: 0.9830\n",
      "Epoch 14/100\n",
      "118/118 - 18s - loss: 0.0546 - accuracy: 0.9841\n",
      "Epoch 15/100\n",
      "118/118 - 18s - loss: 0.0511 - accuracy: 0.9850\n",
      "Epoch 16/100\n",
      "118/118 - 18s - loss: 0.0488 - accuracy: 0.9855\n",
      "Epoch 17/100\n",
      "118/118 - 18s - loss: 0.0466 - accuracy: 0.9866\n",
      "Epoch 18/100\n",
      "118/118 - 18s - loss: 0.0450 - accuracy: 0.9868\n",
      "Epoch 19/100\n",
      "118/118 - 18s - loss: 0.0418 - accuracy: 0.9876\n",
      "Epoch 20/100\n",
      "118/118 - 18s - loss: 0.0412 - accuracy: 0.9879\n",
      "Epoch 21/100\n",
      "118/118 - 18s - loss: 0.0397 - accuracy: 0.9883\n",
      "Epoch 22/100\n",
      "118/118 - 18s - loss: 0.0380 - accuracy: 0.9887\n",
      "Epoch 23/100\n",
      "118/118 - 18s - loss: 0.0365 - accuracy: 0.9890\n",
      "Epoch 24/100\n",
      "118/118 - 18s - loss: 0.0347 - accuracy: 0.9898\n",
      "Epoch 25/100\n",
      "118/118 - 18s - loss: 0.0343 - accuracy: 0.9898\n",
      "Epoch 26/100\n",
      "118/118 - 18s - loss: 0.0322 - accuracy: 0.9907\n",
      "Epoch 27/100\n",
      "118/118 - 18s - loss: 0.0312 - accuracy: 0.9910\n",
      "Epoch 28/100\n",
      "118/118 - 18s - loss: 0.0305 - accuracy: 0.9911\n",
      "Epoch 29/100\n",
      "118/118 - 18s - loss: 0.0289 - accuracy: 0.9914\n",
      "Epoch 30/100\n",
      "118/118 - 18s - loss: 0.0289 - accuracy: 0.9911\n",
      "Epoch 31/100\n",
      "118/118 - 18s - loss: 0.0279 - accuracy: 0.9920\n",
      "Epoch 32/100\n",
      "118/118 - 18s - loss: 0.0263 - accuracy: 0.9923\n",
      "Epoch 33/100\n",
      "118/118 - 18s - loss: 0.0257 - accuracy: 0.9927\n",
      "Epoch 34/100\n",
      "118/118 - 18s - loss: 0.0251 - accuracy: 0.9928\n",
      "Epoch 35/100\n",
      "118/118 - 18s - loss: 0.0242 - accuracy: 0.9931\n",
      "Epoch 36/100\n",
      "118/118 - 18s - loss: 0.0239 - accuracy: 0.9929\n",
      "Epoch 37/100\n",
      "118/118 - 18s - loss: 0.0226 - accuracy: 0.9936\n",
      "Epoch 38/100\n",
      "118/118 - 18s - loss: 0.0221 - accuracy: 0.9936\n",
      "Epoch 39/100\n",
      "118/118 - 18s - loss: 0.0222 - accuracy: 0.9938\n",
      "Epoch 40/100\n",
      "118/118 - 18s - loss: 0.0211 - accuracy: 0.9941\n",
      "Epoch 41/100\n",
      "118/118 - 18s - loss: 0.0206 - accuracy: 0.9942\n",
      "Epoch 42/100\n",
      "118/118 - 18s - loss: 0.0198 - accuracy: 0.9944\n",
      "Epoch 43/100\n",
      "118/118 - 18s - loss: 0.0193 - accuracy: 0.9948\n",
      "Epoch 44/100\n",
      "118/118 - 18s - loss: 0.0183 - accuracy: 0.9951\n",
      "Epoch 45/100\n",
      "118/118 - 18s - loss: 0.0184 - accuracy: 0.9949\n",
      "Epoch 46/100\n",
      "118/118 - 18s - loss: 0.0176 - accuracy: 0.9953\n",
      "Epoch 47/100\n",
      "118/118 - 18s - loss: 0.0174 - accuracy: 0.9956\n",
      "Epoch 48/100\n",
      "118/118 - 18s - loss: 0.0171 - accuracy: 0.9954\n",
      "Epoch 49/100\n",
      "118/118 - 18s - loss: 0.0163 - accuracy: 0.9956\n",
      "Epoch 50/100\n",
      "118/118 - 18s - loss: 0.0160 - accuracy: 0.9957\n",
      "Epoch 51/100\n",
      "118/118 - 17s - loss: 0.0156 - accuracy: 0.9956\n",
      "Epoch 52/100\n",
      "118/118 - 18s - loss: 0.0150 - accuracy: 0.9963\n",
      "Epoch 53/100\n",
      "118/118 - 18s - loss: 0.0149 - accuracy: 0.9960\n",
      "Epoch 54/100\n",
      "118/118 - 18s - loss: 0.0150 - accuracy: 0.9959\n",
      "Epoch 55/100\n",
      "118/118 - 18s - loss: 0.0143 - accuracy: 0.9961\n",
      "Epoch 56/100\n",
      "118/118 - 18s - loss: 0.0136 - accuracy: 0.9966\n",
      "Epoch 57/100\n",
      "118/118 - 18s - loss: 0.0136 - accuracy: 0.9962\n",
      "Epoch 58/100\n",
      "118/118 - 18s - loss: 0.0130 - accuracy: 0.9969\n",
      "Epoch 59/100\n",
      "118/118 - 18s - loss: 0.0133 - accuracy: 0.9966\n",
      "Epoch 60/100\n",
      "118/118 - 18s - loss: 0.0120 - accuracy: 0.9968\n",
      "Epoch 61/100\n",
      "118/118 - 18s - loss: 0.0123 - accuracy: 0.9969\n",
      "Epoch 62/100\n",
      "118/118 - 18s - loss: 0.0118 - accuracy: 0.9972\n",
      "Epoch 63/100\n",
      "118/118 - 18s - loss: 0.0113 - accuracy: 0.9973\n",
      "Epoch 64/100\n",
      "118/118 - 18s - loss: 0.0110 - accuracy: 0.9975\n",
      "Epoch 65/100\n",
      "118/118 - 18s - loss: 0.0109 - accuracy: 0.9973\n",
      "Epoch 66/100\n",
      "118/118 - 18s - loss: 0.0099 - accuracy: 0.9980\n",
      "Epoch 67/100\n",
      "118/118 - 18s - loss: 0.0105 - accuracy: 0.9975\n",
      "Epoch 68/100\n",
      "118/118 - 18s - loss: 0.0100 - accuracy: 0.9978\n",
      "Epoch 69/100\n",
      "118/118 - 18s - loss: 0.0102 - accuracy: 0.9976\n",
      "Epoch 70/100\n",
      "118/118 - 18s - loss: 0.0102 - accuracy: 0.9975\n",
      "Epoch 71/100\n",
      "118/118 - 18s - loss: 0.0097 - accuracy: 0.9978\n",
      "Epoch 72/100\n",
      "118/118 - 18s - loss: 0.0095 - accuracy: 0.9980\n",
      "Epoch 73/100\n",
      "118/118 - 18s - loss: 0.0097 - accuracy: 0.9977\n",
      "Epoch 74/100\n",
      "118/118 - 18s - loss: 0.0091 - accuracy: 0.9980\n",
      "Epoch 75/100\n",
      "118/118 - 18s - loss: 0.0086 - accuracy: 0.9983\n",
      "Epoch 76/100\n",
      "118/118 - 18s - loss: 0.0090 - accuracy: 0.9982\n",
      "Epoch 77/100\n",
      "118/118 - 18s - loss: 0.0086 - accuracy: 0.9982\n",
      "Epoch 78/100\n",
      "118/118 - 18s - loss: 0.0081 - accuracy: 0.9983\n",
      "Epoch 79/100\n",
      "118/118 - 18s - loss: 0.0081 - accuracy: 0.9983\n",
      "Epoch 80/100\n",
      "118/118 - 18s - loss: 0.0079 - accuracy: 0.9984\n",
      "Epoch 81/100\n",
      "118/118 - 18s - loss: 0.0073 - accuracy: 0.9986\n",
      "Epoch 82/100\n",
      "118/118 - 18s - loss: 0.0076 - accuracy: 0.9983\n",
      "Epoch 83/100\n",
      "118/118 - 17s - loss: 0.0074 - accuracy: 0.9985\n",
      "Epoch 84/100\n",
      "118/118 - 18s - loss: 0.0072 - accuracy: 0.9986\n",
      "Epoch 85/100\n",
      "118/118 - 18s - loss: 0.0071 - accuracy: 0.9987\n",
      "Epoch 86/100\n",
      "118/118 - 18s - loss: 0.0069 - accuracy: 0.9987\n",
      "Epoch 87/100\n",
      "118/118 - 18s - loss: 0.0069 - accuracy: 0.9987\n",
      "Epoch 88/100\n",
      "118/118 - 18s - loss: 0.0065 - accuracy: 0.9989\n",
      "Epoch 89/100\n",
      "118/118 - 18s - loss: 0.0066 - accuracy: 0.9987\n",
      "Epoch 90/100\n",
      "118/118 - 18s - loss: 0.0064 - accuracy: 0.9988\n",
      "Epoch 91/100\n",
      "118/118 - 18s - loss: 0.0066 - accuracy: 0.9988\n",
      "Epoch 92/100\n",
      "118/118 - 18s - loss: 0.0065 - accuracy: 0.9989\n",
      "Epoch 93/100\n",
      "118/118 - 18s - loss: 0.0065 - accuracy: 0.9988\n",
      "Epoch 94/100\n",
      "118/118 - 18s - loss: 0.0062 - accuracy: 0.9990\n",
      "Epoch 95/100\n",
      "118/118 - 18s - loss: 0.0059 - accuracy: 0.9990\n",
      "Epoch 96/100\n",
      "118/118 - 18s - loss: 0.0056 - accuracy: 0.9989\n",
      "Epoch 97/100\n",
      "118/118 - 18s - loss: 0.0057 - accuracy: 0.9991\n",
      "Epoch 98/100\n",
      "118/118 - 18s - loss: 0.0055 - accuracy: 0.9992\n",
      "Epoch 99/100\n",
      "118/118 - 17s - loss: 0.0055 - accuracy: 0.9990\n",
      "Epoch 100/100\n",
      "118/118 - 18s - loss: 0.0053 - accuracy: 0.9991\n"
     ]
    },
    {
     "data": {
      "text/plain": [
       "<tensorflow.python.keras.callbacks.History at 0x7fb7901b5cf8>"
      ]
     },
     "execution_count": 11,
     "metadata": {},
     "output_type": "execute_result"
    }
   ],
   "source": [
    "clf.fit(train_dataset, epochs=epochs, verbose=2)"
   ]
  },
  {
   "cell_type": "markdown",
   "metadata": {
    "colab_type": "text",
    "id": "hPER3F84qRck"
   },
   "source": [
    "Evaluate the performance."
   ]
  },
  {
   "cell_type": "code",
   "execution_count": 12,
   "metadata": {
    "colab": {
     "base_uri": "https://localhost:8080/",
     "height": 51
    },
    "colab_type": "code",
    "id": "uVY52Fa2m_x3",
    "outputId": "8a1ac37e-2d46-4bff-b2f2-e764885d453e"
   },
   "outputs": [
    {
     "name": "stdout",
     "output_type": "stream",
     "text": [
      "118/118 - 6s - loss: 0.0033 - accuracy: 0.9997\n"
     ]
    },
    {
     "data": {
      "text/plain": [
       "[0.003284570782236218, 0.99965]"
      ]
     },
     "execution_count": 12,
     "metadata": {},
     "output_type": "execute_result"
    }
   ],
   "source": [
    "clf.evaluate(test_dataset, verbose=2)"
   ]
  },
  {
   "cell_type": "markdown",
   "metadata": {
    "colab_type": "text",
    "id": "2TFCaAzbqS3w"
   },
   "source": [
    "Perturb the test data with noise from a Normal distribution having a standard deviation of `5e-2`."
   ]
  },
  {
   "cell_type": "code",
   "execution_count": 13,
   "metadata": {
    "colab": {},
    "colab_type": "code",
    "id": "7_OYG3QEnyVj"
   },
   "outputs": [],
   "source": [
    "test_features += tf.random.normal(stddev=5e-2, shape=test_features.shape)"
   ]
  },
  {
   "cell_type": "markdown",
   "metadata": {
    "colab_type": "text",
    "id": "C5rqv-Bfqa0p"
   },
   "source": [
    "Evaluate the model on the perturbed test data."
   ]
  },
  {
   "cell_type": "code",
   "execution_count": 14,
   "metadata": {
    "colab": {
     "base_uri": "https://localhost:8080/",
     "height": 51
    },
    "colab_type": "code",
    "id": "I7mdvROzn4Lk",
    "outputId": "20662868-89df-46eb-a0e1-0b622f54040f"
   },
   "outputs": [
    {
     "name": "stdout",
     "output_type": "stream",
     "text": [
      "10000/1 - 2s - loss: 0.0432 - accuracy: 0.9905\n"
     ]
    },
    {
     "data": {
      "text/plain": [
       "[0.030686995440721513, 0.9905]"
      ]
     },
     "execution_count": 14,
     "metadata": {},
     "output_type": "execute_result"
    }
   ],
   "source": [
    "clf.evaluate(test_features, test_labels, batch_size=512, verbose=2)"
   ]
  },
  {
   "cell_type": "markdown",
   "metadata": {
    "colab_type": "text",
    "id": "ScbIR9owqgyy"
   },
   "source": [
    "Reload the test features, and increase the standard deviation of the Normal distribution from which we shall get the noise from for perturbing the test data."
   ]
  },
  {
   "cell_type": "code",
   "execution_count": 15,
   "metadata": {
    "colab": {},
    "colab_type": "code",
    "id": "OzmmB4SJoTPZ"
   },
   "outputs": [],
   "source": [
    "_, (test_features, _) = mnist.load_data()\n",
    "\n",
    "test_features = test_features.astype('float32') / 255.\n",
    "test_features = test_features.reshape(-1, 28, 28, 1)\n",
    "test_features += tf.random.normal(stddev=5e-1, shape=test_features.shape)"
   ]
  },
  {
   "cell_type": "markdown",
   "metadata": {
    "colab_type": "text",
    "id": "mMpQtIYOqtDW"
   },
   "source": [
    "Evaluate on the new perturbed test data."
   ]
  },
  {
   "cell_type": "code",
   "execution_count": 16,
   "metadata": {
    "colab": {
     "base_uri": "https://localhost:8080/",
     "height": 51
    },
    "colab_type": "code",
    "id": "B1rpsaLAogbY",
    "outputId": "9f1ae6bb-a692-47bb-b101-fa3679dea94a"
   },
   "outputs": [
    {
     "name": "stdout",
     "output_type": "stream",
     "text": [
      "10000/1 - 1s - loss: 0.3376 - accuracy: 0.9146\n"
     ]
    },
    {
     "data": {
      "text/plain": [
       "[0.2891769985198975, 0.9146]"
      ]
     },
     "execution_count": 16,
     "metadata": {},
     "output_type": "execute_result"
    }
   ],
   "source": [
    "clf.evaluate(test_features, test_labels, batch_size=batch_size, verbose=2)"
   ]
  },
  {
   "cell_type": "code",
   "execution_count": 18,
   "metadata": {},
   "outputs": [],
   "source": [
    "clf.save_weights('../assets/export/baseline/mnist/100_epochs', save_format='tf')"
   ]
  }
 ],
 "metadata": {
  "accelerator": "GPU",
  "colab": {
   "collapsed_sections": [],
   "include_colab_link": true,
   "name": "x-pretrained-vgg-classification.ipynb",
   "provenance": []
  },
  "kernelspec": {
   "display_name": "Python 3",
   "language": "python",
   "name": "python3"
  },
  "language_info": {
   "codemirror_mode": {
    "name": "ipython",
    "version": 3
   },
   "file_extension": ".py",
   "mimetype": "text/x-python",
   "name": "python",
   "nbconvert_exporter": "python",
   "pygments_lexer": "ipython3",
   "version": "3.6.8"
  }
 },
 "nbformat": 4,
 "nbformat_minor": 2
}
