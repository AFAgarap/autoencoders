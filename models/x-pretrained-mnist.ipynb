{
  "nbformat": 4,
  "nbformat_minor": 0,
  "metadata": {
    "colab": {
      "name": "x-pretrained-vgg-classification.ipynb",
      "provenance": [],
      "collapsed_sections": [],
      "include_colab_link": true
    },
    "kernelspec": {
      "name": "python3",
      "display_name": "Python 3"
    },
    "accelerator": "GPU"
  },
  "cells": [
    {
      "cell_type": "markdown",
      "metadata": {
        "id": "view-in-github",
        "colab_type": "text"
      },
      "source": [
        "<a href=\"https://colab.research.google.com/github/AFAgarap/autoencoders/blob/pretraining/models/x_pretrained_vgg_classification.ipynb\" target=\"_parent\"><img src=\"https://colab.research.google.com/assets/colab-badge.svg\" alt=\"Open In Colab\"/></a>"
      ]
    },
    {
      "cell_type": "markdown",
      "metadata": {
        "id": "7_r_yVCVpS85",
        "colab_type": "text"
      },
      "source": [
        "Pretraining Autoencoder for Downstream Task\n",
        "=====\n",
        "\n",
        "## Overview \n",
        "\n",
        "In this notebook, we use the pretrained encoder of a mini VGG-based autoencoder as a feature extractor for a neural network.\n",
        "\n",
        "## Setup \n",
        "\n",
        "We setup our dependencies."
      ]
    },
    {
      "cell_type": "code",
      "metadata": {
        "id": "WBBgBzRglSdP",
        "colab_type": "code",
        "colab": {}
      },
      "source": [
        "!pip install --quiet tensorflow-gpu==2.0.0\n",
        "!git clone https://github.com/afagarap/autoencoders\n",
        "!cd autoencoders\n",
        "!git checkout -b pretraining\n",
        "!git pull origin pretraining"
      ],
      "execution_count": 0,
      "outputs": []
    },
    {
      "cell_type": "code",
      "metadata": {
        "id": "_x8jUvV5leuX",
        "colab_type": "code",
        "colab": {}
      },
      "source": [
        "from __future__ import absolute_import\n",
        "from __future__ import division\n",
        "from __future__ import print_function\n",
        "\n",
        "__author__ = 'Abien Fred Agarap'\n",
        "__version__ = '1.0.0'\n",
        "\n",
        "import matplotlib.pyplot as plt\n",
        "import numpy as np\n",
        "import tensorflow as tf\n",
        "from tensorflow.keras.datasets import mnist, fashion_mnist, cifar10\n",
        "from autoencoders.models.tf.vgg_ae import CVAE"
      ],
      "execution_count": 0,
      "outputs": []
    },
    {
      "cell_type": "markdown",
      "metadata": {
        "id": "lKkvrPNbpmb8",
        "colab_type": "text"
      },
      "source": [
        "Set the memory growth of GPU."
      ]
    },
    {
      "cell_type": "code",
      "metadata": {
        "id": "LfY3Gcevodo7",
        "colab_type": "code",
        "colab": {}
      },
      "source": [
        "tf.config.experimental.set_memory_growth(\n",
        "    tf.config.experimental.list_physical_devices('GPU')[0],\n",
        "    True\n",
        ")"
      ],
      "execution_count": 0,
      "outputs": []
    },
    {
      "cell_type": "markdown",
      "metadata": {
        "id": "jdguwL96ppDp",
        "colab_type": "text"
      },
      "source": [
        "Set the random number generator seed value."
      ]
    },
    {
      "cell_type": "code",
      "metadata": {
        "id": "7MjqEUjAoj4m",
        "colab_type": "code",
        "colab": {}
      },
      "source": [
        "SEED = 42\n",
        "tf.random.set_seed(SEED)\n",
        "np.random.seed(SEED)"
      ],
      "execution_count": 0,
      "outputs": []
    },
    {
      "cell_type": "markdown",
      "metadata": {
        "id": "1gZK7wlTpq-Y",
        "colab_type": "text"
      },
      "source": [
        "We set the batch size and epochs."
      ]
    },
    {
      "cell_type": "code",
      "metadata": {
        "id": "usw0kmm4mLIi",
        "colab_type": "code",
        "colab": {}
      },
      "source": [
        "batch_size = 512\n",
        "epochs = 100"
      ],
      "execution_count": 0,
      "outputs": []
    },
    {
      "cell_type": "markdown",
      "metadata": {
        "id": "Lq07vmTBps03",
        "colab_type": "text"
      },
      "source": [
        "## Dataset\n",
        "\n",
        "We load the MNIST classification dataset."
      ]
    },
    {
      "cell_type": "code",
      "metadata": {
        "id": "0sO1dA2AltFx",
        "colab_type": "code",
        "colab": {}
      },
      "source": [
        "(train_features, train_labels), (test_features, test_labels) = tf.keras.datasets.mnist.load_data()"
      ],
      "execution_count": 0,
      "outputs": []
    },
    {
      "cell_type": "markdown",
      "metadata": {
        "id": "E8wet1ezpxkh",
        "colab_type": "text"
      },
      "source": [
        "We preprocess the MNIST dataset."
      ]
    },
    {
      "cell_type": "code",
      "metadata": {
        "id": "qmqsR2ORmQ3I",
        "colab_type": "code",
        "colab": {}
      },
      "source": [
        "train_features = train_features.reshape(-1, 28, 28, 1)\n",
        "\n",
        "train_features = train_features.astype('float32')\n",
        "train_features = train_features / 255.\n",
        "\n",
        "test_features = test_features.reshape(-1, 28, 28, 1)\n",
        "\n",
        "test_features = test_features.astype('float32')\n",
        "test_features = test_features / 255.\n",
        "\n",
        "train_labels = tf.one_hot(train_labels, len(np.unique(train_labels)))\n",
        "test_labels = tf.one_hot(test_labels, len(np.unique(test_labels)))"
      ],
      "execution_count": 0,
      "outputs": []
    },
    {
      "cell_type": "markdown",
      "metadata": {
        "id": "fHbIO76hpzrV",
        "colab_type": "text"
      },
      "source": [
        "Create the `tf.data.Dataset` object for training and evaluation."
      ]
    },
    {
      "cell_type": "code",
      "metadata": {
        "id": "cOCne-f8nX93",
        "colab_type": "code",
        "colab": {}
      },
      "source": [
        "train_dataset = tf.data.Dataset.from_tensor_slices((train_features, train_labels))\n",
        "train_dataset = train_dataset.batch(batch_size)\n",
        "train_dataset = train_dataset.prefetch(batch_size * 4)\n",
        "train_dataset = train_dataset.shuffle(train_features.shape[0])\n",
        "\n",
        "test_dataset = tf.data.Dataset.from_tensor_slices((test_features, test_labels))\n",
        "test_dataset = train_dataset.batch(batch_size)\n",
        "test_dataset = train_dataset.prefetch(batch_size * 4)\n",
        "test_dataset = train_dataset.shuffle(test_features.shape[0])"
      ],
      "execution_count": 0,
      "outputs": []
    },
    {
      "cell_type": "markdown",
      "metadata": {
        "id": "rCn-hGv8p3BY",
        "colab_type": "text"
      },
      "source": [
        "Instantiate the mini VGG-based autoencoder model."
      ]
    },
    {
      "cell_type": "code",
      "metadata": {
        "id": "VSZapOyLo1go",
        "colab_type": "code",
        "colab": {}
      },
      "source": [
        "model = CVAE(input_shape=(28, 28, 1), latent_dim=32)"
      ],
      "execution_count": 0,
      "outputs": []
    },
    {
      "cell_type": "markdown",
      "metadata": {
        "id": "Qcc25PNcp6rw",
        "colab_type": "text"
      },
      "source": [
        "Compile the model."
      ]
    },
    {
      "cell_type": "code",
      "metadata": {
        "id": "MZUJd0VUo6rq",
        "colab_type": "code",
        "colab": {}
      },
      "source": [
        "model.compile(loss=tf.losses.mean_squared_error, optimizer=tf.optimizers.Adam(learning_rate=1e-3))"
      ],
      "execution_count": 0,
      "outputs": []
    },
    {
      "cell_type": "markdown",
      "metadata": {
        "id": "PJ3AodaTp7yv",
        "colab_type": "text"
      },
      "source": [
        "Load the trained autoencoder model."
      ]
    },
    {
      "cell_type": "code",
      "metadata": {
        "id": "ijzOdvBgnhHb",
        "colab_type": "code",
        "colab": {
          "base_uri": "https://localhost:8080/",
          "height": 34
        },
        "outputId": "fede51ac-10cd-40a8-dc87-b22894f10c37"
      },
      "source": [
        "model.load_weights('autoencoders/assets/export/mini_vgg_ae_mnist')"
      ],
      "execution_count": 10,
      "outputs": [
        {
          "output_type": "execute_result",
          "data": {
            "text/plain": [
              "<tensorflow.python.training.tracking.util.CheckpointLoadStatus at 0x7f32504efa20>"
            ]
          },
          "metadata": {
            "tags": []
          },
          "execution_count": 10
        }
      ]
    },
    {
      "cell_type": "markdown",
      "metadata": {
        "id": "zT-9_JPVp99K",
        "colab_type": "text"
      },
      "source": [
        "Visualize the test data and the model reconstructions."
      ]
    },
    {
      "cell_type": "code",
      "metadata": {
        "id": "xGCqNT8Fmh3i",
        "colab_type": "code",
        "colab": {
          "base_uri": "https://localhost:8080/",
          "height": 248
        },
        "outputId": "99f1684e-6d56-4759-edd8-ad83495d8e4a"
      },
      "source": [
        "number = 10\n",
        "plt.figure(figsize=(20, 4))\n",
        "for index in range(number):\n",
        "    # display original\n",
        "    ax = plt.subplot(2, number, index + 1)\n",
        "    plt.imshow(test_features[index].reshape(28, 28))\n",
        "    plt.gray()\n",
        "    ax.get_xaxis().set_visible(False)\n",
        "    ax.get_yaxis().set_visible(False)\n",
        "\n",
        "    # display reconstruction\n",
        "    ax = plt.subplot(2, number, index + 1 + number)\n",
        "    plt.imshow(model(test_features[index].reshape(-1, 28, 28, 1)).numpy().reshape(28, 28))\n",
        "    plt.gray()\n",
        "    ax.get_xaxis().set_visible(False)\n",
        "    ax.get_yaxis().set_visible(False)\n",
        "plt.show()"
      ],
      "execution_count": 11,
      "outputs": [
        {
          "output_type": "display_data",
          "data": {
            "image/png": "[encoded data removed]",
            "text/plain": [
              "<Figure size 1440x288 with 20 Axes>"
            ]
          },
          "metadata": {
            "tags": []
          }
        }
      ]
    },
    {
      "cell_type": "markdown",
      "metadata": {
        "id": "TUew3Z8WqBQ1",
        "colab_type": "text"
      },
      "source": [
        "Let's check the number of parameters."
      ]
    },
    {
      "cell_type": "code",
      "metadata": {
        "id": "XwhrOGzQmj4n",
        "colab_type": "code",
        "colab": {
          "base_uri": "https://localhost:8080/",
          "height": 221
        },
        "outputId": "8c220a47-32a3-4168-a39f-aa4d179fd5a2"
      },
      "source": [
        "model.summary()"
      ],
      "execution_count": 12,
      "outputs": [
        {
          "output_type": "stream",
          "text": [
            "Model: \"cvae\"\n",
            "_________________________________________________________________\n",
            "Layer (type)                 Output Shape              Param #   \n",
            "=================================================================\n",
            "encoder (Encoder)            multiple                  64992     \n",
            "_________________________________________________________________\n",
            "decoder (Decoder)            multiple                  92609     \n",
            "=================================================================\n",
            "Total params: 157,601\n",
            "Trainable params: 157,601\n",
            "Non-trainable params: 0\n",
            "_________________________________________________________________\n"
          ],
          "name": "stdout"
        }
      ]
    },
    {
      "cell_type": "markdown",
      "metadata": {
        "id": "PM5FbgpSqD4B",
        "colab_type": "text"
      },
      "source": [
        "Freeze the encoder layer of the autoencoder."
      ]
    },
    {
      "cell_type": "code",
      "metadata": {
        "id": "r9DVlH1QmmLC",
        "colab_type": "code",
        "colab": {}
      },
      "source": [
        "model.encoder.trainable = False"
      ],
      "execution_count": 0,
      "outputs": []
    },
    {
      "cell_type": "markdown",
      "metadata": {
        "id": "xnvJJEEJqGBt",
        "colab_type": "text"
      },
      "source": [
        "Build a neural network with `model.encoder` as feature extractor."
      ]
    },
    {
      "cell_type": "code",
      "metadata": {
        "id": "US8to1drmnfj",
        "colab_type": "code",
        "colab": {}
      },
      "source": [
        "class NN(tf.keras.Model):\n",
        "    def __init__(self, **kwargs):\n",
        "        super(NN, self).__init__()\n",
        "        self.encoder = model.encoder\n",
        "        self.flatten = tf.keras.layers.Flatten()\n",
        "        self.dense_layer = tf.keras.layers.Dense(units=512, activation=tf.nn.relu)\n",
        "        self.dropout = tf.keras.layers.Dropout(rate=2e-1)\n",
        "        self.output_layer = tf.keras.layers.Dense(units=10, activation=tf.nn.softmax)\n",
        "        \n",
        "    def call(self, features):\n",
        "        code = self.encoder(features)\n",
        "        code = self.flatten(code)\n",
        "        activation = self.dense_layer(code)\n",
        "        activation = self.dropout(activation)\n",
        "        outputs = self.output_layer(activation)\n",
        "        return outputs"
      ],
      "execution_count": 0,
      "outputs": []
    },
    {
      "cell_type": "markdown",
      "metadata": {
        "id": "aSzliWvXqKCm",
        "colab_type": "text"
      },
      "source": [
        "Instantiate the neural network."
      ]
    },
    {
      "cell_type": "code",
      "metadata": {
        "id": "e3PVAvJdmo4v",
        "colab_type": "code",
        "colab": {}
      },
      "source": [
        "clf = NN()"
      ],
      "execution_count": 0,
      "outputs": []
    },
    {
      "cell_type": "markdown",
      "metadata": {
        "id": "FioHPyi9qMzv",
        "colab_type": "text"
      },
      "source": [
        "Compile the neural network for training and inference."
      ]
    },
    {
      "cell_type": "code",
      "metadata": {
        "id": "7k8qMlelmqui",
        "colab_type": "code",
        "colab": {}
      },
      "source": [
        "clf.compile(loss=tf.losses.categorical_crossentropy,\n",
        "            optimizer=tf.optimizers.SGD(\n",
        "                learning_rate=1e-2, momentum=9e-1, decay=1e-6\n",
        "                ),\n",
        "            metrics=['accuracy'])"
      ],
      "execution_count": 0,
      "outputs": []
    },
    {
      "cell_type": "markdown",
      "metadata": {
        "id": "DcVEzQayqQMn",
        "colab_type": "text"
      },
      "source": [
        "Train the model."
      ]
    },
    {
      "cell_type": "code",
      "metadata": {
        "id": "u7DVQwRgmxyG",
        "colab_type": "code",
        "colab": {
          "base_uri": "https://localhost:8080/",
          "height": 374
        },
        "outputId": "a89f88eb-cd90-4ee0-b2a6-6d6cbdca87a3"
      },
      "source": [
        "clf.fit(train_dataset, epochs=10, verbose=2)"
      ],
      "execution_count": 17,
      "outputs": [
        {
          "output_type": "stream",
          "text": [
            "Epoch 1/10\n",
            "118/118 - 7s - loss: 0.5182 - accuracy: 0.8357\n",
            "Epoch 2/10\n",
            "118/118 - 6s - loss: 0.2612 - accuracy: 0.9227\n",
            "Epoch 3/10\n",
            "118/118 - 5s - loss: 0.2080 - accuracy: 0.9387\n",
            "Epoch 4/10\n",
            "118/118 - 5s - loss: 0.1798 - accuracy: 0.9465\n",
            "Epoch 5/10\n",
            "118/118 - 5s - loss: 0.1537 - accuracy: 0.9556\n",
            "Epoch 6/10\n",
            "118/118 - 5s - loss: 0.1382 - accuracy: 0.9594\n",
            "Epoch 7/10\n",
            "118/118 - 5s - loss: 0.1252 - accuracy: 0.9633\n",
            "Epoch 8/10\n",
            "118/118 - 5s - loss: 0.1142 - accuracy: 0.9674\n",
            "Epoch 9/10\n",
            "118/118 - 5s - loss: 0.1069 - accuracy: 0.9689\n",
            "Epoch 10/10\n",
            "118/118 - 5s - loss: 0.1002 - accuracy: 0.9706\n"
          ],
          "name": "stdout"
        },
        {
          "output_type": "execute_result",
          "data": {
            "text/plain": [
              "<tensorflow.python.keras.callbacks.History at 0x7f32504e9c50>"
            ]
          },
          "metadata": {
            "tags": []
          },
          "execution_count": 17
        }
      ]
    },
    {
      "cell_type": "markdown",
      "metadata": {
        "id": "hPER3F84qRck",
        "colab_type": "text"
      },
      "source": [
        "Evaluate the performance."
      ]
    },
    {
      "cell_type": "code",
      "metadata": {
        "id": "uVY52Fa2m_x3",
        "colab_type": "code",
        "colab": {
          "base_uri": "https://localhost:8080/",
          "height": 51
        },
        "outputId": "8a1ac37e-2d46-4bff-b2f2-e764885d453e"
      },
      "source": [
        "clf.evaluate(test_dataset, verbose=2)"
      ],
      "execution_count": 18,
      "outputs": [
        {
          "output_type": "stream",
          "text": [
            "118/118 - 5s - loss: 0.0896 - accuracy: 0.9734\n"
          ],
          "name": "stdout"
        },
        {
          "output_type": "execute_result",
          "data": {
            "text/plain": [
              "[0.08964226360164457, 0.9734]"
            ]
          },
          "metadata": {
            "tags": []
          },
          "execution_count": 18
        }
      ]
    },
    {
      "cell_type": "markdown",
      "metadata": {
        "id": "2TFCaAzbqS3w",
        "colab_type": "text"
      },
      "source": [
        "Perturb the test data with noise from a Normal distribution having a standard deviation of `5e-2`."
      ]
    },
    {
      "cell_type": "code",
      "metadata": {
        "id": "7_OYG3QEnyVj",
        "colab_type": "code",
        "colab": {}
      },
      "source": [
        "test_features += tf.random.normal(stddev=5e-2, shape=test_features.shape)"
      ],
      "execution_count": 0,
      "outputs": []
    },
    {
      "cell_type": "markdown",
      "metadata": {
        "id": "C5rqv-Bfqa0p",
        "colab_type": "text"
      },
      "source": [
        "Evaluate the model on the perturbed test data."
      ]
    },
    {
      "cell_type": "code",
      "metadata": {
        "id": "I7mdvROzn4Lk",
        "colab_type": "code",
        "colab": {
          "base_uri": "https://localhost:8080/",
          "height": 51
        },
        "outputId": "20662868-89df-46eb-a0e1-0b622f54040f"
      },
      "source": [
        "clf.evaluate(test_features, test_labels, batch_size=512, verbose=2)"
      ],
      "execution_count": 20,
      "outputs": [
        {
          "output_type": "stream",
          "text": [
            "10000/1 - 1s - loss: 0.2004 - accuracy: 0.9657\n"
          ],
          "name": "stdout"
        },
        {
          "output_type": "execute_result",
          "data": {
            "text/plain": [
              "[0.11838725547790527, 0.9657]"
            ]
          },
          "metadata": {
            "tags": []
          },
          "execution_count": 20
        }
      ]
    },
    {
      "cell_type": "markdown",
      "metadata": {
        "id": "EZD66asrqd0n",
        "colab_type": "text"
      },
      "source": [
        "Visualize the perturbed data and the reconstructions."
      ]
    },
    {
      "cell_type": "code",
      "metadata": {
        "id": "h4ydT3nCoK6z",
        "colab_type": "code",
        "colab": {
          "base_uri": "https://localhost:8080/",
          "height": 248
        },
        "outputId": "376a516c-fe22-4c32-c720-8973b5e6b44d"
      },
      "source": [
        "number = 10\n",
        "plt.figure(figsize=(20, 4))\n",
        "for index in range(number):\n",
        "    # display original\n",
        "    ax = plt.subplot(2, number, index + 1)\n",
        "    plt.imshow(test_features[index].numpy().reshape(28, 28))\n",
        "    plt.gray()\n",
        "    ax.get_xaxis().set_visible(False)\n",
        "    ax.get_yaxis().set_visible(False)\n",
        "\n",
        "    # display reconstruction\n",
        "    ax = plt.subplot(2, number, index + 1 + number)\n",
        "    plt.imshow(model(test_features[index].numpy().reshape(-1, 28, 28, 1)).numpy().reshape(28, 28))\n",
        "    plt.gray()\n",
        "    ax.get_xaxis().set_visible(False)\n",
        "    ax.get_yaxis().set_visible(False)\n",
        "plt.show()"
      ],
      "execution_count": 21,
      "outputs": [
        {
          "output_type": "display_data",
          "data": {
            "image/png": "[encoded data removed]",
            "text/plain": [
              "<Figure size 1440x288 with 20 Axes>"
            ]
          },
          "metadata": {
            "tags": []
          }
        }
      ]
    },
    {
      "cell_type": "markdown",
      "metadata": {
        "id": "ScbIR9owqgyy",
        "colab_type": "text"
      },
      "source": [
        "Reload the test features, and increase the standard deviation of the Normal distribution from which we shall get the noise from for perturbing the test data."
      ]
    },
    {
      "cell_type": "code",
      "metadata": {
        "id": "OzmmB4SJoTPZ",
        "colab_type": "code",
        "colab": {}
      },
      "source": [
        "_, (test_features, _) = tf.keras.datasets.mnist.load_data()\n",
        "\n",
        "test_features = test_features.astype('float32') / 255.\n",
        "test_features = test_features.reshape(-1, 28, 28, 1)\n",
        "test_features += tf.random.normal(stddev=5e-1, shape=test_features.shape)"
      ],
      "execution_count": 0,
      "outputs": []
    },
    {
      "cell_type": "markdown",
      "metadata": {
        "id": "7dw4HZo3qo5a",
        "colab_type": "text"
      },
      "source": [
        "Visualize the test features and the reconstructions."
      ]
    },
    {
      "cell_type": "code",
      "metadata": {
        "id": "NAcSd0u-od4r",
        "colab_type": "code",
        "colab": {
          "base_uri": "https://localhost:8080/",
          "height": 248
        },
        "outputId": "1797a5ea-4145-42e9-8cab-607fbd642f6d"
      },
      "source": [
        "number = 10\n",
        "plt.figure(figsize=(20, 4))\n",
        "for index in range(number):\n",
        "    # display original\n",
        "    ax = plt.subplot(2, number, index + 1)\n",
        "    plt.imshow(test_features[index].numpy().reshape(28, 28))\n",
        "    plt.gray()\n",
        "    ax.get_xaxis().set_visible(False)\n",
        "    ax.get_yaxis().set_visible(False)\n",
        "\n",
        "    # display reconstruction\n",
        "    ax = plt.subplot(2, number, index + 1 + number)\n",
        "    plt.imshow(model(test_features[index].numpy().reshape(-1, 28, 28, 1)).numpy().reshape(28, 28))\n",
        "    plt.gray()\n",
        "    ax.get_xaxis().set_visible(False)\n",
        "    ax.get_yaxis().set_visible(False)\n",
        "plt.show()"
      ],
      "execution_count": 26,
      "outputs": [
        {
          "output_type": "display_data",
          "data": {
            "image/png": "[encoded data removed]",
            "text/plain": [
              "<Figure size 1440x288 with 20 Axes>"
            ]
          },
          "metadata": {
            "tags": []
          }
        }
      ]
    },
    {
      "cell_type": "markdown",
      "metadata": {
        "id": "mMpQtIYOqtDW",
        "colab_type": "text"
      },
      "source": [
        "Evaluate on the new perturbed test data."
      ]
    },
    {
      "cell_type": "code",
      "metadata": {
        "id": "B1rpsaLAogbY",
        "colab_type": "code",
        "colab": {
          "base_uri": "https://localhost:8080/",
          "height": 51
        },
        "outputId": "9f1ae6bb-a692-47bb-b101-fa3679dea94a"
      },
      "source": [
        "clf.evaluate(test_features, test_labels, batch_size=batch_size, verbose=2)"
      ],
      "execution_count": 27,
      "outputs": [
        {
          "output_type": "stream",
          "text": [
            "10000/1 - 1s - loss: 0.5964 - accuracy: 0.8472\n"
          ],
          "name": "stdout"
        },
        {
          "output_type": "execute_result",
          "data": {
            "text/plain": [
              "[0.45457758646011354, 0.8472]"
            ]
          },
          "metadata": {
            "tags": []
          },
          "execution_count": 27
        }
      ]
    }
  ]
}