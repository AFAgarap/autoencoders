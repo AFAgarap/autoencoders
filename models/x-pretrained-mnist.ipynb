{
 "cells": [
  {
   "cell_type": "markdown",
   "metadata": {
    "colab_type": "text",
    "id": "7_r_yVCVpS85"
   },
   "source": [
    "Pretraining Autoencoder for Downstream Task\n",
    "=====\n",
    "\n",
    "## Overview \n",
    "\n",
    "In this notebook, we use the pretrained encoder of a mini VGG-based autoencoder as a feature extractor for a neural network.\n",
    "\n",
    "## Setup \n",
    "\n",
    "We setup our dependencies."
   ]
  },
  {
   "cell_type": "code",
   "execution_count": 1,
   "metadata": {
    "colab": {},
    "colab_type": "code",
    "id": "_x8jUvV5leuX"
   },
   "outputs": [],
   "source": [
    "from __future__ import absolute_import\n",
    "from __future__ import division\n",
    "from __future__ import print_function\n",
    "\n",
    "__author__ = 'Abien Fred Agarap'\n",
    "__version__ = '1.0.0'\n",
    "\n",
    "import matplotlib.pyplot as plt\n",
    "import numpy as np\n",
    "import tensorflow as tf\n",
    "from tensorflow.keras.datasets import mnist\n",
    "from tf.vgg_ae import CVAE"
   ]
  },
  {
   "cell_type": "markdown",
   "metadata": {
    "colab_type": "text",
    "id": "lKkvrPNbpmb8"
   },
   "source": [
    "Set the memory growth of GPU."
   ]
  },
  {
   "cell_type": "code",
   "execution_count": 2,
   "metadata": {
    "colab": {},
    "colab_type": "code",
    "id": "LfY3Gcevodo7"
   },
   "outputs": [],
   "source": [
    "tf.config.experimental.set_memory_growth(\n",
    "    tf.config.experimental.list_physical_devices('GPU')[0],\n",
    "    True\n",
    ")"
   ]
  },
  {
   "cell_type": "markdown",
   "metadata": {
    "colab_type": "text",
    "id": "jdguwL96ppDp"
   },
   "source": [
    "Set the random number generator seed value."
   ]
  },
  {
   "cell_type": "code",
   "execution_count": 3,
   "metadata": {
    "colab": {},
    "colab_type": "code",
    "id": "7MjqEUjAoj4m"
   },
   "outputs": [],
   "source": [
    "SEED = 42\n",
    "tf.random.set_seed(SEED)\n",
    "np.random.seed(SEED)"
   ]
  },
  {
   "cell_type": "markdown",
   "metadata": {
    "colab_type": "text",
    "id": "1gZK7wlTpq-Y"
   },
   "source": [
    "We set the batch size and epochs."
   ]
  },
  {
   "cell_type": "code",
   "execution_count": 4,
   "metadata": {
    "colab": {},
    "colab_type": "code",
    "id": "usw0kmm4mLIi"
   },
   "outputs": [],
   "source": [
    "batch_size = 512\n",
    "epochs = 100"
   ]
  },
  {
   "cell_type": "markdown",
   "metadata": {
    "colab_type": "text",
    "id": "Lq07vmTBps03"
   },
   "source": [
    "## Dataset\n",
    "\n",
    "We load the MNIST classification dataset."
   ]
  },
  {
   "cell_type": "code",
   "execution_count": 5,
   "metadata": {
    "colab": {},
    "colab_type": "code",
    "id": "0sO1dA2AltFx"
   },
   "outputs": [],
   "source": [
    "(train_features, train_labels), (test_features, test_labels) = mnist.load_data()"
   ]
  },
  {
   "cell_type": "markdown",
   "metadata": {
    "colab_type": "text",
    "id": "E8wet1ezpxkh"
   },
   "source": [
    "We preprocess the MNIST dataset."
   ]
  },
  {
   "cell_type": "code",
   "execution_count": 6,
   "metadata": {
    "colab": {},
    "colab_type": "code",
    "id": "qmqsR2ORmQ3I"
   },
   "outputs": [],
   "source": [
    "train_features = train_features.reshape(-1, 28, 28, 1)\n",
    "\n",
    "train_features = train_features.astype('float32')\n",
    "train_features = train_features / 255.\n",
    "\n",
    "test_features = test_features.reshape(-1, 28, 28, 1)\n",
    "\n",
    "test_features = test_features.astype('float32')\n",
    "test_features = test_features / 255.\n",
    "\n",
    "train_labels = tf.one_hot(train_labels, len(np.unique(train_labels)))\n",
    "test_labels = tf.one_hot(test_labels, len(np.unique(test_labels)))"
   ]
  },
  {
   "cell_type": "markdown",
   "metadata": {
    "colab_type": "text",
    "id": "fHbIO76hpzrV"
   },
   "source": [
    "Create the `tf.data.Dataset` object for training and evaluation."
   ]
  },
  {
   "cell_type": "code",
   "execution_count": 7,
   "metadata": {
    "colab": {},
    "colab_type": "code",
    "id": "cOCne-f8nX93"
   },
   "outputs": [],
   "source": [
    "train_dataset = tf.data.Dataset.from_tensor_slices((train_features, train_labels))\n",
    "train_dataset = train_dataset.batch(batch_size)\n",
    "train_dataset = train_dataset.prefetch(batch_size * 4)\n",
    "train_dataset = train_dataset.shuffle(train_features.shape[0])\n",
    "\n",
    "test_dataset = tf.data.Dataset.from_tensor_slices((test_features, test_labels))\n",
    "test_dataset = train_dataset.batch(batch_size)\n",
    "test_dataset = train_dataset.prefetch(batch_size * 4)\n",
    "test_dataset = train_dataset.shuffle(test_features.shape[0])"
   ]
  },
  {
   "cell_type": "markdown",
   "metadata": {
    "colab_type": "text",
    "id": "rCn-hGv8p3BY"
   },
   "source": [
    "Instantiate the mini VGG-based autoencoder model."
   ]
  },
  {
   "cell_type": "code",
   "execution_count": 8,
   "metadata": {
    "colab": {},
    "colab_type": "code",
    "id": "VSZapOyLo1go"
   },
   "outputs": [],
   "source": [
    "model = CVAE(input_shape=(28, 28, 1), latent_dim=32)"
   ]
  },
  {
   "cell_type": "markdown",
   "metadata": {
    "colab_type": "text",
    "id": "Qcc25PNcp6rw"
   },
   "source": [
    "Compile the model."
   ]
  },
  {
   "cell_type": "code",
   "execution_count": 9,
   "metadata": {
    "colab": {},
    "colab_type": "code",
    "id": "MZUJd0VUo6rq"
   },
   "outputs": [],
   "source": [
    "model.compile(loss=tf.losses.mean_squared_error, optimizer=tf.optimizers.Adam(learning_rate=1e-3))"
   ]
  },
  {
   "cell_type": "markdown",
   "metadata": {
    "colab_type": "text",
    "id": "PJ3AodaTp7yv"
   },
   "source": [
    "Load the trained autoencoder model."
   ]
  },
  {
   "cell_type": "code",
   "execution_count": 10,
   "metadata": {
    "colab": {
     "base_uri": "https://localhost:8080/",
     "height": 34
    },
    "colab_type": "code",
    "id": "ijzOdvBgnhHb",
    "outputId": "fede51ac-10cd-40a8-dc87-b22894f10c37"
   },
   "outputs": [
    {
     "data": {
      "text/plain": [
       "<tensorflow.python.training.tracking.util.CheckpointLoadStatus at 0x7f513c30e9e8>"
      ]
     },
     "execution_count": 10,
     "metadata": {},
     "output_type": "execute_result"
    }
   ],
   "source": [
    "model.load_weights('../assets/export/mnist/mini_vgg_ae_mnist')"
   ]
  },
  {
   "cell_type": "markdown",
   "metadata": {
    "colab_type": "text",
    "id": "zT-9_JPVp99K"
   },
   "source": [
    "Visualize the test data and the model reconstructions."
   ]
  },
  {
   "cell_type": "code",
   "execution_count": 11,
   "metadata": {
    "colab": {
     "base_uri": "https://localhost:8080/",
     "height": 248
    },
    "colab_type": "code",
    "id": "xGCqNT8Fmh3i",
    "outputId": "99f1684e-6d56-4759-edd8-ad83495d8e4a"
   },
   "outputs": [
    {
     "data": {
      "image/png": "[encoded data removed]",
      "text/plain": [
       "<Figure size 1440x288 with 20 Axes>"
      ]
     },
     "metadata": {
      "needs_background": "light"
     },
     "output_type": "display_data"
    }
   ],
   "source": [
    "number = 10\n",
    "plt.figure(figsize=(20, 4))\n",
    "for index in range(number):\n",
    "    # display original\n",
    "    ax = plt.subplot(2, number, index + 1)\n",
    "    plt.imshow(test_features[index].reshape(28, 28))\n",
    "    plt.gray()\n",
    "    ax.get_xaxis().set_visible(False)\n",
    "    ax.get_yaxis().set_visible(False)\n",
    "\n",
    "    # display reconstruction\n",
    "    ax = plt.subplot(2, number, index + 1 + number)\n",
    "    plt.imshow(model(test_features[index].reshape(-1, 28, 28, 1)).numpy().reshape(28, 28))\n",
    "    plt.gray()\n",
    "    ax.get_xaxis().set_visible(False)\n",
    "    ax.get_yaxis().set_visible(False)\n",
    "plt.show()"
   ]
  },
  {
   "cell_type": "markdown",
   "metadata": {
    "colab_type": "text",
    "id": "TUew3Z8WqBQ1"
   },
   "source": [
    "Let's check the number of parameters."
   ]
  },
  {
   "cell_type": "code",
   "execution_count": 12,
   "metadata": {
    "colab": {
     "base_uri": "https://localhost:8080/",
     "height": 221
    },
    "colab_type": "code",
    "id": "XwhrOGzQmj4n",
    "outputId": "8c220a47-32a3-4168-a39f-aa4d179fd5a2"
   },
   "outputs": [
    {
     "name": "stdout",
     "output_type": "stream",
     "text": [
      "Model: \"cvae\"\n",
      "_________________________________________________________________\n",
      "Layer (type)                 Output Shape              Param #   \n",
      "=================================================================\n",
      "encoder (Encoder)            multiple                  64992     \n",
      "_________________________________________________________________\n",
      "decoder (Decoder)            multiple                  92609     \n",
      "=================================================================\n",
      "Total params: 157,601\n",
      "Trainable params: 157,601\n",
      "Non-trainable params: 0\n",
      "_________________________________________________________________\n"
     ]
    }
   ],
   "source": [
    "model.summary()"
   ]
  },
  {
   "cell_type": "markdown",
   "metadata": {
    "colab_type": "text",
    "id": "PM5FbgpSqD4B"
   },
   "source": [
    "Freeze the encoder layer of the autoencoder."
   ]
  },
  {
   "cell_type": "code",
   "execution_count": 13,
   "metadata": {
    "colab": {},
    "colab_type": "code",
    "id": "r9DVlH1QmmLC"
   },
   "outputs": [],
   "source": [
    "model.encoder.trainable = False"
   ]
  },
  {
   "cell_type": "markdown",
   "metadata": {
    "colab_type": "text",
    "id": "xnvJJEEJqGBt"
   },
   "source": [
    "Build a neural network with `model.encoder` as feature extractor."
   ]
  },
  {
   "cell_type": "code",
   "execution_count": 14,
   "metadata": {
    "colab": {},
    "colab_type": "code",
    "id": "US8to1drmnfj"
   },
   "outputs": [],
   "source": [
    "class NN(tf.keras.Model):\n",
    "    def __init__(self, **kwargs):\n",
    "        super(NN, self).__init__()\n",
    "        self.encoder = model.encoder\n",
    "        self.flatten = tf.keras.layers.Flatten()\n",
    "        self.dense_layer = tf.keras.layers.Dense(units=512, activation=tf.nn.relu)\n",
    "        self.dropout = tf.keras.layers.Dropout(rate=2e-1)\n",
    "        self.output_layer = tf.keras.layers.Dense(units=10, activation=tf.nn.softmax)\n",
    "        \n",
    "    def call(self, features):\n",
    "        code = self.encoder(features)\n",
    "        code = self.flatten(code)\n",
    "        activation = self.dense_layer(code)\n",
    "        activation = self.dropout(activation)\n",
    "        outputs = self.output_layer(activation)\n",
    "        return outputs"
   ]
  },
  {
   "cell_type": "markdown",
   "metadata": {
    "colab_type": "text",
    "id": "aSzliWvXqKCm"
   },
   "source": [
    "Instantiate the neural network."
   ]
  },
  {
   "cell_type": "code",
   "execution_count": 15,
   "metadata": {
    "colab": {},
    "colab_type": "code",
    "id": "e3PVAvJdmo4v"
   },
   "outputs": [],
   "source": [
    "clf = NN()"
   ]
  },
  {
   "cell_type": "markdown",
   "metadata": {
    "colab_type": "text",
    "id": "FioHPyi9qMzv"
   },
   "source": [
    "Compile the neural network for training and inference."
   ]
  },
  {
   "cell_type": "code",
   "execution_count": 16,
   "metadata": {
    "colab": {},
    "colab_type": "code",
    "id": "7k8qMlelmqui"
   },
   "outputs": [],
   "source": [
    "clf.compile(loss=tf.losses.categorical_crossentropy,\n",
    "            optimizer=tf.optimizers.SGD(\n",
    "                learning_rate=1e-2, momentum=9e-1, decay=1e-6\n",
    "                ),\n",
    "            metrics=['accuracy'])"
   ]
  },
  {
   "cell_type": "markdown",
   "metadata": {
    "colab_type": "text",
    "id": "DcVEzQayqQMn"
   },
   "source": [
    "Train the model."
   ]
  },
  {
   "cell_type": "code",
   "execution_count": 17,
   "metadata": {
    "colab": {
     "base_uri": "https://localhost:8080/",
     "height": 374
    },
    "colab_type": "code",
    "id": "u7DVQwRgmxyG",
    "outputId": "a89f88eb-cd90-4ee0-b2a6-6d6cbdca87a3"
   },
   "outputs": [
    {
     "name": "stdout",
     "output_type": "stream",
     "text": [
      "Epoch 1/100\n",
      "118/118 - 19s - loss: 0.5181 - accuracy: 0.8360\n",
      "Epoch 2/100\n",
      "118/118 - 17s - loss: 0.2616 - accuracy: 0.9223\n",
      "Epoch 3/100\n",
      "118/118 - 17s - loss: 0.2087 - accuracy: 0.9388\n",
      "Epoch 4/100\n",
      "118/118 - 17s - loss: 0.1811 - accuracy: 0.9457\n",
      "Epoch 5/100\n",
      "118/118 - 17s - loss: 0.1548 - accuracy: 0.9552\n",
      "Epoch 6/100\n",
      "118/118 - 17s - loss: 0.1390 - accuracy: 0.9588\n",
      "Epoch 7/100\n",
      "118/118 - 17s - loss: 0.1258 - accuracy: 0.9631\n",
      "Epoch 8/100\n",
      "118/118 - 17s - loss: 0.1147 - accuracy: 0.9669\n",
      "Epoch 9/100\n",
      "118/118 - 17s - loss: 0.1070 - accuracy: 0.9689\n",
      "Epoch 10/100\n",
      "118/118 - 17s - loss: 0.0998 - accuracy: 0.9706\n",
      "Epoch 11/100\n",
      "118/118 - 17s - loss: 0.0923 - accuracy: 0.9729\n",
      "Epoch 12/100\n",
      "118/118 - 17s - loss: 0.0878 - accuracy: 0.9740\n",
      "Epoch 13/100\n",
      "118/118 - 17s - loss: 0.0817 - accuracy: 0.9760\n",
      "Epoch 14/100\n",
      "118/118 - 17s - loss: 0.0771 - accuracy: 0.9780\n",
      "Epoch 15/100\n",
      "118/118 - 17s - loss: 0.0755 - accuracy: 0.9779\n",
      "Epoch 16/100\n",
      "118/118 - 17s - loss: 0.0720 - accuracy: 0.9787\n",
      "Epoch 17/100\n",
      "118/118 - 17s - loss: 0.0668 - accuracy: 0.9806\n",
      "Epoch 18/100\n",
      "118/118 - 17s - loss: 0.0650 - accuracy: 0.9808\n",
      "Epoch 19/100\n",
      "118/118 - 17s - loss: 0.0618 - accuracy: 0.9824\n",
      "Epoch 20/100\n",
      "118/118 - 17s - loss: 0.0603 - accuracy: 0.9824\n",
      "Epoch 21/100\n",
      "118/118 - 17s - loss: 0.0580 - accuracy: 0.9827\n",
      "Epoch 22/100\n",
      "118/118 - 17s - loss: 0.0554 - accuracy: 0.9838\n",
      "Epoch 23/100\n",
      "118/118 - 17s - loss: 0.0512 - accuracy: 0.9850\n",
      "Epoch 24/100\n",
      "118/118 - 17s - loss: 0.0508 - accuracy: 0.9853\n",
      "Epoch 25/100\n",
      "118/118 - 17s - loss: 0.0504 - accuracy: 0.9848\n",
      "Epoch 26/100\n",
      "118/118 - 17s - loss: 0.0474 - accuracy: 0.9862\n",
      "Epoch 27/100\n",
      "118/118 - 17s - loss: 0.0456 - accuracy: 0.9869\n",
      "Epoch 28/100\n",
      "118/118 - 17s - loss: 0.0438 - accuracy: 0.9872\n",
      "Epoch 29/100\n",
      "118/118 - 17s - loss: 0.0424 - accuracy: 0.9877\n",
      "Epoch 30/100\n",
      "118/118 - 17s - loss: 0.0406 - accuracy: 0.9881\n",
      "Epoch 31/100\n",
      "118/118 - 18s - loss: 0.0399 - accuracy: 0.9887\n",
      "Epoch 32/100\n",
      "118/118 - 18s - loss: 0.0384 - accuracy: 0.9890\n",
      "Epoch 33/100\n",
      "118/118 - 18s - loss: 0.0387 - accuracy: 0.9885\n",
      "Epoch 34/100\n",
      "118/118 - 18s - loss: 0.0361 - accuracy: 0.9896\n",
      "Epoch 35/100\n",
      "118/118 - 19s - loss: 0.0349 - accuracy: 0.9901\n",
      "Epoch 36/100\n",
      "118/118 - 19s - loss: 0.0332 - accuracy: 0.9904\n",
      "Epoch 37/100\n",
      "118/118 - 19s - loss: 0.0343 - accuracy: 0.9899\n",
      "Epoch 38/100\n",
      "118/118 - 19s - loss: 0.0323 - accuracy: 0.9909\n",
      "Epoch 39/100\n",
      "118/118 - 19s - loss: 0.0302 - accuracy: 0.9915\n",
      "Epoch 40/100\n",
      "118/118 - 18s - loss: 0.0301 - accuracy: 0.9912\n",
      "Epoch 41/100\n",
      "118/118 - 18s - loss: 0.0292 - accuracy: 0.9919\n",
      "Epoch 42/100\n",
      "118/118 - 17s - loss: 0.0294 - accuracy: 0.9912\n",
      "Epoch 43/100\n",
      "118/118 - 18s - loss: 0.0289 - accuracy: 0.9919\n",
      "Epoch 44/100\n",
      "118/118 - 19s - loss: 0.0272 - accuracy: 0.9923\n",
      "Epoch 45/100\n",
      "118/118 - 19s - loss: 0.0261 - accuracy: 0.9931\n",
      "Epoch 46/100\n",
      "118/118 - 19s - loss: 0.0247 - accuracy: 0.9933\n",
      "Epoch 47/100\n",
      "118/118 - 19s - loss: 0.0247 - accuracy: 0.9934\n",
      "Epoch 48/100\n",
      "118/118 - 18s - loss: 0.0240 - accuracy: 0.9932\n",
      "Epoch 49/100\n",
      "118/118 - 17s - loss: 0.0236 - accuracy: 0.9936\n",
      "Epoch 50/100\n",
      "118/118 - 17s - loss: 0.0234 - accuracy: 0.9934\n",
      "Epoch 51/100\n",
      "118/118 - 17s - loss: 0.0221 - accuracy: 0.9938\n",
      "Epoch 52/100\n",
      "118/118 - 17s - loss: 0.0223 - accuracy: 0.9938\n",
      "Epoch 53/100\n",
      "118/118 - 17s - loss: 0.0220 - accuracy: 0.9942\n",
      "Epoch 54/100\n",
      "118/118 - 17s - loss: 0.0210 - accuracy: 0.9947\n",
      "Epoch 55/100\n",
      "118/118 - 17s - loss: 0.0213 - accuracy: 0.9941\n",
      "Epoch 56/100\n",
      "118/118 - 17s - loss: 0.0202 - accuracy: 0.9943\n",
      "Epoch 57/100\n",
      "118/118 - 17s - loss: 0.0208 - accuracy: 0.9942\n",
      "Epoch 58/100\n",
      "118/118 - 17s - loss: 0.0199 - accuracy: 0.9946\n",
      "Epoch 59/100\n",
      "118/118 - 17s - loss: 0.0193 - accuracy: 0.9943\n",
      "Epoch 60/100\n",
      "118/118 - 17s - loss: 0.0180 - accuracy: 0.9956\n",
      "Epoch 61/100\n",
      "118/118 - 18s - loss: 0.0175 - accuracy: 0.9953\n",
      "Epoch 62/100\n",
      "118/118 - 18s - loss: 0.0175 - accuracy: 0.9953\n",
      "Epoch 63/100\n",
      "118/118 - 18s - loss: 0.0172 - accuracy: 0.9955\n",
      "Epoch 64/100\n",
      "118/118 - 18s - loss: 0.0170 - accuracy: 0.9956\n",
      "Epoch 65/100\n",
      "118/118 - 17s - loss: 0.0170 - accuracy: 0.9956\n",
      "Epoch 66/100\n",
      "118/118 - 17s - loss: 0.0162 - accuracy: 0.9958\n",
      "Epoch 67/100\n",
      "118/118 - 18s - loss: 0.0136 - accuracy: 0.9967\n",
      "Epoch 75/100\n",
      "118/118 - 18s - loss: 0.0134 - accuracy: 0.9966\n",
      "Epoch 76/100\n",
      "118/118 - 18s - loss: 0.0136 - accuracy: 0.9965\n",
      "Epoch 77/100\n",
      "118/118 - 18s - loss: 0.0142 - accuracy: 0.9963\n",
      "Epoch 78/100\n",
      "118/118 - 12s - loss: 0.0123 - accuracy: 0.9972\n",
      "Epoch 84/100\n",
      "118/118 - 9s - loss: 0.0118 - accuracy: 0.9970\n",
      "Epoch 85/100\n",
      "118/118 - 9s - loss: 0.0114 - accuracy: 0.9974\n",
      "Epoch 86/100\n",
      "118/118 - 9s - loss: 0.0109 - accuracy: 0.9975\n",
      "Epoch 87/100\n",
      "118/118 - 9s - loss: 0.0104 - accuracy: 0.9979\n",
      "Epoch 88/100\n",
      "118/118 - 9s - loss: 0.0113 - accuracy: 0.9974\n",
      "Epoch 89/100\n",
      "118/118 - 9s - loss: 0.0105 - accuracy: 0.9976\n",
      "Epoch 90/100\n",
      "118/118 - 9s - loss: 0.0098 - accuracy: 0.9979\n",
      "Epoch 91/100\n",
      "118/118 - 9s - loss: 0.0101 - accuracy: 0.9978\n",
      "Epoch 92/100\n",
      "118/118 - 9s - loss: 0.0102 - accuracy: 0.9979\n",
      "Epoch 93/100\n",
      "118/118 - 9s - loss: 0.0102 - accuracy: 0.9979\n",
      "Epoch 94/100\n",
      "118/118 - 9s - loss: 0.0102 - accuracy: 0.9978\n",
      "Epoch 95/100\n",
      "118/118 - 9s - loss: 0.0097 - accuracy: 0.9978\n",
      "Epoch 96/100\n",
      "118/118 - 9s - loss: 0.0095 - accuracy: 0.9980\n",
      "Epoch 97/100\n",
      "118/118 - 9s - loss: 0.0091 - accuracy: 0.9978\n",
      "Epoch 98/100\n",
      "118/118 - 9s - loss: 0.0091 - accuracy: 0.9982\n",
      "Epoch 99/100\n",
      "118/118 - 10s - loss: 0.0090 - accuracy: 0.9982\n",
      "Epoch 100/100\n",
      "118/118 - 9s - loss: 0.0084 - accuracy: 0.9984\n"
     ]
    },
    {
     "data": {
      "text/plain": [
       "<tensorflow.python.keras.callbacks.History at 0x7f51465276d8>"
      ]
     },
     "execution_count": 17,
     "metadata": {},
     "output_type": "execute_result"
    }
   ],
   "source": [
    "clf.fit(train_dataset, epochs=epochs, verbose=2)"
   ]
  },
  {
   "cell_type": "markdown",
   "metadata": {
    "colab_type": "text",
    "id": "hPER3F84qRck"
   },
   "source": [
    "Evaluate the performance."
   ]
  },
  {
   "cell_type": "code",
   "execution_count": 18,
   "metadata": {
    "colab": {
     "base_uri": "https://localhost:8080/",
     "height": 51
    },
    "colab_type": "code",
    "id": "uVY52Fa2m_x3",
    "outputId": "8a1ac37e-2d46-4bff-b2f2-e764885d453e"
   },
   "outputs": [
    {
     "name": "stdout",
     "output_type": "stream",
     "text": [
      "118/118 - 8s - loss: 0.0036 - accuracy: 0.9998\n"
     ]
    },
    {
     "data": {
      "text/plain": [
       "[0.003638193810405999, 0.99978334]"
      ]
     },
     "execution_count": 18,
     "metadata": {},
     "output_type": "execute_result"
    }
   ],
   "source": [
    "clf.evaluate(test_dataset, verbose=2)"
   ]
  },
  {
   "cell_type": "markdown",
   "metadata": {
    "colab_type": "text",
    "id": "2TFCaAzbqS3w"
   },
   "source": [
    "Perturb the test data with noise from a Normal distribution having a standard deviation of `5e-2`."
   ]
  },
  {
   "cell_type": "code",
   "execution_count": 19,
   "metadata": {
    "colab": {},
    "colab_type": "code",
    "id": "7_OYG3QEnyVj"
   },
   "outputs": [],
   "source": [
    "test_features += tf.random.normal(stddev=5e-2, shape=test_features.shape)"
   ]
  },
  {
   "cell_type": "markdown",
   "metadata": {
    "colab_type": "text",
    "id": "C5rqv-Bfqa0p"
   },
   "source": [
    "Evaluate the model on the perturbed test data."
   ]
  },
  {
   "cell_type": "code",
   "execution_count": 20,
   "metadata": {
    "colab": {
     "base_uri": "https://localhost:8080/",
     "height": 51
    },
    "colab_type": "code",
    "id": "I7mdvROzn4Lk",
    "outputId": "20662868-89df-46eb-a0e1-0b622f54040f"
   },
   "outputs": [
    {
     "name": "stdout",
     "output_type": "stream",
     "text": [
      "10000/1 - 2s - loss: 0.1049 - accuracy: 0.9797\n"
     ]
    },
    {
     "data": {
      "text/plain": [
       "[0.07066458406448364, 0.9797]"
      ]
     },
     "execution_count": 20,
     "metadata": {},
     "output_type": "execute_result"
    }
   ],
   "source": [
    "clf.evaluate(test_features, test_labels, batch_size=512, verbose=2)"
   ]
  },
  {
   "cell_type": "markdown",
   "metadata": {
    "colab_type": "text",
    "id": "EZD66asrqd0n"
   },
   "source": [
    "Visualize the perturbed data and the reconstructions."
   ]
  },
  {
   "cell_type": "code",
   "execution_count": 21,
   "metadata": {
    "colab": {
     "base_uri": "https://localhost:8080/",
     "height": 248
    },
    "colab_type": "code",
    "id": "h4ydT3nCoK6z",
    "outputId": "376a516c-fe22-4c32-c720-8973b5e6b44d"
   },
   "outputs": [
    {
     "data": {
      "image/png": "[encoded data removed]",
      "text/plain": [
       "<Figure size 1440x288 with 20 Axes>"
      ]
     },
     "metadata": {
      "needs_background": "light"
     },
     "output_type": "display_data"
    }
   ],
   "source": [
    "number = 10\n",
    "plt.figure(figsize=(20, 4))\n",
    "for index in range(number):\n",
    "    # display original\n",
    "    ax = plt.subplot(2, number, index + 1)\n",
    "    plt.imshow(test_features[index].numpy().reshape(28, 28))\n",
    "    plt.gray()\n",
    "    ax.get_xaxis().set_visible(False)\n",
    "    ax.get_yaxis().set_visible(False)\n",
    "\n",
    "    # display reconstruction\n",
    "    ax = plt.subplot(2, number, index + 1 + number)\n",
    "    plt.imshow(model(test_features[index].numpy().reshape(-1, 28, 28, 1)).numpy().reshape(28, 28))\n",
    "    plt.gray()\n",
    "    ax.get_xaxis().set_visible(False)\n",
    "    ax.get_yaxis().set_visible(False)\n",
    "plt.show()"
   ]
  },
  {
   "cell_type": "markdown",
   "metadata": {
    "colab_type": "text",
    "id": "ScbIR9owqgyy"
   },
   "source": [
    "Reload the test features, and increase the standard deviation of the Normal distribution from which we shall get the noise from for perturbing the test data."
   ]
  },
  {
   "cell_type": "code",
   "execution_count": 22,
   "metadata": {
    "colab": {},
    "colab_type": "code",
    "id": "OzmmB4SJoTPZ"
   },
   "outputs": [],
   "source": [
    "_, (test_features, _) = mnist.load_data()\n",
    "\n",
    "test_features = test_features.astype('float32') / 255.\n",
    "test_features = test_features.reshape(-1, 28, 28, 1)\n",
    "test_features += tf.random.normal(stddev=5e-1, shape=test_features.shape)"
   ]
  },
  {
   "cell_type": "markdown",
   "metadata": {
    "colab_type": "text",
    "id": "7dw4HZo3qo5a"
   },
   "source": [
    "Visualize the test features and the reconstructions."
   ]
  },
  {
   "cell_type": "code",
   "execution_count": 23,
   "metadata": {
    "colab": {
     "base_uri": "https://localhost:8080/",
     "height": 248
    },
    "colab_type": "code",
    "id": "NAcSd0u-od4r",
    "outputId": "1797a5ea-4145-42e9-8cab-607fbd642f6d"
   },
   "outputs": [
    {
     "data": {
      "image/png": "[encoded data removed]",
      "text/plain": [
       "<Figure size 1440x288 with 20 Axes>"
      ]
     },
     "metadata": {
      "needs_background": "light"
     },
     "output_type": "display_data"
    }
   ],
   "source": [
    "number = 10\n",
    "plt.figure(figsize=(20, 4))\n",
    "for index in range(number):\n",
    "    # display original\n",
    "    ax = plt.subplot(2, number, index + 1)\n",
    "    plt.imshow(test_features[index].numpy().reshape(28, 28))\n",
    "    plt.gray()\n",
    "    ax.get_xaxis().set_visible(False)\n",
    "    ax.get_yaxis().set_visible(False)\n",
    "\n",
    "    # display reconstruction\n",
    "    ax = plt.subplot(2, number, index + 1 + number)\n",
    "    plt.imshow(model(test_features[index].numpy().reshape(-1, 28, 28, 1)).numpy().reshape(28, 28))\n",
    "    plt.gray()\n",
    "    ax.get_xaxis().set_visible(False)\n",
    "    ax.get_yaxis().set_visible(False)\n",
    "plt.show()"
   ]
  },
  {
   "cell_type": "markdown",
   "metadata": {
    "colab_type": "text",
    "id": "mMpQtIYOqtDW"
   },
   "source": [
    "Evaluate on the new perturbed test data."
   ]
  },
  {
   "cell_type": "code",
   "execution_count": 24,
   "metadata": {
    "colab": {
     "base_uri": "https://localhost:8080/",
     "height": 51
    },
    "colab_type": "code",
    "id": "B1rpsaLAogbY",
    "outputId": "9f1ae6bb-a692-47bb-b101-fa3679dea94a"
   },
   "outputs": [
    {
     "name": "stdout",
     "output_type": "stream",
     "text": [
      "10000/1 - 1s - loss: 0.9381 - accuracy: 0.7702\n"
     ]
    },
    {
     "data": {
      "text/plain": [
       "[0.8720895414352416, 0.7702]"
      ]
     },
     "execution_count": 24,
     "metadata": {},
     "output_type": "execute_result"
    }
   ],
   "source": [
    "clf.evaluate(test_features, test_labels, batch_size=batch_size, verbose=2)"
   ]
  },
  {
   "cell_type": "code",
   "execution_count": 25,
   "metadata": {},
   "outputs": [],
   "source": [
    "model.save_weights('../assets/export/classifier/mnist/100_epochs', save_format='tf')"
   ]
  }
 ],
 "metadata": {
  "accelerator": "GPU",
  "colab": {
   "collapsed_sections": [],
   "include_colab_link": true,
   "name": "x-pretrained-vgg-classification.ipynb",
   "provenance": []
  },
  "kernelspec": {
   "display_name": "Python 3",
   "language": "python",
   "name": "python3"
  },
  "language_info": {
   "codemirror_mode": {
    "name": "ipython",
    "version": 3
   },
   "file_extension": ".py",
   "mimetype": "text/x-python",
   "name": "python",
   "nbconvert_exporter": "python",
   "pygments_lexer": "ipython3",
   "version": "3.6.8"
  }
 },
 "nbformat": 4,
 "nbformat_minor": 2
}
