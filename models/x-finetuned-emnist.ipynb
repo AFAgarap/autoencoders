{
 "cells": [
  {
   "cell_type": "markdown",
   "metadata": {
    "colab_type": "text",
    "id": "7_r_yVCVpS85"
   },
   "source": [
    "Pretraining Autoencoder for Downstream Task\n",
    "=====\n",
    "\n",
    "## Overview \n",
    "\n",
    "In this notebook, we use the pretrained encoder of a mini VGG-based autoencoder as a feature extractor for a neural network.\n",
    "\n",
    "## Setup \n",
    "\n",
    "We setup our dependencies."
   ]
  },
  {
   "cell_type": "code",
   "execution_count": 1,
   "metadata": {
    "colab": {},
    "colab_type": "code",
    "id": "_x8jUvV5leuX"
   },
   "outputs": [],
   "source": [
    "from __future__ import absolute_import\n",
    "from __future__ import division\n",
    "from __future__ import print_function\n",
    "\n",
    "__author__ = 'Abien Fred Agarap'\n",
    "__version__ = '1.0.0'\n",
    "\n",
    "import matplotlib.pyplot as plt\n",
    "import numpy as np\n",
    "import tensorflow as tf\n",
    "import tensorflow_datasets as tfds\n",
    "from tf.vgg_ae import CAE"
   ]
  },
  {
   "cell_type": "markdown",
   "metadata": {},
   "source": [
    "Set eager mode for `tfds`."
   ]
  },
  {
   "cell_type": "code",
   "execution_count": 2,
   "metadata": {},
   "outputs": [],
   "source": [
    "tf.compat.v1.enable_eager_execution()"
   ]
  },
  {
   "cell_type": "markdown",
   "metadata": {
    "colab_type": "text",
    "id": "lKkvrPNbpmb8"
   },
   "source": [
    "Set the memory growth of GPU."
   ]
  },
  {
   "cell_type": "code",
   "execution_count": 3,
   "metadata": {
    "colab": {},
    "colab_type": "code",
    "id": "LfY3Gcevodo7"
   },
   "outputs": [],
   "source": [
    "tf.config.experimental.set_memory_growth(\n",
    "    tf.config.experimental.list_physical_devices('GPU')[0],\n",
    "    True\n",
    ")"
   ]
  },
  {
   "cell_type": "markdown",
   "metadata": {
    "colab_type": "text",
    "id": "jdguwL96ppDp"
   },
   "source": [
    "Set the random number generator seed value."
   ]
  },
  {
   "cell_type": "code",
   "execution_count": 4,
   "metadata": {
    "colab": {},
    "colab_type": "code",
    "id": "7MjqEUjAoj4m"
   },
   "outputs": [],
   "source": [
    "SEED = 42\n",
    "tf.random.set_seed(SEED)\n",
    "np.random.seed(SEED)"
   ]
  },
  {
   "cell_type": "markdown",
   "metadata": {
    "colab_type": "text",
    "id": "1gZK7wlTpq-Y"
   },
   "source": [
    "We set the batch size and epochs."
   ]
  },
  {
   "cell_type": "code",
   "execution_count": 5,
   "metadata": {
    "colab": {},
    "colab_type": "code",
    "id": "usw0kmm4mLIi"
   },
   "outputs": [],
   "source": [
    "batch_size = 64\n",
    "epochs = 100"
   ]
  },
  {
   "cell_type": "markdown",
   "metadata": {
    "colab_type": "text",
    "id": "Lq07vmTBps03"
   },
   "source": [
    "## Dataset\n",
    "\n",
    "We load the MNIST classification dataset."
   ]
  },
  {
   "cell_type": "code",
   "execution_count": 6,
   "metadata": {
    "colab": {},
    "colab_type": "code",
    "id": "0sO1dA2AltFx"
   },
   "outputs": [],
   "source": [
    "train_dataset = tfds.load('emnist/letters', split=tfds.Split.TRAIN)"
   ]
  },
  {
   "cell_type": "markdown",
   "metadata": {
    "colab_type": "text",
    "id": "E8wet1ezpxkh"
   },
   "source": [
    "We define a normalization function."
   ]
  },
  {
   "cell_type": "code",
   "execution_count": 7,
   "metadata": {
    "colab": {},
    "colab_type": "code",
    "id": "qmqsR2ORmQ3I"
   },
   "outputs": [],
   "source": [
    "def normalize(example):    \n",
    "    features = example['image']\n",
    "    labels = example['label']\n",
    "    \n",
    "    features = tf.cast(features, tf.float32)\n",
    "    features = features / 255.\n",
    "    labels = tf.one_hot(labels, 37)\n",
    "    return features, labels"
   ]
  },
  {
   "cell_type": "markdown",
   "metadata": {
    "colab_type": "text",
    "id": "fHbIO76hpzrV"
   },
   "source": [
    "We customize our `tf.data.Dataset` object."
   ]
  },
  {
   "cell_type": "code",
   "execution_count": 8,
   "metadata": {
    "colab": {},
    "colab_type": "code",
    "id": "cOCne-f8nX93"
   },
   "outputs": [],
   "source": [
    "train_dataset = train_dataset.map(normalize)\n",
    "train_dataset = train_dataset.shuffle(1024)\n",
    "train_dataset = train_dataset.batch(batch_size, True)\n",
    "train_dataset = train_dataset.prefetch(tf.data.experimental.AUTOTUNE)"
   ]
  },
  {
   "cell_type": "markdown",
   "metadata": {
    "colab_type": "text",
    "id": "rCn-hGv8p3BY"
   },
   "source": [
    "Instantiate the mini VGG-based autoencoder model."
   ]
  },
  {
   "cell_type": "code",
   "execution_count": 9,
   "metadata": {
    "colab": {},
    "colab_type": "code",
    "id": "VSZapOyLo1go"
   },
   "outputs": [],
   "source": [
    "model = CAE(input_shape=(28, 28, 1))"
   ]
  },
  {
   "cell_type": "markdown",
   "metadata": {
    "colab_type": "text",
    "id": "Qcc25PNcp6rw"
   },
   "source": [
    "Compile the model."
   ]
  },
  {
   "cell_type": "code",
   "execution_count": 10,
   "metadata": {
    "colab": {},
    "colab_type": "code",
    "id": "MZUJd0VUo6rq"
   },
   "outputs": [],
   "source": [
    "model.compile(loss=tf.losses.mean_squared_error,\n",
    "              optimizer=tf.optimizers.Adam(learning_rate=1e-3))"
   ]
  },
  {
   "cell_type": "markdown",
   "metadata": {
    "colab_type": "text",
    "id": "PJ3AodaTp7yv"
   },
   "source": [
    "Load the trained autoencoder model."
   ]
  },
  {
   "cell_type": "code",
   "execution_count": 11,
   "metadata": {
    "colab": {
     "base_uri": "https://localhost:8080/",
     "height": 34
    },
    "colab_type": "code",
    "id": "ijzOdvBgnhHb",
    "outputId": "fede51ac-10cd-40a8-dc87-b22894f10c37"
   },
   "outputs": [
    {
     "data": {
      "text/plain": [
       "<tensorflow.python.training.tracking.util.CheckpointLoadStatus at 0x7f8be06fad30>"
      ]
     },
     "execution_count": 11,
     "metadata": {},
     "output_type": "execute_result"
    }
   ],
   "source": [
    "model.load_weights('./assets/export/emnist/mini_vgg_ae_emnist')"
   ]
  },
  {
   "cell_type": "code",
   "execution_count": 12,
   "metadata": {},
   "outputs": [],
   "source": [
    "test_dataset = tfds.load('emnist/letters',\n",
    "                         split=tfds.Split.TEST,\n",
    "                         batch_size=-1)\n",
    "test_dataset = tfds.as_numpy(test_dataset)\n",
    "test_features = test_dataset['image']\n",
    "test_features = test_features.astype('float32') / 255."
   ]
  },
  {
   "cell_type": "markdown",
   "metadata": {
    "colab_type": "text",
    "id": "zT-9_JPVp99K"
   },
   "source": [
    "Visualize the test data and the model reconstructions."
   ]
  },
  {
   "cell_type": "code",
   "execution_count": 13,
   "metadata": {
    "colab": {
     "base_uri": "https://localhost:8080/",
     "height": 248
    },
    "colab_type": "code",
    "id": "xGCqNT8Fmh3i",
    "outputId": "99f1684e-6d56-4759-edd8-ad83495d8e4a"
   },
   "outputs": [
    {
     "data": {
      "image/png": "[encoded data removed]",
      "text/plain": [
       "<Figure size 1440x288 with 20 Axes>"
      ]
     },
     "metadata": {
      "needs_background": "light"
     },
     "output_type": "display_data"
    }
   ],
   "source": [
    "number = 10\n",
    "plt.figure(figsize=(20, 4))\n",
    "for index in range(number):\n",
    "    # display original\n",
    "    ax = plt.subplot(2, number, index + 1)\n",
    "    test_image = test_features[index]\n",
    "    test_image = tf.transpose(test_image)\n",
    "    test_image = test_image.numpy().reshape(28, 28)\n",
    "    plt.imshow(test_image)\n",
    "    plt.gray()\n",
    "    ax.get_xaxis().set_visible(False)\n",
    "    ax.get_yaxis().set_visible(False)\n",
    "\n",
    "    # display reconstruction\n",
    "    ax = plt.subplot(2, number, index + 1 + number)\n",
    "    reconstructed = model(test_image.reshape(-1, 28, 28, 1))\n",
    "    reconstructed = reconstructed.numpy().reshape(28, 28)\n",
    "    plt.imshow(reconstructed)\n",
    "    plt.gray()\n",
    "    ax.get_xaxis().set_visible(False)\n",
    "    ax.get_yaxis().set_visible(False)\n",
    "plt.show()"
   ]
  },
  {
   "cell_type": "markdown",
   "metadata": {
    "colab_type": "text",
    "id": "TUew3Z8WqBQ1"
   },
   "source": [
    "Let's check the number of parameters."
   ]
  },
  {
   "cell_type": "code",
   "execution_count": 14,
   "metadata": {
    "colab": {
     "base_uri": "https://localhost:8080/",
     "height": 221
    },
    "colab_type": "code",
    "id": "XwhrOGzQmj4n",
    "outputId": "8c220a47-32a3-4168-a39f-aa4d179fd5a2"
   },
   "outputs": [
    {
     "name": "stdout",
     "output_type": "stream",
     "text": [
      "Model: \"cae\"\n",
      "_________________________________________________________________\n",
      "Layer (type)                 Output Shape              Param #   \n",
      "=================================================================\n",
      "encoder (Encoder)            multiple                  64992     \n",
      "_________________________________________________________________\n",
      "decoder (Decoder)            multiple                  92609     \n",
      "=================================================================\n",
      "Total params: 157,601\n",
      "Trainable params: 157,601\n",
      "Non-trainable params: 0\n",
      "_________________________________________________________________\n"
     ]
    }
   ],
   "source": [
    "model.summary()"
   ]
  },
  {
   "cell_type": "markdown",
   "metadata": {
    "colab_type": "text",
    "id": "PM5FbgpSqD4B"
   },
   "source": [
    "Freeze the encoder layer of the autoencoder."
   ]
  },
  {
   "cell_type": "code",
   "execution_count": 15,
   "metadata": {
    "colab": {},
    "colab_type": "code",
    "id": "r9DVlH1QmmLC"
   },
   "outputs": [],
   "source": [
    "model.encoder.trainable = False"
   ]
  },
  {
   "cell_type": "markdown",
   "metadata": {
    "colab_type": "text",
    "id": "xnvJJEEJqGBt"
   },
   "source": [
    "Build a neural network with `model.encoder` as feature extractor."
   ]
  },
  {
   "cell_type": "code",
   "execution_count": 16,
   "metadata": {
    "colab": {},
    "colab_type": "code",
    "id": "US8to1drmnfj"
   },
   "outputs": [],
   "source": [
    "class NN(tf.keras.Model):\n",
    "    def __init__(self, **kwargs):\n",
    "        super(NN, self).__init__()\n",
    "        self.encoder = model.encoder\n",
    "        self.flatten = tf.keras.layers.Flatten()\n",
    "        self.dense_layer = tf.keras.layers.Dense(units=512, activation=tf.nn.relu)\n",
    "        self.dropout = tf.keras.layers.Dropout(rate=2e-1)\n",
    "        self.output_layer = tf.keras.layers.Dense(units=37, activation=tf.nn.softmax)\n",
    "        \n",
    "    def call(self, features):\n",
    "        code = self.encoder(features)\n",
    "        code = self.flatten(code)\n",
    "        activation = self.dense_layer(code)\n",
    "        activation = self.dropout(activation)\n",
    "        outputs = self.output_layer(activation)\n",
    "        return outputs"
   ]
  },
  {
   "cell_type": "markdown",
   "metadata": {
    "colab_type": "text",
    "id": "aSzliWvXqKCm"
   },
   "source": [
    "Instantiate the neural network."
   ]
  },
  {
   "cell_type": "code",
   "execution_count": 17,
   "metadata": {
    "colab": {},
    "colab_type": "code",
    "id": "e3PVAvJdmo4v"
   },
   "outputs": [],
   "source": [
    "clf = NN()"
   ]
  },
  {
   "cell_type": "markdown",
   "metadata": {
    "colab_type": "text",
    "id": "FioHPyi9qMzv"
   },
   "source": [
    "Compile the neural network for training and inference."
   ]
  },
  {
   "cell_type": "code",
   "execution_count": 18,
   "metadata": {
    "colab": {},
    "colab_type": "code",
    "id": "7k8qMlelmqui"
   },
   "outputs": [],
   "source": [
    "clf.compile(loss=tf.losses.categorical_crossentropy,\n",
    "            optimizer=tf.optimizers.SGD(\n",
    "                learning_rate=1e-2, momentum=9e-1, decay=1e-6\n",
    "            ),\n",
    "            metrics=['accuracy'])"
   ]
  },
  {
   "cell_type": "markdown",
   "metadata": {
    "colab_type": "text",
    "id": "DcVEzQayqQMn"
   },
   "source": [
    "Train the model."
   ]
  },
  {
   "cell_type": "code",
   "execution_count": 19,
   "metadata": {
    "colab": {
     "base_uri": "https://localhost:8080/",
     "height": 374
    },
    "colab_type": "code",
    "id": "u7DVQwRgmxyG",
    "outputId": "a89f88eb-cd90-4ee0-b2a6-6d6cbdca87a3"
   },
   "outputs": [
    {
     "name": "stdout",
     "output_type": "stream",
     "text": [
      "Epoch 1/100\n",
      "1387/1387 - 22s - loss: 1.1032 - accuracy: 0.6623\n",
      "Epoch 2/100\n",
      "1387/1387 - 22s - loss: 0.7901 - accuracy: 0.7528\n",
      "Epoch 3/100\n",
      "1387/1387 - 21s - loss: 0.7009 - accuracy: 0.7813\n",
      "Epoch 4/100\n",
      "1387/1387 - 21s - loss: 0.6605 - accuracy: 0.7919\n",
      "Epoch 5/100\n",
      "1387/1387 - 21s - loss: 0.6324 - accuracy: 0.7997\n",
      "Epoch 6/100\n",
      "1387/1387 - 21s - loss: 0.6107 - accuracy: 0.8055\n",
      "Epoch 7/100\n",
      "1387/1387 - 21s - loss: 0.5864 - accuracy: 0.8140\n",
      "Epoch 8/100\n",
      "1387/1387 - 21s - loss: 0.5701 - accuracy: 0.8182\n",
      "Epoch 9/100\n",
      "1387/1387 - 21s - loss: 0.5482 - accuracy: 0.8239\n",
      "Epoch 10/100\n",
      "1387/1387 - 23s - loss: 0.5413 - accuracy: 0.8261\n",
      "Epoch 11/100\n",
      "1387/1387 - 22s - loss: 0.5316 - accuracy: 0.8297\n",
      "Epoch 12/100\n",
      "1387/1387 - 22s - loss: 0.5209 - accuracy: 0.8325\n",
      "Epoch 13/100\n",
      "1387/1387 - 21s - loss: 0.5109 - accuracy: 0.8344\n",
      "Epoch 14/100\n",
      "1387/1387 - 21s - loss: 0.5066 - accuracy: 0.8361\n",
      "Epoch 15/100\n",
      "1387/1387 - 22s - loss: 0.4943 - accuracy: 0.8396\n",
      "Epoch 16/100\n",
      "1387/1387 - 21s - loss: 0.4933 - accuracy: 0.8399\n",
      "Epoch 17/100\n",
      "1387/1387 - 21s - loss: 0.4877 - accuracy: 0.8415\n",
      "Epoch 18/100\n",
      "1387/1387 - 21s - loss: 0.4777 - accuracy: 0.8439\n",
      "Epoch 19/100\n",
      "1387/1387 - 21s - loss: 0.4788 - accuracy: 0.8449\n",
      "Epoch 20/100\n",
      "1387/1387 - 21s - loss: 0.4688 - accuracy: 0.8478\n",
      "Epoch 21/100\n",
      "1387/1387 - 21s - loss: 0.4634 - accuracy: 0.8489\n",
      "Epoch 22/100\n",
      "1387/1387 - 21s - loss: 0.4562 - accuracy: 0.8502\n",
      "Epoch 23/100\n",
      "1387/1387 - 21s - loss: 0.4553 - accuracy: 0.8506\n",
      "Epoch 24/100\n",
      "1387/1387 - 21s - loss: 0.4566 - accuracy: 0.8506\n",
      "Epoch 25/100\n",
      "1387/1387 - 22s - loss: 0.4403 - accuracy: 0.8554\n",
      "Epoch 26/100\n",
      "1387/1387 - 21s - loss: 0.4376 - accuracy: 0.8552\n",
      "Epoch 27/100\n",
      "1387/1387 - 21s - loss: 0.4419 - accuracy: 0.8557\n",
      "Epoch 28/100\n",
      "1387/1387 - 21s - loss: 0.4405 - accuracy: 0.8542\n",
      "Epoch 29/100\n",
      "1387/1387 - 22s - loss: 0.4348 - accuracy: 0.8574\n",
      "Epoch 30/100\n",
      "1387/1387 - 22s - loss: 0.4242 - accuracy: 0.8599\n",
      "Epoch 31/100\n",
      "1387/1387 - 22s - loss: 0.4241 - accuracy: 0.8599\n",
      "Epoch 32/100\n",
      "1387/1387 - 22s - loss: 0.4171 - accuracy: 0.8616\n",
      "Epoch 33/100\n",
      "1387/1387 - 21s - loss: 0.4217 - accuracy: 0.8604\n",
      "Epoch 34/100\n",
      "1387/1387 - 21s - loss: 0.4146 - accuracy: 0.8631\n",
      "Epoch 35/100\n",
      "1387/1387 - 21s - loss: 0.4061 - accuracy: 0.8650\n",
      "Epoch 36/100\n",
      "1387/1387 - 21s - loss: 0.4067 - accuracy: 0.8641\n",
      "Epoch 37/100\n",
      "1387/1387 - 21s - loss: 0.4019 - accuracy: 0.8650\n",
      "Epoch 38/100\n",
      "1387/1387 - 21s - loss: 0.4063 - accuracy: 0.8643\n",
      "Epoch 39/100\n",
      "1387/1387 - 22s - loss: 0.3993 - accuracy: 0.8666\n",
      "Epoch 40/100\n",
      "1387/1387 - 21s - loss: 0.4021 - accuracy: 0.8660\n",
      "Epoch 41/100\n",
      "1387/1387 - 22s - loss: 0.3928 - accuracy: 0.8687\n",
      "Epoch 42/100\n",
      "1387/1387 - 22s - loss: 0.3897 - accuracy: 0.8698\n",
      "Epoch 43/100\n",
      "1387/1387 - 21s - loss: 0.3880 - accuracy: 0.8694\n",
      "Epoch 44/100\n",
      "1387/1387 - 22s - loss: 0.3814 - accuracy: 0.8719\n",
      "Epoch 45/100\n",
      "1387/1387 - 22s - loss: 0.3859 - accuracy: 0.8699\n",
      "Epoch 46/100\n",
      "1387/1387 - 23s - loss: 0.3806 - accuracy: 0.8726\n",
      "Epoch 47/100\n",
      "1387/1387 - 23s - loss: 0.3706 - accuracy: 0.8757\n",
      "Epoch 48/100\n",
      "1387/1387 - 22s - loss: 0.3751 - accuracy: 0.8722\n",
      "Epoch 49/100\n",
      "1387/1387 - 22s - loss: 0.3726 - accuracy: 0.8750\n",
      "Epoch 50/100\n",
      "1387/1387 - 22s - loss: 0.3691 - accuracy: 0.8749\n",
      "Epoch 51/100\n",
      "1387/1387 - 22s - loss: 0.3728 - accuracy: 0.8743\n",
      "Epoch 52/100\n",
      "1387/1387 - 22s - loss: 0.3646 - accuracy: 0.8753\n",
      "Epoch 53/100\n",
      "1387/1387 - 22s - loss: 0.3625 - accuracy: 0.8768\n",
      "Epoch 54/100\n",
      "1387/1387 - 22s - loss: 0.3678 - accuracy: 0.8755\n",
      "Epoch 55/100\n",
      "1387/1387 - 22s - loss: 0.3586 - accuracy: 0.8788\n",
      "Epoch 56/100\n",
      "1387/1387 - 22s - loss: 0.3539 - accuracy: 0.8789\n",
      "Epoch 57/100\n",
      "1387/1387 - 22s - loss: 0.3533 - accuracy: 0.8797\n",
      "Epoch 58/100\n",
      "1387/1387 - 22s - loss: 0.3533 - accuracy: 0.8790\n",
      "Epoch 59/100\n",
      "1387/1387 - 22s - loss: 0.3490 - accuracy: 0.8806\n",
      "Epoch 60/100\n",
      "1387/1387 - 22s - loss: 0.3505 - accuracy: 0.8798\n",
      "Epoch 61/100\n",
      "1387/1387 - 22s - loss: 0.3469 - accuracy: 0.8822\n",
      "Epoch 62/100\n",
      "1387/1387 - 22s - loss: 0.3483 - accuracy: 0.8812\n",
      "Epoch 63/100\n",
      "1387/1387 - 22s - loss: 0.3421 - accuracy: 0.8837\n",
      "Epoch 64/100\n",
      "1387/1387 - 22s - loss: 0.3438 - accuracy: 0.8829\n",
      "Epoch 65/100\n",
      "1387/1387 - 22s - loss: 0.3396 - accuracy: 0.8831\n",
      "Epoch 66/100\n",
      "1387/1387 - 22s - loss: 0.3361 - accuracy: 0.8842\n",
      "Epoch 67/100\n",
      "1387/1387 - 22s - loss: 0.3370 - accuracy: 0.8835\n",
      "Epoch 68/100\n",
      "1387/1387 - 22s - loss: 0.3378 - accuracy: 0.8833\n",
      "Epoch 69/100\n",
      "1387/1387 - 22s - loss: 0.3399 - accuracy: 0.8840\n",
      "Epoch 70/100\n",
      "1387/1387 - 22s - loss: 0.3364 - accuracy: 0.8856\n",
      "Epoch 71/100\n",
      "1387/1387 - 21s - loss: 0.3278 - accuracy: 0.8871\n",
      "Epoch 72/100\n",
      "1387/1387 - 21s - loss: 0.3296 - accuracy: 0.8874\n",
      "Epoch 73/100\n",
      "1387/1387 - 21s - loss: 0.3232 - accuracy: 0.8890\n",
      "Epoch 74/100\n",
      "1387/1387 - 21s - loss: 0.3271 - accuracy: 0.8871\n",
      "Epoch 75/100\n",
      "1387/1387 - 22s - loss: 0.3293 - accuracy: 0.8866\n",
      "Epoch 76/100\n",
      "1387/1387 - 22s - loss: 0.3232 - accuracy: 0.8886\n",
      "Epoch 77/100\n",
      "1387/1387 - 22s - loss: 0.3254 - accuracy: 0.8883\n",
      "Epoch 78/100\n",
      "1387/1387 - 22s - loss: 0.3165 - accuracy: 0.8907\n",
      "Epoch 79/100\n",
      "1387/1387 - 22s - loss: 0.3195 - accuracy: 0.8896\n",
      "Epoch 80/100\n",
      "1387/1387 - 22s - loss: 0.3220 - accuracy: 0.8887\n",
      "Epoch 81/100\n",
      "1387/1387 - 22s - loss: 0.3197 - accuracy: 0.8896\n",
      "Epoch 82/100\n",
      "1387/1387 - 22s - loss: 0.3195 - accuracy: 0.8904\n",
      "Epoch 83/100\n",
      "1387/1387 - 22s - loss: 0.3136 - accuracy: 0.8915\n",
      "Epoch 84/100\n",
      "1387/1387 - 22s - loss: 0.3083 - accuracy: 0.8928\n",
      "Epoch 85/100\n",
      "1387/1387 - 22s - loss: 0.3168 - accuracy: 0.8900\n",
      "Epoch 86/100\n",
      "1387/1387 - 22s - loss: 0.3120 - accuracy: 0.8908\n",
      "Epoch 87/100\n",
      "1387/1387 - 22s - loss: 0.3108 - accuracy: 0.8921\n",
      "Epoch 88/100\n",
      "1387/1387 - 22s - loss: 0.3050 - accuracy: 0.8923\n",
      "Epoch 89/100\n",
      "1387/1387 - 22s - loss: 0.3100 - accuracy: 0.8915\n",
      "Epoch 90/100\n",
      "1387/1387 - 22s - loss: 0.3054 - accuracy: 0.8927\n",
      "Epoch 91/100\n",
      "1387/1387 - 22s - loss: 0.3024 - accuracy: 0.8939\n",
      "Epoch 92/100\n",
      "1387/1387 - 22s - loss: 0.3032 - accuracy: 0.8935\n",
      "Epoch 93/100\n",
      "1387/1387 - 22s - loss: 0.3031 - accuracy: 0.8934\n",
      "Epoch 94/100\n",
      "1387/1387 - 22s - loss: 0.2929 - accuracy: 0.8966\n",
      "Epoch 95/100\n",
      "1387/1387 - 22s - loss: 0.2970 - accuracy: 0.8964\n",
      "Epoch 96/100\n",
      "1387/1387 - 22s - loss: 0.2998 - accuracy: 0.8943\n",
      "Epoch 97/100\n",
      "1387/1387 - 22s - loss: 0.3036 - accuracy: 0.8949\n",
      "Epoch 98/100\n",
      "1387/1387 - 22s - loss: 0.2911 - accuracy: 0.8976\n",
      "Epoch 99/100\n",
      "1387/1387 - 22s - loss: 0.2902 - accuracy: 0.8984\n",
      "Epoch 100/100\n",
      "1387/1387 - 22s - loss: 0.2880 - accuracy: 0.8984\n"
     ]
    },
    {
     "data": {
      "text/plain": [
       "<tensorflow.python.keras.callbacks.History at 0x7f8be003d3c8>"
      ]
     },
     "execution_count": 19,
     "metadata": {},
     "output_type": "execute_result"
    }
   ],
   "source": [
    "clf.fit(train_dataset, epochs=epochs, verbose=2)"
   ]
  },
  {
   "cell_type": "markdown",
   "metadata": {
    "colab_type": "text",
    "id": "hPER3F84qRck"
   },
   "source": [
    "Evaluate the performance."
   ]
  },
  {
   "cell_type": "code",
   "execution_count": 20,
   "metadata": {
    "colab": {
     "base_uri": "https://localhost:8080/",
     "height": 51
    },
    "colab_type": "code",
    "id": "uVY52Fa2m_x3",
    "outputId": "8a1ac37e-2d46-4bff-b2f2-e764885d453e"
   },
   "outputs": [
    {
     "name": "stdout",
     "output_type": "stream",
     "text": [
      "14800/1 - 4s - loss: 0.3334 - accuracy: 0.8753\n"
     ]
    },
    {
     "data": {
      "text/plain": [
       "[0.43854039404843304, 0.87533784]"
      ]
     },
     "execution_count": 20,
     "metadata": {},
     "output_type": "execute_result"
    }
   ],
   "source": [
    "test_labels = test_dataset['label']\n",
    "test_labels = tf.one_hot(test_labels, 37)\n",
    "\n",
    "clf.evaluate(test_features, test_labels, verbose=2)"
   ]
  },
  {
   "cell_type": "markdown",
   "metadata": {
    "colab_type": "text",
    "id": "2TFCaAzbqS3w"
   },
   "source": [
    "Perturb the test data with noise from a Normal distribution having a standard deviation of `5e-2`."
   ]
  },
  {
   "cell_type": "code",
   "execution_count": 21,
   "metadata": {
    "colab": {},
    "colab_type": "code",
    "id": "7_OYG3QEnyVj"
   },
   "outputs": [],
   "source": [
    "test_features_raw = test_features\n",
    "\n",
    "test_features += tf.random.normal(stddev=5e-2, shape=test_features.shape)"
   ]
  },
  {
   "cell_type": "markdown",
   "metadata": {
    "colab_type": "text",
    "id": "C5rqv-Bfqa0p"
   },
   "source": [
    "Evaluate the model on the perturbed test data."
   ]
  },
  {
   "cell_type": "code",
   "execution_count": 22,
   "metadata": {
    "colab": {
     "base_uri": "https://localhost:8080/",
     "height": 51
    },
    "colab_type": "code",
    "id": "I7mdvROzn4Lk",
    "outputId": "20662868-89df-46eb-a0e1-0b622f54040f"
   },
   "outputs": [
    {
     "name": "stdout",
     "output_type": "stream",
     "text": [
      "14800/1 - 4s - loss: 0.9029 - accuracy: 0.7774\n"
     ]
    },
    {
     "data": {
      "text/plain": [
       "[0.9403384916202442, 0.77743244]"
      ]
     },
     "execution_count": 22,
     "metadata": {},
     "output_type": "execute_result"
    }
   ],
   "source": [
    "clf.evaluate(test_features, test_labels, verbose=2)"
   ]
  },
  {
   "cell_type": "markdown",
   "metadata": {
    "colab_type": "text",
    "id": "EZD66asrqd0n"
   },
   "source": [
    "Visualize the perturbed data and the reconstructions."
   ]
  },
  {
   "cell_type": "code",
   "execution_count": 23,
   "metadata": {
    "colab": {
     "base_uri": "https://localhost:8080/",
     "height": 248
    },
    "colab_type": "code",
    "id": "h4ydT3nCoK6z",
    "outputId": "376a516c-fe22-4c32-c720-8973b5e6b44d"
   },
   "outputs": [
    {
     "data": {
      "image/png": "[encoded data removed]",
      "text/plain": [
       "<Figure size 1440x288 with 20 Axes>"
      ]
     },
     "metadata": {
      "needs_background": "light"
     },
     "output_type": "display_data"
    }
   ],
   "source": [
    "number = 10\n",
    "plt.figure(figsize=(20, 4))\n",
    "for index in range(number):\n",
    "    # display original\n",
    "    ax = plt.subplot(2, number, index + 1)\n",
    "    test_image = test_features[index]\n",
    "    test_image = tf.transpose(test_image)\n",
    "    test_image = test_image.numpy().reshape(28, 28)\n",
    "    plt.imshow(test_image)\n",
    "    plt.gray()\n",
    "    ax.get_xaxis().set_visible(False)\n",
    "    ax.get_yaxis().set_visible(False)\n",
    "\n",
    "    # display reconstruction\n",
    "    ax = plt.subplot(2, number, index + 1 + number)\n",
    "    reconstructed = model(test_image.reshape(-1, 28, 28, 1))\n",
    "    reconstructed = reconstructed.numpy().reshape(28, 28)\n",
    "    plt.imshow(reconstructed)\n",
    "    plt.gray()\n",
    "    ax.get_xaxis().set_visible(False)\n",
    "    ax.get_yaxis().set_visible(False)\n",
    "plt.show()"
   ]
  },
  {
   "cell_type": "markdown",
   "metadata": {
    "colab_type": "text",
    "id": "ScbIR9owqgyy"
   },
   "source": [
    "Reload the test features, and increase the standard deviation of the Normal distribution from which we shall get the noise from for perturbing the test data."
   ]
  },
  {
   "cell_type": "code",
   "execution_count": 24,
   "metadata": {
    "colab": {},
    "colab_type": "code",
    "id": "OzmmB4SJoTPZ"
   },
   "outputs": [],
   "source": [
    "test_features = test_features_raw\n",
    "\n",
    "test_features += tf.random.normal(stddev=5e-1, shape=test_features.shape)"
   ]
  },
  {
   "cell_type": "markdown",
   "metadata": {
    "colab_type": "text",
    "id": "7dw4HZo3qo5a"
   },
   "source": [
    "Visualize the test features and the reconstructions."
   ]
  },
  {
   "cell_type": "code",
   "execution_count": 25,
   "metadata": {
    "colab": {
     "base_uri": "https://localhost:8080/",
     "height": 248
    },
    "colab_type": "code",
    "id": "NAcSd0u-od4r",
    "outputId": "1797a5ea-4145-42e9-8cab-607fbd642f6d"
   },
   "outputs": [
    {
     "data": {
      "image/png": "[encoded data removed]",
      "text/plain": [
       "<Figure size 1440x288 with 20 Axes>"
      ]
     },
     "metadata": {
      "needs_background": "light"
     },
     "output_type": "display_data"
    }
   ],
   "source": [
    "number = 10\n",
    "plt.figure(figsize=(20, 4))\n",
    "for index in range(number):\n",
    "    # display original\n",
    "    ax = plt.subplot(2, number, index + 1)\n",
    "    test_image = test_features[index]\n",
    "    test_image = tf.transpose(test_image)\n",
    "    test_image = test_image.numpy().reshape(28, 28)\n",
    "    plt.imshow(test_image)\n",
    "    plt.gray()\n",
    "    ax.get_xaxis().set_visible(False)\n",
    "    ax.get_yaxis().set_visible(False)\n",
    "\n",
    "    # display reconstruction\n",
    "    ax = plt.subplot(2, number, index + 1 + number)\n",
    "    reconstructed = model(test_image.reshape(-1, 28, 28, 1))\n",
    "    reconstructed = reconstructed.numpy().reshape(28, 28)\n",
    "    plt.imshow(reconstructed)\n",
    "    plt.gray()\n",
    "    ax.get_xaxis().set_visible(False)\n",
    "    ax.get_yaxis().set_visible(False)\n",
    "plt.show()"
   ]
  },
  {
   "cell_type": "markdown",
   "metadata": {
    "colab_type": "text",
    "id": "mMpQtIYOqtDW"
   },
   "source": [
    "Evaluate on the new perturbed test data."
   ]
  },
  {
   "cell_type": "code",
   "execution_count": 26,
   "metadata": {
    "colab": {
     "base_uri": "https://localhost:8080/",
     "height": 51
    },
    "colab_type": "code",
    "id": "B1rpsaLAogbY",
    "outputId": "9f1ae6bb-a692-47bb-b101-fa3679dea94a"
   },
   "outputs": [
    {
     "name": "stdout",
     "output_type": "stream",
     "text": [
      "14800/1 - 4s - loss: 16.5316 - accuracy: 0.2354\n"
     ]
    },
    {
     "data": {
      "text/plain": [
       "[18.47456665451462, 0.2354054]"
      ]
     },
     "execution_count": 26,
     "metadata": {},
     "output_type": "execute_result"
    }
   ],
   "source": [
    "clf.evaluate(test_features, test_labels, verbose=2)"
   ]
  },
  {
   "cell_type": "code",
   "execution_count": 27,
   "metadata": {},
   "outputs": [],
   "source": [
    "model.save_weights('../assets/export/classifier/emnist/100_epochs', save_format='tf')"
   ]
  }
 ],
 "metadata": {
  "accelerator": "GPU",
  "colab": {
   "collapsed_sections": [],
   "include_colab_link": true,
   "name": "x-pretrained-vgg-classification.ipynb",
   "provenance": []
  },
  "kernelspec": {
   "display_name": "Python 3",
   "language": "python",
   "name": "python3"
  },
  "language_info": {
   "codemirror_mode": {
    "name": "ipython",
    "version": 3
   },
   "file_extension": ".py",
   "mimetype": "text/x-python",
   "name": "python",
   "nbconvert_exporter": "python",
   "pygments_lexer": "ipython3",
   "version": "3.6.8"
  }
 },
 "nbformat": 4,
 "nbformat_minor": 2
}
