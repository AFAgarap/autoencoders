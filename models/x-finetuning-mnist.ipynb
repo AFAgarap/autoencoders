{
 "cells": [
  {
   "cell_type": "markdown",
   "metadata": {
    "colab_type": "text",
    "id": "7_r_yVCVpS85"
   },
   "source": [
    "Pretraining Autoencoder for Downstream Task\n",
    "=====\n",
    "\n",
    "## Overview \n",
    "\n",
    "In this notebook, we use the pretrained encoder of a mini VGG-based autoencoder as a feature extractor for a neural network.\n",
    "\n",
    "## Setup \n",
    "\n",
    "We setup our dependencies."
   ]
  },
  {
   "cell_type": "code",
   "execution_count": 1,
   "metadata": {
    "colab": {},
    "colab_type": "code",
    "id": "_x8jUvV5leuX"
   },
   "outputs": [],
   "source": [
    "from __future__ import absolute_import\n",
    "from __future__ import division\n",
    "from __future__ import print_function\n",
    "\n",
    "__author__ = 'Abien Fred Agarap'\n",
    "__version__ = '1.0.0'\n",
    "\n",
    "import matplotlib.pyplot as plt\n",
    "import numpy as np\n",
    "import tensorflow as tf\n",
    "from tensorflow.keras.datasets import mnist\n",
    "from tf.vgg_ae import CAE"
   ]
  },
  {
   "cell_type": "markdown",
   "metadata": {
    "colab_type": "text",
    "id": "lKkvrPNbpmb8"
   },
   "source": [
    "Set the memory growth of GPU."
   ]
  },
  {
   "cell_type": "code",
   "execution_count": 2,
   "metadata": {
    "colab": {},
    "colab_type": "code",
    "id": "LfY3Gcevodo7"
   },
   "outputs": [],
   "source": [
    "tf.config.experimental.set_memory_growth(\n",
    "    tf.config.experimental.list_physical_devices('GPU')[0],\n",
    "    True\n",
    ")"
   ]
  },
  {
   "cell_type": "markdown",
   "metadata": {
    "colab_type": "text",
    "id": "jdguwL96ppDp"
   },
   "source": [
    "Set the random number generator seed value."
   ]
  },
  {
   "cell_type": "code",
   "execution_count": 3,
   "metadata": {
    "colab": {},
    "colab_type": "code",
    "id": "7MjqEUjAoj4m"
   },
   "outputs": [],
   "source": [
    "SEED = 42\n",
    "tf.random.set_seed(SEED)\n",
    "np.random.seed(SEED)"
   ]
  },
  {
   "cell_type": "markdown",
   "metadata": {
    "colab_type": "text",
    "id": "1gZK7wlTpq-Y"
   },
   "source": [
    "We set the batch size and epochs."
   ]
  },
  {
   "cell_type": "code",
   "execution_count": 4,
   "metadata": {
    "colab": {},
    "colab_type": "code",
    "id": "usw0kmm4mLIi"
   },
   "outputs": [],
   "source": [
    "batch_size = 512\n",
    "epochs = 100"
   ]
  },
  {
   "cell_type": "markdown",
   "metadata": {
    "colab_type": "text",
    "id": "Lq07vmTBps03"
   },
   "source": [
    "## Dataset\n",
    "\n",
    "We load the MNIST classification dataset."
   ]
  },
  {
   "cell_type": "code",
   "execution_count": 5,
   "metadata": {
    "colab": {},
    "colab_type": "code",
    "id": "0sO1dA2AltFx"
   },
   "outputs": [],
   "source": [
    "(train_features, train_labels), (test_features, test_labels) = mnist.load_data()"
   ]
  },
  {
   "cell_type": "markdown",
   "metadata": {},
   "source": [
    "We further split the test dataset into validation and test."
   ]
  },
  {
   "cell_type": "code",
   "execution_count": 6,
   "metadata": {},
   "outputs": [],
   "source": [
    "validation_features = test_features[:5000]\n",
    "validation_labels = test_labels[:5000]\n",
    "\n",
    "test_features = test_features[5000:]\n",
    "test_labels = test_labels[5000:]"
   ]
  },
  {
   "cell_type": "markdown",
   "metadata": {
    "colab_type": "text",
    "id": "E8wet1ezpxkh"
   },
   "source": [
    "We preprocess the MNIST dataset."
   ]
  },
  {
   "cell_type": "code",
   "execution_count": 7,
   "metadata": {
    "colab": {},
    "colab_type": "code",
    "id": "qmqsR2ORmQ3I"
   },
   "outputs": [],
   "source": [
    "train_features = train_features.reshape(-1, 28, 28, 1)\n",
    "train_features = train_features.astype('float32')\n",
    "train_features = train_features / 255.\n",
    "\n",
    "validation_features = validation_features.reshape(-1, 28, 28, 1)\n",
    "validation_features = validation_features.astype('float32')\n",
    "validation_features = validation_features / 255.\n",
    "\n",
    "test_features = test_features.reshape(-1, 28, 28, 1)\n",
    "test_features = test_features.astype('float32')\n",
    "test_features = test_features / 255.\n",
    "\n",
    "train_labels = tf.one_hot(train_labels, len(np.unique(train_labels)))\n",
    "validation_labels = tf.one_hot(validation_labels, len(np.unique(validation_labels)))\n",
    "test_labels = tf.one_hot(test_labels, len(np.unique(test_labels)))"
   ]
  },
  {
   "cell_type": "markdown",
   "metadata": {
    "colab_type": "text",
    "id": "fHbIO76hpzrV"
   },
   "source": [
    "Create the `tf.data.Dataset` object for training and evaluation."
   ]
  },
  {
   "cell_type": "code",
   "execution_count": 8,
   "metadata": {
    "colab": {},
    "colab_type": "code",
    "id": "cOCne-f8nX93"
   },
   "outputs": [],
   "source": [
    "train_dataset = tf.data.Dataset.from_tensor_slices((train_features, train_labels))\n",
    "train_dataset = train_dataset.batch(batch_size)\n",
    "train_dataset = train_dataset.prefetch(batch_size * 4)\n",
    "train_dataset = train_dataset.shuffle(train_features.shape[0])\n",
    "\n",
    "validation_dataset = tf.data.Dataset.from_tensor_slices((validation_features, validation_labels))\n",
    "validation_dataset = validation_dataset.batch(batch_size)\n",
    "validation_dataset = validation_dataset.prefetch(batch_size * 4)\n",
    "validation_dataset = validation_dataset.shuffle(validation_features.shape[0])\n",
    "\n",
    "test_dataset = tf.data.Dataset.from_tensor_slices((test_features, test_labels))\n",
    "test_dataset = train_dataset.batch(batch_size)\n",
    "test_dataset = train_dataset.prefetch(batch_size * 4)\n",
    "test_dataset = train_dataset.shuffle(test_features.shape[0])"
   ]
  },
  {
   "cell_type": "markdown",
   "metadata": {
    "colab_type": "text",
    "id": "rCn-hGv8p3BY"
   },
   "source": [
    "Instantiate the mini VGG-based autoencoder model."
   ]
  },
  {
   "cell_type": "code",
   "execution_count": 9,
   "metadata": {
    "colab": {},
    "colab_type": "code",
    "id": "VSZapOyLo1go"
   },
   "outputs": [],
   "source": [
    "model = CAE(input_shape=(28, 28, 1))"
   ]
  },
  {
   "cell_type": "markdown",
   "metadata": {
    "colab_type": "text",
    "id": "Qcc25PNcp6rw"
   },
   "source": [
    "Compile the model."
   ]
  },
  {
   "cell_type": "code",
   "execution_count": 10,
   "metadata": {
    "colab": {},
    "colab_type": "code",
    "id": "MZUJd0VUo6rq"
   },
   "outputs": [],
   "source": [
    "model.compile(\n",
    "    loss=tf.losses.mean_squared_error,\n",
    "    optimizer=tf.optimizers.Adam(learning_rate=1e-3)\n",
    ")"
   ]
  },
  {
   "cell_type": "markdown",
   "metadata": {
    "colab_type": "text",
    "id": "PJ3AodaTp7yv"
   },
   "source": [
    "Load the trained autoencoder model."
   ]
  },
  {
   "cell_type": "code",
   "execution_count": 11,
   "metadata": {
    "colab": {
     "base_uri": "https://localhost:8080/",
     "height": 34
    },
    "colab_type": "code",
    "id": "ijzOdvBgnhHb",
    "outputId": "fede51ac-10cd-40a8-dc87-b22894f10c37"
   },
   "outputs": [
    {
     "data": {
      "text/plain": [
       "<tensorflow.python.training.tracking.util.CheckpointLoadStatus at 0x7fedcebdc4a8>"
      ]
     },
     "execution_count": 11,
     "metadata": {},
     "output_type": "execute_result"
    }
   ],
   "source": [
    "model.load_weights('../assets/export/mnist/mini_vgg_ae_mnist')"
   ]
  },
  {
   "cell_type": "markdown",
   "metadata": {
    "colab_type": "text",
    "id": "zT-9_JPVp99K"
   },
   "source": [
    "Visualize the test data and the model reconstructions."
   ]
  },
  {
   "cell_type": "code",
   "execution_count": 12,
   "metadata": {
    "colab": {
     "base_uri": "https://localhost:8080/",
     "height": 248
    },
    "colab_type": "code",
    "id": "xGCqNT8Fmh3i",
    "outputId": "99f1684e-6d56-4759-edd8-ad83495d8e4a"
   },
   "outputs": [
    {
     "data": {
      "image/png": "[encoded data removed]",
      "text/plain": [
       "<Figure size 1440x288 with 20 Axes>"
      ]
     },
     "metadata": {
      "needs_background": "light"
     },
     "output_type": "display_data"
    }
   ],
   "source": [
    "number = 10\n",
    "plt.figure(figsize=(20, 4))\n",
    "for index in range(number):\n",
    "    # display original\n",
    "    ax = plt.subplot(2, number, index + 1)\n",
    "    plt.imshow(test_features[index].reshape(28, 28))\n",
    "    plt.gray()\n",
    "    ax.get_xaxis().set_visible(False)\n",
    "    ax.get_yaxis().set_visible(False)\n",
    "\n",
    "    # display reconstruction\n",
    "    ax = plt.subplot(2, number, index + 1 + number)\n",
    "    plt.imshow(model(test_features[index].reshape(-1, 28, 28, 1)).numpy().reshape(28, 28))\n",
    "    plt.gray()\n",
    "    ax.get_xaxis().set_visible(False)\n",
    "    ax.get_yaxis().set_visible(False)\n",
    "plt.show()"
   ]
  },
  {
   "cell_type": "markdown",
   "metadata": {
    "colab_type": "text",
    "id": "TUew3Z8WqBQ1"
   },
   "source": [
    "Let's check the number of parameters."
   ]
  },
  {
   "cell_type": "code",
   "execution_count": 13,
   "metadata": {
    "colab": {
     "base_uri": "https://localhost:8080/",
     "height": 221
    },
    "colab_type": "code",
    "id": "XwhrOGzQmj4n",
    "outputId": "8c220a47-32a3-4168-a39f-aa4d179fd5a2"
   },
   "outputs": [
    {
     "name": "stdout",
     "output_type": "stream",
     "text": [
      "Model: \"cae\"\n",
      "_________________________________________________________________\n",
      "Layer (type)                 Output Shape              Param #   \n",
      "=================================================================\n",
      "encoder (Encoder)            multiple                  64992     \n",
      "_________________________________________________________________\n",
      "decoder (Decoder)            multiple                  92609     \n",
      "=================================================================\n",
      "Total params: 157,601\n",
      "Trainable params: 157,601\n",
      "Non-trainable params: 0\n",
      "_________________________________________________________________\n"
     ]
    }
   ],
   "source": [
    "model.summary()"
   ]
  },
  {
   "cell_type": "markdown",
   "metadata": {},
   "source": [
    "View the encoder layers to be used as feature extractors."
   ]
  },
  {
   "cell_type": "code",
   "execution_count": 14,
   "metadata": {},
   "outputs": [
    {
     "data": {
      "text/plain": [
       "[<tensorflow.python.keras.engine.input_layer.InputLayer at 0x7fedd0a22dd8>,\n",
       " <tensorflow.python.keras.layers.convolutional.Conv2D at 0x7fedd0a22da0>,\n",
       " <tensorflow.python.keras.layers.convolutional.Conv2D at 0x7fedcf5517f0>,\n",
       " <tensorflow.python.keras.layers.convolutional.Conv2D at 0x7fedcf567ac8>,\n",
       " <tensorflow.python.keras.layers.convolutional.Conv2D at 0x7fedcec340f0>]"
      ]
     },
     "execution_count": 14,
     "metadata": {},
     "output_type": "execute_result"
    }
   ],
   "source": [
    "model.encoder.layers"
   ]
  },
  {
   "cell_type": "markdown",
   "metadata": {},
   "source": [
    "Un-freeze the encoder layer."
   ]
  },
  {
   "cell_type": "code",
   "execution_count": 15,
   "metadata": {},
   "outputs": [],
   "source": [
    "model.encoder.trainable = True"
   ]
  },
  {
   "cell_type": "markdown",
   "metadata": {
    "colab_type": "text",
    "id": "xnvJJEEJqGBt"
   },
   "source": [
    "Build a neural network with `model.encoder` as feature extractor."
   ]
  },
  {
   "cell_type": "code",
   "execution_count": 16,
   "metadata": {
    "colab": {},
    "colab_type": "code",
    "id": "US8to1drmnfj"
   },
   "outputs": [],
   "source": [
    "class NN(tf.keras.Model):\n",
    "    def __init__(self, **kwargs):\n",
    "        super(NN, self).__init__()\n",
    "        self.encoder = model.encoder\n",
    "        self.flatten = tf.keras.layers.Flatten()\n",
    "        self.dense_layer = tf.keras.layers.Dense(units=512, activation=tf.nn.relu)\n",
    "        self.output_layer = tf.keras.layers.Dense(units=10, activation=tf.nn.softmax)\n",
    "        \n",
    "    def call(self, features):\n",
    "        code = self.encoder(features)\n",
    "        code = self.flatten(code)\n",
    "        activation = self.dense_layer(code)\n",
    "        outputs = self.output_layer(activation)\n",
    "        return outputs"
   ]
  },
  {
   "cell_type": "markdown",
   "metadata": {
    "colab_type": "text",
    "id": "aSzliWvXqKCm"
   },
   "source": [
    "Instantiate the neural network."
   ]
  },
  {
   "cell_type": "code",
   "execution_count": 17,
   "metadata": {
    "colab": {},
    "colab_type": "code",
    "id": "e3PVAvJdmo4v"
   },
   "outputs": [],
   "source": [
    "clf = NN()"
   ]
  },
  {
   "cell_type": "markdown",
   "metadata": {},
   "source": [
    "Let's set an early stopping."
   ]
  },
  {
   "cell_type": "code",
   "execution_count": 18,
   "metadata": {},
   "outputs": [],
   "source": [
    "early_stop_callback = tf.keras.callbacks.EarlyStopping(\n",
    "    monitor=\"val_accuracy\",\n",
    "    min_delta=1e-4,\n",
    "    patience=10\n",
    ")"
   ]
  },
  {
   "cell_type": "markdown",
   "metadata": {
    "colab_type": "text",
    "id": "FioHPyi9qMzv"
   },
   "source": [
    "Compile the neural network for training and inference."
   ]
  },
  {
   "cell_type": "code",
   "execution_count": 19,
   "metadata": {
    "colab": {},
    "colab_type": "code",
    "id": "7k8qMlelmqui"
   },
   "outputs": [],
   "source": [
    "clf.compile(loss=tf.losses.categorical_crossentropy,\n",
    "            optimizer=tf.optimizers.Adam(learning_rate=1e-3),\n",
    "            metrics=['accuracy'])"
   ]
  },
  {
   "cell_type": "markdown",
   "metadata": {
    "colab_type": "text",
    "id": "DcVEzQayqQMn"
   },
   "source": [
    "Train the model."
   ]
  },
  {
   "cell_type": "code",
   "execution_count": 20,
   "metadata": {
    "colab": {
     "base_uri": "https://localhost:8080/",
     "height": 374
    },
    "colab_type": "code",
    "id": "u7DVQwRgmxyG",
    "outputId": "a89f88eb-cd90-4ee0-b2a6-6d6cbdca87a3"
   },
   "outputs": [
    {
     "name": "stdout",
     "output_type": "stream",
     "text": [
      "Epoch 1/100\n",
      "118/118 - 23s - loss: 1.0790 - accuracy: 0.7328 - val_loss: 0.0000e+00 - val_accuracy: 0.0000e+00\n",
      "Epoch 2/100\n",
      "118/118 - 21s - loss: 0.0814 - accuracy: 0.9758 - val_loss: 0.0910 - val_accuracy: 0.9718\n",
      "Epoch 3/100\n",
      "118/118 - 21s - loss: 0.0469 - accuracy: 0.9862 - val_loss: 0.0711 - val_accuracy: 0.9798\n",
      "Epoch 4/100\n",
      "118/118 - 21s - loss: 0.0296 - accuracy: 0.9912 - val_loss: 0.0651 - val_accuracy: 0.9794\n",
      "Epoch 5/100\n",
      "118/118 - 21s - loss: 0.0169 - accuracy: 0.9953 - val_loss: 0.0626 - val_accuracy: 0.9782\n",
      "Epoch 6/100\n",
      "118/118 - 21s - loss: 0.0109 - accuracy: 0.9973 - val_loss: 0.0566 - val_accuracy: 0.9818\n",
      "Epoch 7/100\n",
      "118/118 - 21s - loss: 0.0060 - accuracy: 0.9989 - val_loss: 0.0577 - val_accuracy: 0.9806\n",
      "Epoch 8/100\n",
      "118/118 - 21s - loss: 0.0029 - accuracy: 0.9998 - val_loss: 0.0548 - val_accuracy: 0.9826\n",
      "Epoch 9/100\n",
      "118/118 - 21s - loss: 0.0015 - accuracy: 1.0000 - val_loss: 0.0539 - val_accuracy: 0.9826\n",
      "Epoch 10/100\n",
      "118/118 - 21s - loss: 0.0011 - accuracy: 1.0000 - val_loss: 0.0568 - val_accuracy: 0.9818\n",
      "Epoch 11/100\n",
      "118/118 - 21s - loss: 7.3447e-04 - accuracy: 1.0000 - val_loss: 0.0562 - val_accuracy: 0.9828\n",
      "Epoch 12/100\n",
      "118/118 - 21s - loss: 5.0402e-04 - accuracy: 1.0000 - val_loss: 0.0575 - val_accuracy: 0.9826\n",
      "Epoch 13/100\n",
      "118/118 - 21s - loss: 3.9964e-04 - accuracy: 1.0000 - val_loss: 0.0568 - val_accuracy: 0.9824\n",
      "Epoch 14/100\n",
      "118/118 - 21s - loss: 3.3232e-04 - accuracy: 1.0000 - val_loss: 0.0572 - val_accuracy: 0.9826\n",
      "Epoch 15/100\n",
      "118/118 - 21s - loss: 2.7759e-04 - accuracy: 1.0000 - val_loss: 0.0584 - val_accuracy: 0.9830\n",
      "Epoch 16/100\n",
      "118/118 - 21s - loss: 2.3902e-04 - accuracy: 1.0000 - val_loss: 0.0599 - val_accuracy: 0.9828\n",
      "Epoch 17/100\n",
      "118/118 - 21s - loss: 2.0029e-04 - accuracy: 1.0000 - val_loss: 0.0585 - val_accuracy: 0.9832\n",
      "Epoch 18/100\n",
      "118/118 - 21s - loss: 1.6871e-04 - accuracy: 1.0000 - val_loss: 0.0592 - val_accuracy: 0.9836\n",
      "Epoch 19/100\n",
      "118/118 - 21s - loss: 1.4618e-04 - accuracy: 1.0000 - val_loss: 0.0599 - val_accuracy: 0.9836\n",
      "Epoch 20/100\n",
      "118/118 - 21s - loss: 1.2660e-04 - accuracy: 1.0000 - val_loss: 0.0612 - val_accuracy: 0.9838\n",
      "Epoch 21/100\n",
      "118/118 - 21s - loss: 1.1119e-04 - accuracy: 1.0000 - val_loss: 0.0614 - val_accuracy: 0.9836\n",
      "Epoch 22/100\n",
      "118/118 - 21s - loss: 9.6903e-05 - accuracy: 1.0000 - val_loss: 0.0617 - val_accuracy: 0.9842\n",
      "Epoch 23/100\n",
      "118/118 - 21s - loss: 8.4873e-05 - accuracy: 1.0000 - val_loss: 0.0607 - val_accuracy: 0.9842\n",
      "Epoch 24/100\n",
      "118/118 - 21s - loss: 7.6354e-05 - accuracy: 1.0000 - val_loss: 0.0628 - val_accuracy: 0.9842\n",
      "Epoch 25/100\n",
      "118/118 - 21s - loss: 6.8119e-05 - accuracy: 1.0000 - val_loss: 0.0624 - val_accuracy: 0.9840\n",
      "Epoch 26/100\n",
      "118/118 - 21s - loss: 6.0813e-05 - accuracy: 1.0000 - val_loss: 0.0631 - val_accuracy: 0.9840\n",
      "Epoch 27/100\n",
      "118/118 - 21s - loss: 5.4564e-05 - accuracy: 1.0000 - val_loss: 0.0631 - val_accuracy: 0.9840\n",
      "Epoch 28/100\n",
      "118/118 - 21s - loss: 4.9385e-05 - accuracy: 1.0000 - val_loss: 0.0637 - val_accuracy: 0.9840\n",
      "Epoch 29/100\n",
      "118/118 - 21s - loss: 4.4820e-05 - accuracy: 1.0000 - val_loss: 0.0643 - val_accuracy: 0.9842\n",
      "Epoch 30/100\n",
      "118/118 - 21s - loss: 4.0310e-05 - accuracy: 1.0000 - val_loss: 0.0645 - val_accuracy: 0.9846\n",
      "Epoch 31/100\n",
      "118/118 - 21s - loss: 3.6754e-05 - accuracy: 1.0000 - val_loss: 0.0647 - val_accuracy: 0.9842\n",
      "Epoch 32/100\n",
      "118/118 - 21s - loss: 3.3363e-05 - accuracy: 1.0000 - val_loss: 0.0652 - val_accuracy: 0.9840\n",
      "Epoch 33/100\n",
      "118/118 - 21s - loss: 3.0350e-05 - accuracy: 1.0000 - val_loss: 0.0653 - val_accuracy: 0.9840\n",
      "Epoch 34/100\n",
      "118/118 - 21s - loss: 2.7735e-05 - accuracy: 1.0000 - val_loss: 0.0665 - val_accuracy: 0.9834\n",
      "Epoch 35/100\n",
      "118/118 - 21s - loss: 2.5366e-05 - accuracy: 1.0000 - val_loss: 0.0661 - val_accuracy: 0.9842\n",
      "Epoch 36/100\n",
      "118/118 - 21s - loss: 2.3095e-05 - accuracy: 1.0000 - val_loss: 0.0666 - val_accuracy: 0.9834\n",
      "Epoch 37/100\n",
      "118/118 - 21s - loss: 2.1199e-05 - accuracy: 1.0000 - val_loss: 0.0666 - val_accuracy: 0.9838\n",
      "Epoch 38/100\n",
      "118/118 - 21s - loss: 1.9537e-05 - accuracy: 1.0000 - val_loss: 0.0673 - val_accuracy: 0.9840\n",
      "Epoch 39/100\n",
      "118/118 - 21s - loss: 1.8127e-05 - accuracy: 1.0000 - val_loss: 0.0674 - val_accuracy: 0.9842\n",
      "Epoch 40/100\n",
      "118/118 - 21s - loss: 1.6569e-05 - accuracy: 1.0000 - val_loss: 0.0682 - val_accuracy: 0.9838\n"
     ]
    }
   ],
   "source": [
    "history = clf.fit(train_dataset,\n",
    "                  epochs=epochs,\n",
    "                  validation_data=validation_dataset,\n",
    "                  callbacks=[early_stop_callback],\n",
    "                  verbose=2)"
   ]
  },
  {
   "cell_type": "markdown",
   "metadata": {
    "colab_type": "text",
    "id": "hPER3F84qRck"
   },
   "source": [
    "Evaluate the performance."
   ]
  },
  {
   "cell_type": "code",
   "execution_count": 21,
   "metadata": {
    "colab": {
     "base_uri": "https://localhost:8080/",
     "height": 51
    },
    "colab_type": "code",
    "id": "uVY52Fa2m_x3",
    "outputId": "8a1ac37e-2d46-4bff-b2f2-e764885d453e"
   },
   "outputs": [
    {
     "name": "stdout",
     "output_type": "stream",
     "text": [
      "118/118 - 7s - loss: 1.5139e-05 - accuracy: 1.0000\n"
     ]
    },
    {
     "data": {
      "text/plain": [
       "[1.5138826684359613e-05, 1.0]"
      ]
     },
     "execution_count": 21,
     "metadata": {},
     "output_type": "execute_result"
    }
   ],
   "source": [
    "clf.evaluate(test_dataset, verbose=2)"
   ]
  },
  {
   "cell_type": "markdown",
   "metadata": {
    "colab_type": "text",
    "id": "2TFCaAzbqS3w"
   },
   "source": [
    "Perturb the test data with noise from a Normal distribution having a standard deviation of `5e-2`."
   ]
  },
  {
   "cell_type": "code",
   "execution_count": 22,
   "metadata": {
    "colab": {},
    "colab_type": "code",
    "id": "7_OYG3QEnyVj"
   },
   "outputs": [],
   "source": [
    "test_features += tf.random.normal(stddev=5e-2, shape=test_features.shape)"
   ]
  },
  {
   "cell_type": "markdown",
   "metadata": {
    "colab_type": "text",
    "id": "C5rqv-Bfqa0p"
   },
   "source": [
    "Evaluate the model on the perturbed test data."
   ]
  },
  {
   "cell_type": "code",
   "execution_count": 23,
   "metadata": {
    "colab": {
     "base_uri": "https://localhost:8080/",
     "height": 51
    },
    "colab_type": "code",
    "id": "I7mdvROzn4Lk",
    "outputId": "20662868-89df-46eb-a0e1-0b622f54040f"
   },
   "outputs": [
    {
     "name": "stdout",
     "output_type": "stream",
     "text": [
      "5000/1 - 1s - loss: 0.0447 - accuracy: 0.9942\n"
     ]
    },
    {
     "data": {
      "text/plain": [
       "[0.022699995493888854, 0.9942]"
      ]
     },
     "execution_count": 23,
     "metadata": {},
     "output_type": "execute_result"
    }
   ],
   "source": [
    "clf.evaluate(test_features, test_labels, batch_size=512, verbose=2)"
   ]
  },
  {
   "cell_type": "markdown",
   "metadata": {
    "colab_type": "text",
    "id": "EZD66asrqd0n"
   },
   "source": [
    "Visualize the perturbed data and the reconstructions."
   ]
  },
  {
   "cell_type": "code",
   "execution_count": 24,
   "metadata": {
    "colab": {
     "base_uri": "https://localhost:8080/",
     "height": 248
    },
    "colab_type": "code",
    "id": "h4ydT3nCoK6z",
    "outputId": "376a516c-fe22-4c32-c720-8973b5e6b44d"
   },
   "outputs": [
    {
     "data": {
      "image/png": "[encoded data removed]",
      "text/plain": [
       "<Figure size 1440x288 with 20 Axes>"
      ]
     },
     "metadata": {
      "needs_background": "light"
     },
     "output_type": "display_data"
    }
   ],
   "source": [
    "number = 10\n",
    "plt.figure(figsize=(20, 4))\n",
    "for index in range(number):\n",
    "    # display original\n",
    "    ax = plt.subplot(2, number, index + 1)\n",
    "    plt.imshow(test_features[index].numpy().reshape(28, 28))\n",
    "    plt.gray()\n",
    "    ax.get_xaxis().set_visible(False)\n",
    "    ax.get_yaxis().set_visible(False)\n",
    "\n",
    "    # display reconstruction\n",
    "    ax = plt.subplot(2, number, index + 1 + number)\n",
    "    plt.imshow(model(test_features[index].numpy().reshape(-1, 28, 28, 1)).numpy().reshape(28, 28))\n",
    "    plt.gray()\n",
    "    ax.get_xaxis().set_visible(False)\n",
    "    ax.get_yaxis().set_visible(False)\n",
    "plt.show()"
   ]
  },
  {
   "cell_type": "markdown",
   "metadata": {
    "colab_type": "text",
    "id": "ScbIR9owqgyy"
   },
   "source": [
    "Reload the test features, and increase the standard deviation of the Normal distribution from which we shall get the noise from for perturbing the test data."
   ]
  },
  {
   "cell_type": "code",
   "execution_count": 25,
   "metadata": {
    "colab": {},
    "colab_type": "code",
    "id": "OzmmB4SJoTPZ"
   },
   "outputs": [],
   "source": [
    "_, (test_features, _) = mnist.load_data()\n",
    "\n",
    "test_features = test_features.astype('float32') / 255.\n",
    "test_features = test_features.reshape(-1, 28, 28, 1)\n",
    "test_features += tf.random.normal(stddev=5e-1, shape=test_features.shape)"
   ]
  },
  {
   "cell_type": "markdown",
   "metadata": {},
   "source": [
    "Get the last 5000 test features."
   ]
  },
  {
   "cell_type": "code",
   "execution_count": 26,
   "metadata": {},
   "outputs": [],
   "source": [
    "test_features = test_features[5000:]"
   ]
  },
  {
   "cell_type": "markdown",
   "metadata": {
    "colab_type": "text",
    "id": "7dw4HZo3qo5a"
   },
   "source": [
    "Visualize the test features and the reconstructions."
   ]
  },
  {
   "cell_type": "code",
   "execution_count": 27,
   "metadata": {
    "colab": {
     "base_uri": "https://localhost:8080/",
     "height": 248
    },
    "colab_type": "code",
    "id": "NAcSd0u-od4r",
    "outputId": "1797a5ea-4145-42e9-8cab-607fbd642f6d"
   },
   "outputs": [
    {
     "data": {
      "image/png": "[encoded data removed]",
      "text/plain": [
       "<Figure size 1440x288 with 20 Axes>"
      ]
     },
     "metadata": {
      "needs_background": "light"
     },
     "output_type": "display_data"
    }
   ],
   "source": [
    "number = 10\n",
    "plt.figure(figsize=(20, 4))\n",
    "for index in range(number):\n",
    "    # display original\n",
    "    ax = plt.subplot(2, number, index + 1)\n",
    "    plt.imshow(test_features[index].numpy().reshape(28, 28))\n",
    "    plt.gray()\n",
    "    ax.get_xaxis().set_visible(False)\n",
    "    ax.get_yaxis().set_visible(False)\n",
    "\n",
    "    # display reconstruction\n",
    "    ax = plt.subplot(2, number, index + 1 + number)\n",
    "    plt.imshow(model(test_features[index].numpy().reshape(-1, 28, 28, 1)).numpy().reshape(28, 28))\n",
    "    plt.gray()\n",
    "    ax.get_xaxis().set_visible(False)\n",
    "    ax.get_yaxis().set_visible(False)\n",
    "plt.show()"
   ]
  },
  {
   "cell_type": "markdown",
   "metadata": {
    "colab_type": "text",
    "id": "mMpQtIYOqtDW"
   },
   "source": [
    "Evaluate on the new perturbed test data."
   ]
  },
  {
   "cell_type": "code",
   "execution_count": 28,
   "metadata": {
    "colab": {
     "base_uri": "https://localhost:8080/",
     "height": 51
    },
    "colab_type": "code",
    "id": "B1rpsaLAogbY",
    "outputId": "9f1ae6bb-a692-47bb-b101-fa3679dea94a"
   },
   "outputs": [
    {
     "name": "stdout",
     "output_type": "stream",
     "text": [
      "5000/1 - 1s - loss: 1.8649 - accuracy: 0.7382\n"
     ]
    },
    {
     "data": {
      "text/plain": [
       "[1.4086255172729492, 0.7382]"
      ]
     },
     "execution_count": 28,
     "metadata": {},
     "output_type": "execute_result"
    }
   ],
   "source": [
    "clf.evaluate(test_features, test_labels, batch_size=batch_size, verbose=2)"
   ]
  },
  {
   "cell_type": "code",
   "execution_count": 29,
   "metadata": {},
   "outputs": [],
   "source": [
    "model.save_weights('../assets/export/classifier/finetuning/mnist/100_epochs', save_format='tf')"
   ]
  },
  {
   "cell_type": "markdown",
   "metadata": {},
   "source": [
    "Save the training history."
   ]
  },
  {
   "cell_type": "code",
   "execution_count": 30,
   "metadata": {},
   "outputs": [],
   "source": [
    "with open(\"../assets/export/classifier/finetuning/mnist/history.txt\", \"w\") as file:\n",
    "    file.write(repr(history.history))"
   ]
  },
  {
   "cell_type": "markdown",
   "metadata": {},
   "source": [
    "We can load the history later."
   ]
  },
  {
   "cell_type": "code",
   "execution_count": null,
   "metadata": {},
   "outputs": [],
   "source": [
    "with open(\"../assets/export/classifier/finetuning/mnist/history.txt\", \"r\") as file:\n",
    "    data = file.read()\n",
    "history = eval(data)"
   ]
  }
 ],
 "metadata": {
  "accelerator": "GPU",
  "colab": {
   "collapsed_sections": [],
   "include_colab_link": true,
   "name": "x-pretrained-vgg-classification.ipynb",
   "provenance": []
  },
  "kernelspec": {
   "display_name": "Python 3",
   "language": "python",
   "name": "python3"
  },
  "language_info": {
   "codemirror_mode": {
    "name": "ipython",
    "version": 3
   },
   "file_extension": ".py",
   "mimetype": "text/x-python",
   "name": "python",
   "nbconvert_exporter": "python",
   "pygments_lexer": "ipython3",
   "version": "3.6.8"
  }
 },
 "nbformat": 4,
 "nbformat_minor": 2
}
